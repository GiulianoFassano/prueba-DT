{
  "cells": [
    {
      "cell_type": "markdown",
      "metadata": {
        "id": "view-in-github",
        "colab_type": "text"
      },
      "source": [
        "<a href=\"https://colab.research.google.com/github/GiulianoFassano/prueba-DT/blob/master/GiulianoFassano_Proyecto2_13_9.ipynb\" target=\"_parent\"><img src=\"https://colab.research.google.com/assets/colab-badge.svg\" alt=\"Open In Colab\"/></a>"
      ]
    },
    {
      "cell_type": "markdown",
      "metadata": {
        "id": "angry-editing"
      },
      "source": [
        "# Proyecto Sprint 2"
      ],
      "id": "angry-editing"
    },
    {
      "cell_type": "markdown",
      "metadata": {
        "id": "interpreted-screening"
      },
      "source": [
        "Recientemente te has incorporado al equipo de Datos de una gran inmobiliaria. La primera tarea que te fue asignada fue ayudar a los tasadores/as a valuar las propiedades, ya que es un proceso difícil y, a veces, subjetivo. Para ello, se esperó que puedas crear un modelo de Machine Learning que, dadas ciertas características de la propiedad, prediga su precio de venta.\n",
        "\n",
        "Ya has tenido una primera aproximación a este problema, pero ahora quieres estudiar si es posible mejorar su desempeño y obtener una visión más profunda del problema. Para ello, debes aplicar transformaciones de datos y entrenar algunos Modelos Avanzados. ¿Qué puedes aprender del problema que estás abordando mediante el estudio de tu propio modelo?"
      ],
      "id": "interpreted-screening"
    },
    {
      "cell_type": "markdown",
      "metadata": {
        "id": "copyrighted-printer"
      },
      "source": [
        "PARTE A - Transformación de Datos\n",
        "\n",
        "Elige cuáles de las siguientes tareas son apropiadas para su dataset. Justifica e implementa:\n",
        "\n",
        "1. Detección y eliminación de Outliers\n",
        "\n",
        "2. Encoding\n",
        "\n",
        "3. Imputación de valores faltantes\n",
        "\n",
        "4. Escalado de datos\n",
        "\n",
        "5. Generación de nuevas variables predictoras/reducción de dimensionalidad (SVD/PCA).\n",
        "\n",
        "Vuelve a entrenar el modelo implementado en la Entrega 01 - en particular, el árbol de decisión - y evalúa su desempeño a partir del dataset obtenido luego de transformar los datos. ¿Hay una mejora en su desempeño? Sea cual sea la respuesta, intenta explicar a qué se debe.\n",
        "\n",
        "PARTE B - Modelos Avanzados\n",
        "\n",
        "6. Elige dos de los modelos avanzados vistos (en el caso de regresión, considera una regresión lineal con atributos polinómicos y regularización). Entrénalos y evalúalos con sus argumentos por defecto. No te olvides de hacer un train/test split y usar Validación Cruzada.\n",
        "\n",
        "7. Optimiza sus hiperparámetros mediante Validación Cruzada y Grid Search o Random Search.\n",
        "\n",
        "8. Compara el desempeño de los nuevos modelos entre sí y con el modelo de la Parte A. ¿Cuál elegirías? Justifica.\n",
        "\n",
        "PARTE C - Interpretación de modelos\n",
        "\n",
        "De acuerdo a lo que el modelo permite, responde algunas o todas las siguientes preguntas:\n",
        "\n",
        "9. ¿Qué variables fueron relevantes para el modelo para hacer una predicción? ¿Cuáles no? Si usaste una regresión lineal con regularización, presta atención a los parámetros (pendientes) obtenidas. Si usaste un modelo de ensamble en árboles, además de ver la importancia de cada atributo, también elige algunos árboles al azar y observa qué atributos considera importantes. ¿En qué se diferencian esos árboles? ¿Por qué? Finalmente, responde, ¿coincide con lo que esperabas a partir de tu experiencia con este dataset?\n",
        "\n",
        "10. ¿Cómo es la distribución de errores (regresión) o qué clases se confunden entre sí (clasificación)? ¿Dónde falla? ¿A qué se debe?\n",
        "\n",
        "CIERRE\n",
        "\n",
        "11. Escribe las conclusiones \n",
        "\n",
        "DESAFÍO OPCIONAL\n",
        "\n",
        "12. Implementa una transformación distinta a la que probaste anteriormente \n",
        "\n",
        "13. Aplica una técnica de Clustering sobre el dataset. Puedes combinar con técnicas de reducción de dimensionalidad para facilitar la visualización. ¿Qué clusters encuentras? ¿A qué pueden corresponder? Te dejamos preguntas que pueden servir como disparadoras: ¿qué barrios se parecen más entre sí?¿qué tipos de propiedades se parecen más entre sí?"
      ],
      "id": "copyrighted-printer"
    },
    {
      "cell_type": "markdown",
      "metadata": {
        "id": "passing-ontario"
      },
      "source": [
        "Primero realizo el mismo análisis del sprint 1.\n",
        "- El objetivo final del trabajo es ayudar a los evaluadores/as a obtener de mejor manera los precios y valores de las propiedades.\n",
        "\n",
        "- Los datos que, según analizar en base algunas páginas de propiedades y en google, ayudarán a determinar el valor de una vivienda serán:\n",
        "       1. ubicación\n",
        "       2. dimensiones\n",
        "       3. distribución\n",
        "       4. amenities\n",
        "       5. si dispone de quincho/piscina\n",
        "       6. si se encuentra en un barrio cerrado\n",
        "       7. la calidad de la construcción\n",
        "- Dicho esto, hice un análisis de la página de properati, observando cuales son las características que si o si solicitan a la hora de cargar una vivienda. Resultando raro que la superficie total no sea obligatorio. Supongo que más adelante entenderé el porque.\n",
        "\n",
        "- Es primordial contar con una base de datos correcta, con datos claros y reales. En nuestro caso la base de datos ya la tenemos, pero es super necesario siempre entender el mercado, la situación del país, seguridad, etc.\n",
        "\n",
        "\n",
        "Conclusión\n",
        "\n",
        "Determinando como cada uno de esos elementos afecta el precio final, deberíamos poder determinar un precio por metro cuadrado en cada caso.\n",
        "\n",
        "ANALISIS DE LAS COLUMNAS\n",
        "\n",
        "Fechas:\n",
        "- start_date: Fecha de comienzo de la publicacion.\n",
        "\n",
        "- end_date: Fecha de finalizacion de la publicacion\n",
        "\n",
        "- created_on: Arroja misma fecha que start_date.\n",
        "\n",
        "    No se tomaran en cuenta, ya que el precio de todas las publicaciones esta fijado en dolares. Esto no significa que no varian los precios a traves del tiempo, aunque en caso de haber sido en pesos era una variable relevante.\n",
        "\n",
        "Ubicacion:\n",
        "- lat: latitud\n",
        "\n",
        "- lon: longitud\n",
        "\n",
        "- l1: pais\n",
        "\n",
        "- l2: zonas\n",
        "\n",
        "- l3: localidades\n",
        "\n",
        "    l1 (Argentina no tiene sentido), l2 y l3, son buenas explicativas de la ubicacion pero latitud y longitud son mas precisas ya que distingue la ubicacion exacta dentro de la cada localidad. Aunque habria que analizar si hay alguna consecuencia futura por la escala que maneja dicha variable.\n",
        "\n",
        "Tamaño:\n",
        "- rooms\n",
        "\n",
        "- bedrooms\n",
        "\n",
        "- bathrooms\n",
        "\n",
        "- surface_total\n",
        "\n",
        "- surface_covered\n",
        "\n",
        "    Todas son relevantes, seria necesario evaluar la incidencia de cada una de estas.\n",
        "\n",
        "Precio:\n",
        "\n",
        "- price: variable a predecir\n",
        "- currency: no tiene sentido, son todas en dolares\n",
        "\n",
        "Opreacion y tipo:\n",
        "- title: titulo de la publicacion\n",
        "\n",
        "- description: Seria muy dificil utilizarla para evaluar la incidencia en el precio, aunque puede ser muy util para analizar detalles sobre alguna propiedad en particular (clave para identificar errores).\n",
        "\n",
        "- property_type: Variable importante para el analisis, especialmente para el analisis exploratorio de datos, en donde podemos distinguir las caracteristicas de las propiedades segun el tipo.\n",
        "\n",
        "- operation_type: No tiene sentido, son todas ventas."
      ],
      "id": "passing-ontario"
    },
    {
      "cell_type": "markdown",
      "metadata": {
        "id": "sought-berlin"
      },
      "source": [
        "# IMPORTACIÓN DE LIBRERIAS"
      ],
      "id": "sought-berlin"
    },
    {
      "cell_type": "code",
      "execution_count": null,
      "metadata": {
        "id": "wOsAl1lsKdHv",
        "colab": {
          "base_uri": "https://localhost:8080/"
        },
        "outputId": "a35ea062-603d-4fe6-addf-d3d3168f9170"
      },
      "outputs": [
        {
          "output_type": "stream",
          "name": "stdout",
          "text": [
            "Requirement already satisfied: feature_engine in /usr/local/lib/python3.7/dist-packages (1.2.0)\n",
            "Requirement already satisfied: statsmodels>=0.11.1 in /usr/local/lib/python3.7/dist-packages (from feature_engine) (0.13.2)\n",
            "Requirement already satisfied: numpy>=1.18.2 in /usr/local/lib/python3.7/dist-packages (from feature_engine) (1.19.5)\n",
            "Requirement already satisfied: scipy>=1.4.1 in /usr/local/lib/python3.7/dist-packages (from feature_engine) (1.5.4)\n",
            "Requirement already satisfied: pandas>=1.0.3 in /usr/local/lib/python3.7/dist-packages (from feature_engine) (1.3.5)\n",
            "Requirement already satisfied: scikit-learn>=0.22.2 in /usr/local/lib/python3.7/dist-packages (from feature_engine) (0.23.2)\n",
            "Requirement already satisfied: python-dateutil>=2.7.3 in /usr/local/lib/python3.7/dist-packages (from pandas>=1.0.3->feature_engine) (2.8.2)\n",
            "Requirement already satisfied: pytz>=2017.3 in /usr/local/lib/python3.7/dist-packages (from pandas>=1.0.3->feature_engine) (2018.9)\n",
            "Requirement already satisfied: six>=1.5 in /usr/local/lib/python3.7/dist-packages (from python-dateutil>=2.7.3->pandas>=1.0.3->feature_engine) (1.15.0)\n",
            "Requirement already satisfied: joblib>=0.11 in /usr/local/lib/python3.7/dist-packages (from scikit-learn>=0.22.2->feature_engine) (1.0.1)\n",
            "Requirement already satisfied: threadpoolctl>=2.0.0 in /usr/local/lib/python3.7/dist-packages (from scikit-learn>=0.22.2->feature_engine) (3.1.0)\n",
            "Requirement already satisfied: patsy>=0.5.2 in /usr/local/lib/python3.7/dist-packages (from statsmodels>=0.11.1->feature_engine) (0.5.2)\n",
            "Requirement already satisfied: packaging>=21.3 in /usr/local/lib/python3.7/dist-packages (from statsmodels>=0.11.1->feature_engine) (21.3)\n",
            "Requirement already satisfied: pyparsing!=3.0.5,>=2.0.2 in /usr/local/lib/python3.7/dist-packages (from packaging>=21.3->statsmodels>=0.11.1->feature_engine) (3.0.7)\n",
            "Requirement already satisfied: category_encoders in /usr/local/lib/python3.7/dist-packages (2.3.0)\n",
            "Requirement already satisfied: scipy>=1.0.0 in /usr/local/lib/python3.7/dist-packages (from category_encoders) (1.5.4)\n",
            "Requirement already satisfied: scikit-learn>=0.20.0 in /usr/local/lib/python3.7/dist-packages (from category_encoders) (0.23.2)\n",
            "Requirement already satisfied: patsy>=0.5.1 in /usr/local/lib/python3.7/dist-packages (from category_encoders) (0.5.2)\n",
            "Requirement already satisfied: pandas>=0.21.1 in /usr/local/lib/python3.7/dist-packages (from category_encoders) (1.3.5)\n",
            "Requirement already satisfied: numpy>=1.14.0 in /usr/local/lib/python3.7/dist-packages (from category_encoders) (1.19.5)\n",
            "Requirement already satisfied: statsmodels>=0.9.0 in /usr/local/lib/python3.7/dist-packages (from category_encoders) (0.13.2)\n",
            "Requirement already satisfied: pytz>=2017.3 in /usr/local/lib/python3.7/dist-packages (from pandas>=0.21.1->category_encoders) (2018.9)\n",
            "Requirement already satisfied: python-dateutil>=2.7.3 in /usr/local/lib/python3.7/dist-packages (from pandas>=0.21.1->category_encoders) (2.8.2)\n",
            "Requirement already satisfied: six in /usr/local/lib/python3.7/dist-packages (from patsy>=0.5.1->category_encoders) (1.15.0)\n",
            "Requirement already satisfied: threadpoolctl>=2.0.0 in /usr/local/lib/python3.7/dist-packages (from scikit-learn>=0.20.0->category_encoders) (3.1.0)\n",
            "Requirement already satisfied: joblib>=0.11 in /usr/local/lib/python3.7/dist-packages (from scikit-learn>=0.20.0->category_encoders) (1.0.1)\n",
            "Requirement already satisfied: packaging>=21.3 in /usr/local/lib/python3.7/dist-packages (from statsmodels>=0.9.0->category_encoders) (21.3)\n",
            "Requirement already satisfied: pyparsing!=3.0.5,>=2.0.2 in /usr/local/lib/python3.7/dist-packages (from packaging>=21.3->statsmodels>=0.9.0->category_encoders) (3.0.7)\n",
            "Requirement already satisfied: fitter in /usr/local/lib/python3.7/dist-packages (1.4.0)\n",
            "Requirement already satisfied: joblib in /usr/local/lib/python3.7/dist-packages (from fitter) (1.0.1)\n",
            "Requirement already satisfied: numpy in /usr/local/lib/python3.7/dist-packages (from fitter) (1.19.5)\n",
            "Requirement already satisfied: scipy>=0.18 in /usr/local/lib/python3.7/dist-packages (from fitter) (1.5.4)\n",
            "Requirement already satisfied: pandas in /usr/local/lib/python3.7/dist-packages (from fitter) (1.3.5)\n",
            "Requirement already satisfied: easydev in /usr/local/lib/python3.7/dist-packages (from fitter) (0.12.0)\n",
            "Requirement already satisfied: click in /usr/local/lib/python3.7/dist-packages (from fitter) (7.1.2)\n",
            "Requirement already satisfied: matplotlib in /usr/local/lib/python3.7/dist-packages (from fitter) (3.2.2)\n",
            "Requirement already satisfied: colorama in /usr/local/lib/python3.7/dist-packages (from easydev->fitter) (0.4.4)\n",
            "Requirement already satisfied: pexpect in /usr/local/lib/python3.7/dist-packages (from easydev->fitter) (4.8.0)\n",
            "Requirement already satisfied: colorlog in /usr/local/lib/python3.7/dist-packages (from easydev->fitter) (6.6.0)\n",
            "Requirement already satisfied: cycler>=0.10 in /usr/local/lib/python3.7/dist-packages (from matplotlib->fitter) (0.11.0)\n",
            "Requirement already satisfied: python-dateutil>=2.1 in /usr/local/lib/python3.7/dist-packages (from matplotlib->fitter) (2.8.2)\n",
            "Requirement already satisfied: pyparsing!=2.0.4,!=2.1.2,!=2.1.6,>=2.0.1 in /usr/local/lib/python3.7/dist-packages (from matplotlib->fitter) (3.0.7)\n",
            "Requirement already satisfied: kiwisolver>=1.0.1 in /usr/local/lib/python3.7/dist-packages (from matplotlib->fitter) (1.3.2)\n",
            "Requirement already satisfied: six>=1.5 in /usr/local/lib/python3.7/dist-packages (from python-dateutil>=2.1->matplotlib->fitter) (1.15.0)\n",
            "Requirement already satisfied: pytz>=2017.3 in /usr/local/lib/python3.7/dist-packages (from pandas->fitter) (2018.9)\n",
            "Requirement already satisfied: ptyprocess>=0.5 in /usr/local/lib/python3.7/dist-packages (from pexpect->easydev->fitter) (0.7.0)\n",
            "Requirement already satisfied: scikit-learn in /usr/local/lib/python3.7/dist-packages (0.23.2)\n",
            "Requirement already satisfied: threadpoolctl>=2.0.0 in /usr/local/lib/python3.7/dist-packages (from scikit-learn) (3.1.0)\n",
            "Requirement already satisfied: scipy>=0.19.1 in /usr/local/lib/python3.7/dist-packages (from scikit-learn) (1.5.4)\n",
            "Requirement already satisfied: numpy>=1.13.3 in /usr/local/lib/python3.7/dist-packages (from scikit-learn) (1.19.5)\n",
            "Requirement already satisfied: joblib>=0.11 in /usr/local/lib/python3.7/dist-packages (from scikit-learn) (1.0.1)\n"
          ]
        }
      ],
      "source": [
        "!pip install feature_engine\n",
        "!pip install category_encoders\n",
        "!pip install fitter\n",
        "!pip install scikit-learn"
      ],
      "id": "wOsAl1lsKdHv"
    },
    {
      "cell_type": "code",
      "execution_count": null,
      "metadata": {
        "id": "center-canada"
      },
      "outputs": [],
      "source": [
        "# Tratamiento de datos\n",
        "# ==============================================================================\n",
        "import numpy as np\n",
        "import pandas as pd\n",
        "from tabulate import tabulate\n",
        "\n",
        "# Gráficos\n",
        "# ==============================================================================\n",
        "from matplotlib import pyplot as plt\n",
        "import matplotlib.pyplot as plt\n",
        "from matplotlib import style\n",
        "import matplotlib.ticker as ticker\n",
        "import seaborn as sns\n",
        "\n",
        "# Preprocesado y modelado\n",
        "# ==============================================================================\n",
        "from sklearn.model_selection import train_test_split\n",
        "from sklearn.model_selection import GridSearchCV\n",
        "from sklearn.model_selection import RepeatedKFold\n",
        "from sklearn.neighbors import KNeighborsClassifier\n",
        "from sklearn.datasets import make_blobs\n",
        "from sklearn.metrics import euclidean_distances\n",
        "from sklearn.neighbors import KNeighborsClassifier\n",
        "from sklearn.ensemble import RandomForestClassifier\n",
        "from sklearn.linear_model import LinearRegression\n",
        "from sklearn.tree import DecisionTreeRegressor\n",
        "from sklearn.metrics import mean_squared_error\n",
        "from sklearn.metrics import r2_score\n",
        "from sklearn.metrics import mean_absolute_error\n",
        "from sklearn.preprocessing import StandardScaler, OneHotEncoder\n",
        "\n",
        "#importo las librerias de pipeline\n",
        "import feature_engine\n",
        "import category_encoders as ce\n",
        "from imblearn.pipeline import Pipeline\n",
        "from feature_engine.imputation import AddMissingIndicator, CategoricalImputer, MeanMedianImputer, ArbitraryNumberImputer \n",
        "from feature_engine.selection import DropConstantFeatures, DropCorrelatedFeatures, SmartCorrelatedSelection\n",
        "from feature_engine.encoding import RareLabelEncoder, MeanEncoder\n",
        "from sklearn.compose import ColumnTransformer\n",
        "\n",
        "##from skopt.space import Real, Integer\n",
        "##from skopt.utils import use_named_args\n",
        "##from skopt import gp_minimize\n",
        "##from skopt.plots import plot_convergence\n",
        "\n",
        "# Varios\n",
        "# ==============================================================================\n",
        "import multiprocessing\n",
        "import random\n",
        "from itertools import product\n",
        "from fitter import Fitter, get_common_distributions\n",
        "\n",
        "# Librería para medir tiempos\n",
        "import time"
      ],
      "id": "center-canada"
    },
    {
      "cell_type": "code",
      "execution_count": null,
      "metadata": {
        "id": "579c135a"
      },
      "outputs": [],
      "source": [
        "# Configuración matplotlib\n",
        "# ==============================================================================\n",
        "plt.rcParams['image.cmap'] = \"bwr\"\n",
        "#plt.rcParams['figure.dpi'] = \"100\"\n",
        "plt.rcParams['savefig.bbox'] = \"tight\"\n",
        "style.use('ggplot') or plt.style.use('ggplot')\n"
      ],
      "id": "579c135a"
    },
    {
      "cell_type": "code",
      "execution_count": null,
      "metadata": {
        "id": "several-bearing"
      },
      "outputs": [],
      "source": [
        "# Tomamos el tiempo de inicio de ejecucion\n",
        "start_time = time.time()"
      ],
      "id": "several-bearing"
    },
    {
      "cell_type": "code",
      "execution_count": null,
      "metadata": {
        "id": "hungry-chinese",
        "colab": {
          "base_uri": "https://localhost:8080/",
          "height": 16
        },
        "outputId": "0088fa1b-b989-4c8d-d6b1-c555232cfc80"
      },
      "outputs": [
        {
          "output_type": "display_data",
          "data": {
            "text/html": [
              "<style>.container { width:100% !important; }</style>"
            ],
            "text/plain": [
              "<IPython.core.display.HTML object>"
            ]
          },
          "metadata": {}
        }
      ],
      "source": [
        "#Seteamos para que no utilice notacion cientifica\n",
        "pd.options.display.float_format = '{:.4f}'.format\n",
        "#Seteo para que el máximo de columnas que muestra al levantar una base sean 500\n",
        "pd.set_option('display.max_columns',500)\n",
        "#Estos códigos hacen que la visualización de la consola abarque toda la pantalla (sin los recortes a los costados). Tambien hacen que al mostrar dataframes podamos ver todas las columnas que tiene.\n",
        "from IPython.core.display import display, HTML\n",
        "display(HTML(\"<style>.container { width:100% !important; }</style>\"))\n",
        "\n",
        "\n",
        "# Codigo para poder imprimir multiples outputs en una misma línea\n",
        "from IPython.core.interactiveshell import InteractiveShell\n",
        "InteractiveShell.ast_node_interactivity = \"all\""
      ],
      "id": "hungry-chinese"
    },
    {
      "cell_type": "markdown",
      "metadata": {
        "id": "specified-disclaimer"
      },
      "source": [
        "# Modelo realizado en el Sprint 1"
      ],
      "id": "specified-disclaimer"
    },
    {
      "cell_type": "code",
      "execution_count": null,
      "metadata": {
        "id": "sharp-potato",
        "colab": {
          "base_uri": "https://localhost:8080/"
        },
        "outputId": "aac9ce53-c55a-45e3-902a-37b48f99548f"
      },
      "outputs": [
        {
          "output_type": "stream",
          "name": "stdout",
          "text": [
            "Drive already mounted at /content/gdrive; to attempt to forcibly remount, call drive.mount(\"/content/gdrive\", force_remount=True).\n",
            "[Errno 2] No such file or directory: '/gdrive'\n",
            "/content\n"
          ]
        }
      ],
      "source": [
        "from google.colab import drive\n",
        "drive.mount('/content/gdrive')\n",
        "%cd /gdrive\n"
      ],
      "id": "sharp-potato"
    },
    {
      "cell_type": "code",
      "execution_count": null,
      "metadata": {
        "id": "sTZUtjZlwzPJ",
        "colab": {
          "base_uri": "https://localhost:8080/"
        },
        "outputId": "2475a6d2-eceb-4a9b-f6e4-b54bd6cdfdc7"
      },
      "outputs": [
        {
          "output_type": "stream",
          "name": "stdout",
          "text": [
            "nombres de las columnas:  Index(['ambientes', 'dormitorios', 'baños', 'superficie',\n",
            "       'superficie_cubierta', 'precio'],\n",
            "      dtype='object')\n",
            "cantidad de filas y columnas:  (81019, 6)\n"
          ]
        }
      ],
      "source": [
        "datap = pd.read_csv(\"/content/gdrive/MyDrive/ACAMICA - DS/proyecto 2/DS_Proyecto_01_Datos_Properati.csv\")\n",
        "df = pd.DataFrame (datap[datap.property_type.isin([\"Departamento\", \"PH\", \"Casa\"]) & datap.l2.isin([\"Capital Federal\"])])\n",
        "df.columns = [\"inicio\", \"finalización\", \"creado\", \"latitud\", \"longitud\", \"pais\", \"region\", \"localidad\", \"ambientes\", \"dormitorios\", \"baños\", \"superficie\", \"superficie_cubierta\", \"precio\", \"moneda\", \"titulo\", \"descripcion\", \"tipo\", \"tipo_de_operacion\"]\n",
        "df = pd.DataFrame (df[(df.superficie >= 15) & (df.superficie <= 1000)])\n",
        "df = pd.DataFrame (df[(df.precio <= 4000000)])\n",
        "df = df[[\"ambientes\", \"dormitorios\", \"baños\", \"superficie\", \"superficie_cubierta\", \"precio\"]]\n",
        "df = df.dropna()\n",
        "print(\"nombres de las columnas: \", df.columns)\n",
        "print(\"cantidad de filas y columnas: \", df.shape)"
      ],
      "id": "sTZUtjZlwzPJ"
    },
    {
      "cell_type": "code",
      "execution_count": null,
      "metadata": {
        "id": "academic-armstrong",
        "colab": {
          "base_uri": "https://localhost:8080/"
        },
        "outputId": "7f3e5f7f-c092-4465-d918-28ac3f8f7526"
      },
      "outputs": [
        {
          "output_type": "execute_result",
          "data": {
            "text/plain": [
              "DecisionTreeRegressor(max_depth=10, random_state=42)"
            ]
          },
          "metadata": {},
          "execution_count": 365
        }
      ],
      "source": [
        "#elegimos las variables X e Y\n",
        "X = df[[\"ambientes\", \"dormitorios\", \"baños\", \"superficie\", \"superficie_cubierta\"]]\n",
        "y = df[[\"precio\"]]\n",
        "\n",
        "X_train, X_test, y_train, y_test = train_test_split(X, y, test_size=0.30, random_state = 42)\n",
        "\n",
        "#definimos el modelo\n",
        "tree_regressor = DecisionTreeRegressor(max_depth=10, random_state=42).fit(X_train, y_train)\n",
        "\n",
        "#entrenamos los modelos\n",
        "\n",
        "tree_regressor.fit(X_train, y_train)\n"
      ],
      "id": "academic-armstrong"
    },
    {
      "cell_type": "code",
      "execution_count": null,
      "metadata": {
        "id": "powerful-gibson"
      },
      "outputs": [],
      "source": [
        "#realizamos una estimación de los test con el modelo entrenado.\n",
        "\n",
        "y_train_pred = tree_regressor.predict(X_train).round(2)\n",
        "y_test_pred = tree_regressor.predict(X_test).round(2)"
      ],
      "id": "powerful-gibson"
    },
    {
      "cell_type": "code",
      "execution_count": null,
      "metadata": {
        "id": "noble-encounter",
        "colab": {
          "base_uri": "https://localhost:8080/"
        },
        "outputId": "35a372f6-e3c1-4d16-ece2-dd1c0fc49e4e"
      },
      "outputs": [
        {
          "output_type": "stream",
          "name": "stdout",
          "text": [
            "Error cuadrático medio en Train (MSE): 14592036210.0\n",
            "Error cuadrático medio en Test (MSE): 23393909768.0\n",
            "Error absoluto medio en Train (MAE): 58639.0\n",
            "Error absoluto medio en Test (MAE): 65881.0\n",
            "Raíz del error cuadrático medio en Train (RMSE): 120798.0\n",
            "Raíz del error cuadrático medio en Test (RMSE): 152951.0\n",
            "El coeficiente de determinación en train es: 0.8351328504335362\n",
            "El coeficiente de determinación en test es: 0.7439967064803783\n"
          ]
        }
      ],
      "source": [
        "#Metricas del modelo realizado en el step 1. Con los que se comparará los siguientes:\n",
        "mse_train = mean_squared_error(y_train, y_train_pred)\n",
        "mse_test = mean_squared_error(y_test, y_test_pred)\n",
        "print(f'Error cuadrático medio en Train (MSE): {mse_train.round()}')\n",
        "print(f'Error cuadrático medio en Test (MSE): {mse_test.round()}')\n",
        "\n",
        "mae_train = mean_absolute_error(y_train, y_train_pred)\n",
        "mae_test = mean_absolute_error(y_test, y_test_pred)\n",
        "print(f'Error absoluto medio en Train (MAE): {mae_train.round()}')\n",
        "print(f'Error absoluto medio en Test (MAE): {mae_test.round()}')\n",
        "\n",
        "rmse_train = np.sqrt(mean_squared_error(y_train, y_train_pred))\n",
        "rmse_test = np.sqrt(mean_squared_error(y_test, y_test_pred))\n",
        "print(f'Raíz del error cuadrático medio en Train (RMSE): {rmse_train.round()}')\n",
        "print(f'Raíz del error cuadrático medio en Test (RMSE): {rmse_test.round()}')\n",
        "\n",
        "Coeficiente_determinación_train = r2_score(y_train, y_train_pred)\n",
        "Coeficiente_determinación_test = r2_score(y_test, y_test_pred)\n",
        "print(f'El coeficiente de determinación en train es: {Coeficiente_determinación_train}')\n",
        "print(f'El coeficiente de determinación en test es: {Coeficiente_determinación_test}')"
      ],
      "id": "noble-encounter"
    },
    {
      "cell_type": "markdown",
      "metadata": {
        "id": "urban-miracle"
      },
      "source": [
        "# Comenzamos a trabajar el sprint 2"
      ],
      "id": "urban-miracle"
    },
    {
      "cell_type": "code",
      "execution_count": null,
      "metadata": {
        "id": "earlier-american",
        "colab": {
          "base_uri": "https://localhost:8080/"
        },
        "outputId": "d395d95b-fc9c-4a9c-d1ec-a86059cb97f2"
      },
      "outputs": [
        {
          "output_type": "stream",
          "name": "stdout",
          "text": [
            "nombres de las columnas:  Index(['latitud', 'longitud', 'pais', 'region', 'localidad', 'ambientes',\n",
            "       'dormitorios', 'baños', 'superficie', 'superficie_cubierta', 'precio',\n",
            "       'tipo'],\n",
            "      dtype='object')\n",
            "cantidad de filas y columnas:  (146660, 12)\n"
          ]
        }
      ],
      "source": [
        "# Traeremos el data set de properati, modifico los nombres de las columnas y elimino las que no voy a utilizar.\n",
        "df = pd.read_csv(\"/content/gdrive/MyDrive/ACAMICA - DS/proyecto 2/DS_Proyecto_01_Datos_Properati.csv\")\n",
        "df.columns = [\"inicio\", \"finalización\", \"creado\", \"latitud\", \"longitud\", \"pais\", \"region\", \"localidad\", \"ambientes\", \"dormitorios\", \"baños\", \"superficie\", \"superficie_cubierta\", \"precio\", \"moneda\", \"titulo\", \"descripcion\", \"tipo\", \"tipo_de_operacion\"]\n",
        "df = df[[\"latitud\", \"longitud\", \"pais\", \"region\", \"localidad\", \"ambientes\", \"dormitorios\", \"baños\", \"superficie\", \"superficie_cubierta\", \"precio\", \"tipo\"]]\n",
        "\n",
        "print(\"nombres de las columnas: \", df.columns)\n",
        "print(\"cantidad de filas y columnas: \", df.shape)"
      ],
      "id": "earlier-american"
    },
    {
      "cell_type": "code",
      "execution_count": null,
      "metadata": {
        "id": "academic-neighborhood",
        "colab": {
          "base_uri": "https://localhost:8080/",
          "height": 206
        },
        "outputId": "bedf1749-8bb9-4eed-c6ec-fd83709535fb"
      },
      "outputs": [
        {
          "output_type": "execute_result",
          "data": {
            "text/html": [
              "\n",
              "  <div id=\"df-f85eb341-6fba-403f-bead-bbf9b33b7c08\">\n",
              "    <div class=\"colab-df-container\">\n",
              "      <div>\n",
              "<style scoped>\n",
              "    .dataframe tbody tr th:only-of-type {\n",
              "        vertical-align: middle;\n",
              "    }\n",
              "\n",
              "    .dataframe tbody tr th {\n",
              "        vertical-align: top;\n",
              "    }\n",
              "\n",
              "    .dataframe thead th {\n",
              "        text-align: right;\n",
              "    }\n",
              "</style>\n",
              "<table border=\"1\" class=\"dataframe\">\n",
              "  <thead>\n",
              "    <tr style=\"text-align: right;\">\n",
              "      <th></th>\n",
              "      <th>latitud</th>\n",
              "      <th>longitud</th>\n",
              "      <th>pais</th>\n",
              "      <th>region</th>\n",
              "      <th>localidad</th>\n",
              "      <th>ambientes</th>\n",
              "      <th>dormitorios</th>\n",
              "      <th>baños</th>\n",
              "      <th>superficie</th>\n",
              "      <th>superficie_cubierta</th>\n",
              "      <th>precio</th>\n",
              "      <th>tipo</th>\n",
              "    </tr>\n",
              "  </thead>\n",
              "  <tbody>\n",
              "    <tr>\n",
              "      <th>0</th>\n",
              "      <td>-34.6059</td>\n",
              "      <td>-58.3849</td>\n",
              "      <td>Argentina</td>\n",
              "      <td>Capital Federal</td>\n",
              "      <td>San Cristobal</td>\n",
              "      <td>7.0000</td>\n",
              "      <td>7.0000</td>\n",
              "      <td>2.0000</td>\n",
              "      <td>140.0000</td>\n",
              "      <td>140.0000</td>\n",
              "      <td>153000.0000</td>\n",
              "      <td>Departamento</td>\n",
              "    </tr>\n",
              "    <tr>\n",
              "      <th>1</th>\n",
              "      <td>-34.6241</td>\n",
              "      <td>-58.4121</td>\n",
              "      <td>Argentina</td>\n",
              "      <td>Capital Federal</td>\n",
              "      <td>Boedo</td>\n",
              "      <td>2.0000</td>\n",
              "      <td>1.0000</td>\n",
              "      <td>2.0000</td>\n",
              "      <td>70.0000</td>\n",
              "      <td>58.0000</td>\n",
              "      <td>159000.0000</td>\n",
              "      <td>PH</td>\n",
              "    </tr>\n",
              "    <tr>\n",
              "      <th>2</th>\n",
              "      <td>-34.5936</td>\n",
              "      <td>-58.4275</td>\n",
              "      <td>Argentina</td>\n",
              "      <td>Capital Federal</td>\n",
              "      <td>Palermo</td>\n",
              "      <td>2.0000</td>\n",
              "      <td>1.0000</td>\n",
              "      <td>1.0000</td>\n",
              "      <td>45.0000</td>\n",
              "      <td>45.0000</td>\n",
              "      <td>125000.0000</td>\n",
              "      <td>PH</td>\n",
              "    </tr>\n",
              "    <tr>\n",
              "      <th>3</th>\n",
              "      <td>-34.5813</td>\n",
              "      <td>-58.4368</td>\n",
              "      <td>Argentina</td>\n",
              "      <td>Capital Federal</td>\n",
              "      <td>Palermo</td>\n",
              "      <td>2.0000</td>\n",
              "      <td>1.0000</td>\n",
              "      <td>1.0000</td>\n",
              "      <td>85.0000</td>\n",
              "      <td>50.0000</td>\n",
              "      <td>295000.0000</td>\n",
              "      <td>PH</td>\n",
              "    </tr>\n",
              "    <tr>\n",
              "      <th>4</th>\n",
              "      <td>-34.9142</td>\n",
              "      <td>-57.9382</td>\n",
              "      <td>Argentina</td>\n",
              "      <td>Bs.As. G.B.A. Zona Sur</td>\n",
              "      <td>La Plata</td>\n",
              "      <td>2.0000</td>\n",
              "      <td>1.0000</td>\n",
              "      <td>1.0000</td>\n",
              "      <td>50.0000</td>\n",
              "      <td>35.0000</td>\n",
              "      <td>40000.0000</td>\n",
              "      <td>PH</td>\n",
              "    </tr>\n",
              "  </tbody>\n",
              "</table>\n",
              "</div>\n",
              "      <button class=\"colab-df-convert\" onclick=\"convertToInteractive('df-f85eb341-6fba-403f-bead-bbf9b33b7c08')\"\n",
              "              title=\"Convert this dataframe to an interactive table.\"\n",
              "              style=\"display:none;\">\n",
              "        \n",
              "  <svg xmlns=\"http://www.w3.org/2000/svg\" height=\"24px\"viewBox=\"0 0 24 24\"\n",
              "       width=\"24px\">\n",
              "    <path d=\"M0 0h24v24H0V0z\" fill=\"none\"/>\n",
              "    <path d=\"M18.56 5.44l.94 2.06.94-2.06 2.06-.94-2.06-.94-.94-2.06-.94 2.06-2.06.94zm-11 1L8.5 8.5l.94-2.06 2.06-.94-2.06-.94L8.5 2.5l-.94 2.06-2.06.94zm10 10l.94 2.06.94-2.06 2.06-.94-2.06-.94-.94-2.06-.94 2.06-2.06.94z\"/><path d=\"M17.41 7.96l-1.37-1.37c-.4-.4-.92-.59-1.43-.59-.52 0-1.04.2-1.43.59L10.3 9.45l-7.72 7.72c-.78.78-.78 2.05 0 2.83L4 21.41c.39.39.9.59 1.41.59.51 0 1.02-.2 1.41-.59l7.78-7.78 2.81-2.81c.8-.78.8-2.07 0-2.86zM5.41 20L4 18.59l7.72-7.72 1.47 1.35L5.41 20z\"/>\n",
              "  </svg>\n",
              "      </button>\n",
              "      \n",
              "  <style>\n",
              "    .colab-df-container {\n",
              "      display:flex;\n",
              "      flex-wrap:wrap;\n",
              "      gap: 12px;\n",
              "    }\n",
              "\n",
              "    .colab-df-convert {\n",
              "      background-color: #E8F0FE;\n",
              "      border: none;\n",
              "      border-radius: 50%;\n",
              "      cursor: pointer;\n",
              "      display: none;\n",
              "      fill: #1967D2;\n",
              "      height: 32px;\n",
              "      padding: 0 0 0 0;\n",
              "      width: 32px;\n",
              "    }\n",
              "\n",
              "    .colab-df-convert:hover {\n",
              "      background-color: #E2EBFA;\n",
              "      box-shadow: 0px 1px 2px rgba(60, 64, 67, 0.3), 0px 1px 3px 1px rgba(60, 64, 67, 0.15);\n",
              "      fill: #174EA6;\n",
              "    }\n",
              "\n",
              "    [theme=dark] .colab-df-convert {\n",
              "      background-color: #3B4455;\n",
              "      fill: #D2E3FC;\n",
              "    }\n",
              "\n",
              "    [theme=dark] .colab-df-convert:hover {\n",
              "      background-color: #434B5C;\n",
              "      box-shadow: 0px 1px 3px 1px rgba(0, 0, 0, 0.15);\n",
              "      filter: drop-shadow(0px 1px 2px rgba(0, 0, 0, 0.3));\n",
              "      fill: #FFFFFF;\n",
              "    }\n",
              "  </style>\n",
              "\n",
              "      <script>\n",
              "        const buttonEl =\n",
              "          document.querySelector('#df-f85eb341-6fba-403f-bead-bbf9b33b7c08 button.colab-df-convert');\n",
              "        buttonEl.style.display =\n",
              "          google.colab.kernel.accessAllowed ? 'block' : 'none';\n",
              "\n",
              "        async function convertToInteractive(key) {\n",
              "          const element = document.querySelector('#df-f85eb341-6fba-403f-bead-bbf9b33b7c08');\n",
              "          const dataTable =\n",
              "            await google.colab.kernel.invokeFunction('convertToInteractive',\n",
              "                                                     [key], {});\n",
              "          if (!dataTable) return;\n",
              "\n",
              "          const docLinkHtml = 'Like what you see? Visit the ' +\n",
              "            '<a target=\"_blank\" href=https://colab.research.google.com/notebooks/data_table.ipynb>data table notebook</a>'\n",
              "            + ' to learn more about interactive tables.';\n",
              "          element.innerHTML = '';\n",
              "          dataTable['output_type'] = 'display_data';\n",
              "          await google.colab.output.renderOutput(dataTable, element);\n",
              "          const docLink = document.createElement('div');\n",
              "          docLink.innerHTML = docLinkHtml;\n",
              "          element.appendChild(docLink);\n",
              "        }\n",
              "      </script>\n",
              "    </div>\n",
              "  </div>\n",
              "  "
            ],
            "text/plain": [
              "   latitud  longitud       pais                  region      localidad  \\\n",
              "0 -34.6059  -58.3849  Argentina         Capital Federal  San Cristobal   \n",
              "1 -34.6241  -58.4121  Argentina         Capital Federal          Boedo   \n",
              "2 -34.5936  -58.4275  Argentina         Capital Federal        Palermo   \n",
              "3 -34.5813  -58.4368  Argentina         Capital Federal        Palermo   \n",
              "4 -34.9142  -57.9382  Argentina  Bs.As. G.B.A. Zona Sur       La Plata   \n",
              "\n",
              "   ambientes  dormitorios  baños  superficie  superficie_cubierta      precio  \\\n",
              "0     7.0000       7.0000 2.0000    140.0000             140.0000 153000.0000   \n",
              "1     2.0000       1.0000 2.0000     70.0000              58.0000 159000.0000   \n",
              "2     2.0000       1.0000 1.0000     45.0000              45.0000 125000.0000   \n",
              "3     2.0000       1.0000 1.0000     85.0000              50.0000 295000.0000   \n",
              "4     2.0000       1.0000 1.0000     50.0000              35.0000  40000.0000   \n",
              "\n",
              "           tipo  \n",
              "0  Departamento  \n",
              "1            PH  \n",
              "2            PH  \n",
              "3            PH  \n",
              "4            PH  "
            ]
          },
          "metadata": {},
          "execution_count": 369
        }
      ],
      "source": [
        "df.head()"
      ],
      "id": "academic-neighborhood"
    },
    {
      "cell_type": "code",
      "execution_count": null,
      "metadata": {
        "id": "overall-model",
        "scrolled": true,
        "colab": {
          "base_uri": "https://localhost:8080/"
        },
        "outputId": "963610b2-f18b-4f52-cf36-a7c751ff8d78"
      },
      "outputs": [
        {
          "output_type": "execute_result",
          "data": {
            "text/plain": [
              "latitud                float64\n",
              "longitud               float64\n",
              "pais                    object\n",
              "region                  object\n",
              "localidad               object\n",
              "ambientes              float64\n",
              "dormitorios            float64\n",
              "baños                  float64\n",
              "superficie             float64\n",
              "superficie_cubierta    float64\n",
              "precio                 float64\n",
              "tipo                    object\n",
              "dtype: object"
            ]
          },
          "metadata": {},
          "execution_count": 370
        }
      ],
      "source": [
        "df.dtypes"
      ],
      "id": "overall-model"
    },
    {
      "cell_type": "code",
      "execution_count": null,
      "metadata": {
        "id": "modular-credits",
        "colab": {
          "base_uri": "https://localhost:8080/"
        },
        "outputId": "c4d3fecf-6e89-4870-9c14-5c32cb11bc5f"
      },
      "outputs": [
        {
          "output_type": "execute_result",
          "data": {
            "text/plain": [
              "tipo\n",
              "Casa             21521\n",
              "Departamento    107326\n",
              "PH               14298\n",
              "dtype: int64"
            ]
          },
          "metadata": {},
          "execution_count": 371
        }
      ],
      "source": [
        "#voy a elegir sólo Departamentos, PH y Casas. Ya que como se vió en el sprint uno son las mas importantes, \n",
        "#las que más cantidad tienen y para poder compararlo despues\n",
        "\n",
        "df = pd.DataFrame (df[df.tipo.isin([\"Departamento\", \"PH\", \"Casa\"])])\n",
        "df.groupby(\"tipo\").size()"
      ],
      "id": "modular-credits"
    },
    {
      "cell_type": "code",
      "execution_count": null,
      "metadata": {
        "id": "placed-savage",
        "colab": {
          "base_uri": "https://localhost:8080/"
        },
        "outputId": "960e877a-37d4-4441-9c1d-1fe9ab4dc0d0"
      },
      "outputs": [
        {
          "output_type": "execute_result",
          "data": {
            "text/plain": [
              "latitud                 9593\n",
              "longitud                9624\n",
              "pais                       0\n",
              "region                     0\n",
              "localidad                  0\n",
              "ambientes                  0\n",
              "dormitorios                0\n",
              "baños                   4211\n",
              "superficie             18623\n",
              "superficie_cubierta    18909\n",
              "precio                     0\n",
              "tipo                       0\n",
              "dtype: int64"
            ]
          },
          "metadata": {},
          "execution_count": 372
        }
      ],
      "source": [
        "df.isna().sum() #sumamos los valores nulos para comenzar con el pre procesamiento de datos."
      ],
      "id": "placed-savage"
    },
    {
      "cell_type": "markdown",
      "metadata": {
        "id": "turned-action"
      },
      "source": [
        "## PARTE A - Transformación de Datos"
      ],
      "id": "turned-action"
    },
    {
      "cell_type": "markdown",
      "metadata": {
        "id": "4860a437"
      },
      "source": [
        ""
      ],
      "id": "4860a437"
    },
    {
      "cell_type": "code",
      "source": [
        "#Gráfico de distribución para cada variable numérica\n",
        "\n",
        "fig, axes = plt.subplots(nrows=3, ncols=2, figsize=(10, 10))\n",
        "axes = axes.flat\n",
        "columnas_numeric = df.select_dtypes(include=['float64', 'int']).columns\n",
        "columnas_numeric = columnas_numeric.drop(['precio', 'latitud', 'longitud'])\n",
        "\n",
        "for i, colum in enumerate(columnas_numeric):\n",
        "    sns.histplot(\n",
        "        data    = df,\n",
        "        x       = colum,\n",
        "        stat    = \"count\",\n",
        "        kde     = True,\n",
        "        color   = (list(plt.rcParams['axes.prop_cycle'])*2)[i][\"color\"],\n",
        "        line_kws= {'linewidth': 2},\n",
        "        alpha   = 0.3,\n",
        "        ax      = axes[i]\n",
        "    )\n",
        "    axes[i].set_title(colum, fontsize = 7, fontweight = \"bold\")\n",
        "    axes[i].tick_params(labelsize = 6)\n",
        "    axes[i].set_xlabel(\"\")\n",
        "    \n",
        "    \n",
        "fig.tight_layout()\n",
        "plt.subplots_adjust(top = 0.9)\n",
        "fig.suptitle('Distribución variables numéricas', fontsize = 10, fontweight = \"bold\");"
      ],
      "metadata": {
        "colab": {
          "base_uri": "https://localhost:8080/",
          "height": 725
        },
        "id": "1fNjnVgr2M3a",
        "outputId": "76747199-f73d-4a5b-8e7d-2f78253fc33a"
      },
      "id": "1fNjnVgr2M3a",
      "execution_count": null,
      "outputs": [
        {
          "output_type": "display_data",
          "data": {
            "image/png": "[encoded data removed]",
            "text/plain": [
              "<Figure size 720x720 with 6 Axes>"
            ]
          },
          "metadata": {}
        }
      ]
    },
    {
      "cell_type": "code",
      "execution_count": null,
      "metadata": {
        "id": "fcf060a1",
        "colab": {
          "base_uri": "https://localhost:8080/",
          "height": 373
        },
        "outputId": "72fbfe2d-577e-4de1-9135-82bd2b3099c0"
      },
      "outputs": [
        {
          "output_type": "display_data",
          "data": {
            "image/png": "[encoded data removed]",
            "text/plain": [
              "<Figure size 648x360 with 4 Axes>"
            ]
          },
          "metadata": {}
        }
      ],
      "source": [
        "# Gráfico relación entre el precio y cada cada variables cualitativas\n",
        "# ==============================================================================\n",
        "fig, axes = plt.subplots(nrows=2, ncols=2, figsize=(9, 5))\n",
        "axes = axes.flat\n",
        "columnas_object = df.select_dtypes(include=['object']).columns\n",
        "\n",
        "for i, colum in enumerate(columnas_object):\n",
        "    sns.violinplot(\n",
        "        x     = colum,\n",
        "        y     = 'precio',\n",
        "        data  = df,\n",
        "        color = \"white\",\n",
        "        ax    = axes[i]\n",
        "    )\n",
        "    axes[i].set_title(f\"precio vs {colum}\", fontsize = 6, fontweight = \"bold\")\n",
        "    axes[i].yaxis.set_major_formatter(ticker.EngFormatter())\n",
        "    axes[i].tick_params(labelsize = 6)\n",
        "    axes[i].set_xlabel(\"\")\n",
        "    axes[i].set_ylabel(\"\")\n",
        "\n",
        "\n",
        "fig.tight_layout()\n",
        "plt.subplots_adjust(top=0.9)\n",
        "fig.suptitle('Distribución del precio por grupo', fontsize = 10, fontweight = \"bold\");"
      ],
      "id": "fcf060a1"
    },
    {
      "cell_type": "markdown",
      "metadata": {
        "id": "4ed4a685"
      },
      "source": [
        "### 1. Imputación de valores faltantes\n",
        "\n",
        "Como observamos en los 3 puntos anteriores, tenemos valores faltantes en latitud y longitud, en baños y en superficies. Y sólo en variables numericas. Para completarlo realizaremos lo siguiente:\n",
        "1. Baños tendremos en cuenta la mediana (teniendo en cuenta los datos y la distribución observada) siempre y cuando siga la logica de 1 baño en departamentos y ph y 2 o 3 en casas. Elijo la mediana y no la media para no corroer la distribución.\n",
        "2. Latitud y longitud lo haremos en base a cada uno de los barrios. Es decir, buscaremos la mediana de cada barrio y le pondremos dicha media dependiendo en que barrio se encuentra. Al elegir la mediana del barrio, se entiende que si o si la latitud y la longitud cae en ese valor. Ya si vamos muy minusioso podriamos estar infravalorando a casas que caen en calles importantes, pero se entiende que por la cantidad de datos no sería tan importante.\n",
        "3. Superficies es un poco más complicado encontrar la forma, ya que deberíamos crear un modelo para determinar dichos valores. Lo que si podemos definir es a los datos de superficie total vacios, ponerle la superficie cubierta y viceversa. Otra opción para el resto es buscar la mediana de metros cuadrados dependiendo tipo de propiedad o hacer un análisis en base a precio (que se analizará al llegar, pero que por la cantidad de datos y porque podríamos estar siendo demasiados subjetivos, no es recomendable)."
      ],
      "id": "4ed4a685"
    },
    {
      "cell_type": "markdown",
      "metadata": {
        "id": "coral-internship"
      },
      "source": [
        "#### Baños"
      ],
      "id": "coral-internship"
    },
    {
      "cell_type": "code",
      "execution_count": null,
      "metadata": {
        "id": "powered-management",
        "colab": {
          "base_uri": "https://localhost:8080/",
          "height": 143
        },
        "outputId": "bed06e74-4cf6-44c5-d569-9e6e64bd0ddb"
      },
      "outputs": [
        {
          "output_type": "execute_result",
          "data": {
            "text/html": [
              "\n",
              "  <div id=\"df-760eba17-8e4a-4ec2-996f-08569136f24e\">\n",
              "    <div class=\"colab-df-container\">\n",
              "      <div>\n",
              "<style scoped>\n",
              "    .dataframe tbody tr th:only-of-type {\n",
              "        vertical-align: middle;\n",
              "    }\n",
              "\n",
              "    .dataframe tbody tr th {\n",
              "        vertical-align: top;\n",
              "    }\n",
              "\n",
              "    .dataframe thead th {\n",
              "        text-align: right;\n",
              "    }\n",
              "</style>\n",
              "<table border=\"1\" class=\"dataframe\">\n",
              "  <thead>\n",
              "    <tr style=\"text-align: right;\">\n",
              "      <th></th>\n",
              "      <th>tipo</th>\n",
              "      <th>baños</th>\n",
              "    </tr>\n",
              "  </thead>\n",
              "  <tbody>\n",
              "    <tr>\n",
              "      <th>0</th>\n",
              "      <td>Casa</td>\n",
              "      <td>2.0000</td>\n",
              "    </tr>\n",
              "    <tr>\n",
              "      <th>1</th>\n",
              "      <td>Departamento</td>\n",
              "      <td>1.0000</td>\n",
              "    </tr>\n",
              "    <tr>\n",
              "      <th>2</th>\n",
              "      <td>PH</td>\n",
              "      <td>1.0000</td>\n",
              "    </tr>\n",
              "  </tbody>\n",
              "</table>\n",
              "</div>\n",
              "      <button class=\"colab-df-convert\" onclick=\"convertToInteractive('df-760eba17-8e4a-4ec2-996f-08569136f24e')\"\n",
              "              title=\"Convert this dataframe to an interactive table.\"\n",
              "              style=\"display:none;\">\n",
              "        \n",
              "  <svg xmlns=\"http://www.w3.org/2000/svg\" height=\"24px\"viewBox=\"0 0 24 24\"\n",
              "       width=\"24px\">\n",
              "    <path d=\"M0 0h24v24H0V0z\" fill=\"none\"/>\n",
              "    <path d=\"M18.56 5.44l.94 2.06.94-2.06 2.06-.94-2.06-.94-.94-2.06-.94 2.06-2.06.94zm-11 1L8.5 8.5l.94-2.06 2.06-.94-2.06-.94L8.5 2.5l-.94 2.06-2.06.94zm10 10l.94 2.06.94-2.06 2.06-.94-2.06-.94-.94-2.06-.94 2.06-2.06.94z\"/><path d=\"M17.41 7.96l-1.37-1.37c-.4-.4-.92-.59-1.43-.59-.52 0-1.04.2-1.43.59L10.3 9.45l-7.72 7.72c-.78.78-.78 2.05 0 2.83L4 21.41c.39.39.9.59 1.41.59.51 0 1.02-.2 1.41-.59l7.78-7.78 2.81-2.81c.8-.78.8-2.07 0-2.86zM5.41 20L4 18.59l7.72-7.72 1.47 1.35L5.41 20z\"/>\n",
              "  </svg>\n",
              "      </button>\n",
              "      \n",
              "  <style>\n",
              "    .colab-df-container {\n",
              "      display:flex;\n",
              "      flex-wrap:wrap;\n",
              "      gap: 12px;\n",
              "    }\n",
              "\n",
              "    .colab-df-convert {\n",
              "      background-color: #E8F0FE;\n",
              "      border: none;\n",
              "      border-radius: 50%;\n",
              "      cursor: pointer;\n",
              "      display: none;\n",
              "      fill: #1967D2;\n",
              "      height: 32px;\n",
              "      padding: 0 0 0 0;\n",
              "      width: 32px;\n",
              "    }\n",
              "\n",
              "    .colab-df-convert:hover {\n",
              "      background-color: #E2EBFA;\n",
              "      box-shadow: 0px 1px 2px rgba(60, 64, 67, 0.3), 0px 1px 3px 1px rgba(60, 64, 67, 0.15);\n",
              "      fill: #174EA6;\n",
              "    }\n",
              "\n",
              "    [theme=dark] .colab-df-convert {\n",
              "      background-color: #3B4455;\n",
              "      fill: #D2E3FC;\n",
              "    }\n",
              "\n",
              "    [theme=dark] .colab-df-convert:hover {\n",
              "      background-color: #434B5C;\n",
              "      box-shadow: 0px 1px 3px 1px rgba(0, 0, 0, 0.15);\n",
              "      filter: drop-shadow(0px 1px 2px rgba(0, 0, 0, 0.3));\n",
              "      fill: #FFFFFF;\n",
              "    }\n",
              "  </style>\n",
              "\n",
              "      <script>\n",
              "        const buttonEl =\n",
              "          document.querySelector('#df-760eba17-8e4a-4ec2-996f-08569136f24e button.colab-df-convert');\n",
              "        buttonEl.style.display =\n",
              "          google.colab.kernel.accessAllowed ? 'block' : 'none';\n",
              "\n",
              "        async function convertToInteractive(key) {\n",
              "          const element = document.querySelector('#df-760eba17-8e4a-4ec2-996f-08569136f24e');\n",
              "          const dataTable =\n",
              "            await google.colab.kernel.invokeFunction('convertToInteractive',\n",
              "                                                     [key], {});\n",
              "          if (!dataTable) return;\n",
              "\n",
              "          const docLinkHtml = 'Like what you see? Visit the ' +\n",
              "            '<a target=\"_blank\" href=https://colab.research.google.com/notebooks/data_table.ipynb>data table notebook</a>'\n",
              "            + ' to learn more about interactive tables.';\n",
              "          element.innerHTML = '';\n",
              "          dataTable['output_type'] = 'display_data';\n",
              "          await google.colab.output.renderOutput(dataTable, element);\n",
              "          const docLink = document.createElement('div');\n",
              "          docLink.innerHTML = docLinkHtml;\n",
              "          element.appendChild(docLink);\n",
              "        }\n",
              "      </script>\n",
              "    </div>\n",
              "  </div>\n",
              "  "
            ],
            "text/plain": [
              "           tipo  baños\n",
              "0          Casa 2.0000\n",
              "1  Departamento 1.0000\n",
              "2            PH 1.0000"
            ]
          },
          "metadata": {},
          "execution_count": 375
        }
      ],
      "source": [
        "#primero agrupo y calculo la mediana\n",
        "\n",
        "dic_agrupado_tipo = pd.DataFrame(df.groupby(\"tipo\").agg({\"baños\" : \"median\"}))\n",
        "dic_agrupado_tipo.reset_index(inplace = True, drop = False)\n",
        "\n",
        "dic_agrupado_tipo"
      ],
      "id": "powered-management"
    },
    {
      "cell_type": "code",
      "execution_count": null,
      "metadata": {
        "id": "double-summer"
      },
      "outputs": [],
      "source": [
        "# creo un for y una mascara para imputar a valores nulos la cantidad de baños promedios que calcule anteriormente.\n",
        "for x in range(dic_agrupado_tipo.shape[0]):\n",
        "    tipo = dic_agrupado_tipo.tipo[x]\n",
        "    baños = dic_agrupado_tipo.baños[x]\n",
        "    \n",
        "    mask = (pd.isna(df.baños)) & (df.tipo == tipo)\n",
        "    df.loc[mask, \"baños\"] = baños"
      ],
      "id": "double-summer"
    },
    {
      "cell_type": "code",
      "execution_count": null,
      "metadata": {
        "id": "upset-expert",
        "colab": {
          "base_uri": "https://localhost:8080/"
        },
        "outputId": "04f5607c-7b3c-4e2c-df60-2f53d29a16a3"
      },
      "outputs": [
        {
          "output_type": "execute_result",
          "data": {
            "text/plain": [
              "1.0000     84930\n",
              "2.0000     39899\n",
              "3.0000     12830\n",
              "4.0000      3878\n",
              "5.0000      1151\n",
              "6.0000       309\n",
              "7.0000        97\n",
              "8.0000        16\n",
              "9.0000        10\n",
              "10.0000        9\n",
              "11.0000        7\n",
              "14.0000        6\n",
              "13.0000        2\n",
              "12.0000        1\n",
              "Name: baños, dtype: int64"
            ]
          },
          "metadata": {},
          "execution_count": 377
        }
      ],
      "source": [
        "df.baños.value_counts()"
      ],
      "id": "upset-expert"
    },
    {
      "cell_type": "code",
      "execution_count": null,
      "metadata": {
        "id": "generic-chemistry",
        "colab": {
          "base_uri": "https://localhost:8080/"
        },
        "outputId": "3fda0a24-90db-419c-a42e-a12f20efc077"
      },
      "outputs": [
        {
          "output_type": "execute_result",
          "data": {
            "text/plain": [
              "latitud                 9593\n",
              "longitud                9624\n",
              "pais                       0\n",
              "region                     0\n",
              "localidad                  0\n",
              "ambientes                  0\n",
              "dormitorios                0\n",
              "baños                      0\n",
              "superficie             18623\n",
              "superficie_cubierta    18909\n",
              "precio                     0\n",
              "tipo                       0\n",
              "dtype: int64"
            ]
          },
          "metadata": {},
          "execution_count": 378
        }
      ],
      "source": [
        "#corroboro que no hay más datos nulos\n",
        "df.isna().sum()"
      ],
      "id": "generic-chemistry"
    },
    {
      "cell_type": "code",
      "execution_count": null,
      "metadata": {
        "id": "confidential-zealand",
        "colab": {
          "base_uri": "https://localhost:8080/"
        },
        "outputId": "63a8b681-774b-4bcc-e7c8-38d5c459a62d"
      },
      "outputs": [
        {
          "output_type": "execute_result",
          "data": {
            "text/plain": [
              "latitud                float64\n",
              "longitud               float64\n",
              "pais                    object\n",
              "region                  object\n",
              "localidad               object\n",
              "ambientes              float64\n",
              "dormitorios            float64\n",
              "baños                  float64\n",
              "superficie             float64\n",
              "superficie_cubierta    float64\n",
              "precio                 float64\n",
              "tipo                    object\n",
              "dtype: object"
            ]
          },
          "metadata": {},
          "execution_count": 379
        }
      ],
      "source": [
        "df.dtypes"
      ],
      "id": "confidential-zealand"
    },
    {
      "cell_type": "code",
      "execution_count": null,
      "metadata": {
        "id": "accepted-wagner",
        "scrolled": true,
        "colab": {
          "base_uri": "https://localhost:8080/",
          "height": 317
        },
        "outputId": "76688e24-5e23-4dc7-91fc-902fca72241d"
      },
      "outputs": [
        {
          "output_type": "execute_result",
          "data": {
            "text/plain": [
              "<matplotlib.axes._subplots.AxesSubplot at 0x7f43a3566bd0>"
            ]
          },
          "metadata": {},
          "execution_count": 380
        },
        {
          "output_type": "execute_result",
          "data": {
            "text/plain": [
              "Text(0.5, 1.0, 'Baños promedio por Tipo')"
            ]
          },
          "metadata": {},
          "execution_count": 380
        },
        {
          "output_type": "display_data",
          "data": {
            "image/png": "[encoded data removed]",
            "text/plain": [
              "<Figure size 432x288 with 1 Axes>"
            ]
          },
          "metadata": {}
        }
      ],
      "source": [
        "sns.boxplot (data = df, x = \"tipo\", y = \"baños\")\n",
        "plt.title(\"Baños promedio por Tipo\")"
      ],
      "id": "accepted-wagner"
    },
    {
      "cell_type": "markdown",
      "metadata": {
        "id": "fatty-discussion"
      },
      "source": [
        "#### Latitud y Longitud"
      ],
      "id": "fatty-discussion"
    },
    {
      "cell_type": "code",
      "execution_count": null,
      "metadata": {
        "id": "constitutional-lightning",
        "scrolled": true,
        "colab": {
          "base_uri": "https://localhost:8080/",
          "height": 1000
        },
        "outputId": "ce52f2a4-857a-4288-c72b-3ab473ba447b"
      },
      "outputs": [
        {
          "output_type": "execute_result",
          "data": {
            "text/html": [
              "\n",
              "  <div id=\"df-07ddb92d-d8fb-400f-9c19-63b058536be1\">\n",
              "    <div class=\"colab-df-container\">\n",
              "      <div>\n",
              "<style scoped>\n",
              "    .dataframe tbody tr th:only-of-type {\n",
              "        vertical-align: middle;\n",
              "    }\n",
              "\n",
              "    .dataframe tbody tr th {\n",
              "        vertical-align: top;\n",
              "    }\n",
              "\n",
              "    .dataframe thead th {\n",
              "        text-align: right;\n",
              "    }\n",
              "</style>\n",
              "<table border=\"1\" class=\"dataframe\">\n",
              "  <thead>\n",
              "    <tr style=\"text-align: right;\">\n",
              "      <th></th>\n",
              "      <th>localidad</th>\n",
              "      <th>longitud</th>\n",
              "    </tr>\n",
              "  </thead>\n",
              "  <tbody>\n",
              "    <tr>\n",
              "      <th>0</th>\n",
              "      <td>Abasto</td>\n",
              "      <td>-58.4110</td>\n",
              "    </tr>\n",
              "    <tr>\n",
              "      <th>1</th>\n",
              "      <td>Agronomía</td>\n",
              "      <td>-58.4913</td>\n",
              "    </tr>\n",
              "    <tr>\n",
              "      <th>2</th>\n",
              "      <td>Almagro</td>\n",
              "      <td>-58.4215</td>\n",
              "    </tr>\n",
              "    <tr>\n",
              "      <th>3</th>\n",
              "      <td>Almirante Brown</td>\n",
              "      <td>-58.3889</td>\n",
              "    </tr>\n",
              "    <tr>\n",
              "      <th>4</th>\n",
              "      <td>Avellaneda</td>\n",
              "      <td>-58.3465</td>\n",
              "    </tr>\n",
              "    <tr>\n",
              "      <th>5</th>\n",
              "      <td>Balvanera</td>\n",
              "      <td>-58.4037</td>\n",
              "    </tr>\n",
              "    <tr>\n",
              "      <th>6</th>\n",
              "      <td>Barracas</td>\n",
              "      <td>-58.3745</td>\n",
              "    </tr>\n",
              "    <tr>\n",
              "      <th>7</th>\n",
              "      <td>Barrio Norte</td>\n",
              "      <td>-58.4043</td>\n",
              "    </tr>\n",
              "    <tr>\n",
              "      <th>8</th>\n",
              "      <td>Belgrano</td>\n",
              "      <td>-58.4539</td>\n",
              "    </tr>\n",
              "    <tr>\n",
              "      <th>9</th>\n",
              "      <td>Berazategui</td>\n",
              "      <td>-58.1969</td>\n",
              "    </tr>\n",
              "    <tr>\n",
              "      <th>10</th>\n",
              "      <td>Boca</td>\n",
              "      <td>-58.3629</td>\n",
              "    </tr>\n",
              "    <tr>\n",
              "      <th>11</th>\n",
              "      <td>Boedo</td>\n",
              "      <td>-58.4178</td>\n",
              "    </tr>\n",
              "    <tr>\n",
              "      <th>12</th>\n",
              "      <td>Caballito</td>\n",
              "      <td>-58.4420</td>\n",
              "    </tr>\n",
              "    <tr>\n",
              "      <th>13</th>\n",
              "      <td>Catalinas</td>\n",
              "      <td>-58.3723</td>\n",
              "    </tr>\n",
              "    <tr>\n",
              "      <th>14</th>\n",
              "      <td>Cañuelas</td>\n",
              "      <td>-58.7365</td>\n",
              "    </tr>\n",
              "    <tr>\n",
              "      <th>15</th>\n",
              "      <td>Centro / Microcentro</td>\n",
              "      <td>-58.3783</td>\n",
              "    </tr>\n",
              "    <tr>\n",
              "      <th>16</th>\n",
              "      <td>Chacarita</td>\n",
              "      <td>-58.4494</td>\n",
              "    </tr>\n",
              "    <tr>\n",
              "      <th>17</th>\n",
              "      <td>Coghlan</td>\n",
              "      <td>-58.4749</td>\n",
              "    </tr>\n",
              "    <tr>\n",
              "      <th>18</th>\n",
              "      <td>Colegiales</td>\n",
              "      <td>-58.4521</td>\n",
              "    </tr>\n",
              "    <tr>\n",
              "      <th>19</th>\n",
              "      <td>Congreso</td>\n",
              "      <td>-58.3941</td>\n",
              "    </tr>\n",
              "    <tr>\n",
              "      <th>20</th>\n",
              "      <td>Constitución</td>\n",
              "      <td>-58.3858</td>\n",
              "    </tr>\n",
              "    <tr>\n",
              "      <th>21</th>\n",
              "      <td>Escobar</td>\n",
              "      <td>-58.7615</td>\n",
              "    </tr>\n",
              "    <tr>\n",
              "      <th>22</th>\n",
              "      <td>Esteban Echeverría</td>\n",
              "      <td>-58.4799</td>\n",
              "    </tr>\n",
              "    <tr>\n",
              "      <th>23</th>\n",
              "      <td>Ezeiza</td>\n",
              "      <td>-58.5119</td>\n",
              "    </tr>\n",
              "    <tr>\n",
              "      <th>24</th>\n",
              "      <td>Florencio Varela</td>\n",
              "      <td>-58.2701</td>\n",
              "    </tr>\n",
              "    <tr>\n",
              "      <th>25</th>\n",
              "      <td>Flores</td>\n",
              "      <td>-58.4634</td>\n",
              "    </tr>\n",
              "    <tr>\n",
              "      <th>26</th>\n",
              "      <td>Floresta</td>\n",
              "      <td>-58.4844</td>\n",
              "    </tr>\n",
              "    <tr>\n",
              "      <th>27</th>\n",
              "      <td>General Rodríguez</td>\n",
              "      <td>-58.9400</td>\n",
              "    </tr>\n",
              "    <tr>\n",
              "      <th>28</th>\n",
              "      <td>General San Martín</td>\n",
              "      <td>-58.5492</td>\n",
              "    </tr>\n",
              "    <tr>\n",
              "      <th>29</th>\n",
              "      <td>Hurlingham</td>\n",
              "      <td>-58.6394</td>\n",
              "    </tr>\n",
              "    <tr>\n",
              "      <th>30</th>\n",
              "      <td>Ituzaingó</td>\n",
              "      <td>-58.6821</td>\n",
              "    </tr>\n",
              "    <tr>\n",
              "      <th>31</th>\n",
              "      <td>José C Paz</td>\n",
              "      <td>-58.7558</td>\n",
              "    </tr>\n",
              "    <tr>\n",
              "      <th>32</th>\n",
              "      <td>La Matanza</td>\n",
              "      <td>-58.5586</td>\n",
              "    </tr>\n",
              "    <tr>\n",
              "      <th>33</th>\n",
              "      <td>La Plata</td>\n",
              "      <td>-57.9650</td>\n",
              "    </tr>\n",
              "    <tr>\n",
              "      <th>34</th>\n",
              "      <td>Lanús</td>\n",
              "      <td>-58.3960</td>\n",
              "    </tr>\n",
              "    <tr>\n",
              "      <th>35</th>\n",
              "      <td>Las Cañitas</td>\n",
              "      <td>-58.4339</td>\n",
              "    </tr>\n",
              "    <tr>\n",
              "      <th>36</th>\n",
              "      <td>Liniers</td>\n",
              "      <td>-58.5192</td>\n",
              "    </tr>\n",
              "    <tr>\n",
              "      <th>37</th>\n",
              "      <td>Lomas de Zamora</td>\n",
              "      <td>-58.3999</td>\n",
              "    </tr>\n",
              "    <tr>\n",
              "      <th>38</th>\n",
              "      <td>Malvinas Argentinas</td>\n",
              "      <td>-58.7025</td>\n",
              "    </tr>\n",
              "    <tr>\n",
              "      <th>39</th>\n",
              "      <td>Marcos Paz</td>\n",
              "      <td>-58.8432</td>\n",
              "    </tr>\n",
              "    <tr>\n",
              "      <th>40</th>\n",
              "      <td>Mataderos</td>\n",
              "      <td>-58.5039</td>\n",
              "    </tr>\n",
              "    <tr>\n",
              "      <th>41</th>\n",
              "      <td>Merlo</td>\n",
              "      <td>-58.7135</td>\n",
              "    </tr>\n",
              "    <tr>\n",
              "      <th>42</th>\n",
              "      <td>Monserrat</td>\n",
              "      <td>-58.3845</td>\n",
              "    </tr>\n",
              "    <tr>\n",
              "      <th>43</th>\n",
              "      <td>Monte Castro</td>\n",
              "      <td>-58.5046</td>\n",
              "    </tr>\n",
              "    <tr>\n",
              "      <th>44</th>\n",
              "      <td>Moreno</td>\n",
              "      <td>-58.7940</td>\n",
              "    </tr>\n",
              "    <tr>\n",
              "      <th>45</th>\n",
              "      <td>Morón</td>\n",
              "      <td>-58.6116</td>\n",
              "    </tr>\n",
              "    <tr>\n",
              "      <th>46</th>\n",
              "      <td>Nuñez</td>\n",
              "      <td>-58.4647</td>\n",
              "    </tr>\n",
              "    <tr>\n",
              "      <th>47</th>\n",
              "      <td>Once</td>\n",
              "      <td>-58.4052</td>\n",
              "    </tr>\n",
              "    <tr>\n",
              "      <th>48</th>\n",
              "      <td>Palermo</td>\n",
              "      <td>-58.4229</td>\n",
              "    </tr>\n",
              "    <tr>\n",
              "      <th>49</th>\n",
              "      <td>Parque Avellaneda</td>\n",
              "      <td>-58.4773</td>\n",
              "    </tr>\n",
              "    <tr>\n",
              "      <th>50</th>\n",
              "      <td>Parque Centenario</td>\n",
              "      <td>-58.4343</td>\n",
              "    </tr>\n",
              "    <tr>\n",
              "      <th>51</th>\n",
              "      <td>Parque Chacabuco</td>\n",
              "      <td>-58.4361</td>\n",
              "    </tr>\n",
              "    <tr>\n",
              "      <th>52</th>\n",
              "      <td>Parque Chas</td>\n",
              "      <td>-58.4781</td>\n",
              "    </tr>\n",
              "    <tr>\n",
              "      <th>53</th>\n",
              "      <td>Parque Patricios</td>\n",
              "      <td>-58.4033</td>\n",
              "    </tr>\n",
              "    <tr>\n",
              "      <th>54</th>\n",
              "      <td>Paternal</td>\n",
              "      <td>-58.4662</td>\n",
              "    </tr>\n",
              "    <tr>\n",
              "      <th>55</th>\n",
              "      <td>Pilar</td>\n",
              "      <td>-58.8592</td>\n",
              "    </tr>\n",
              "    <tr>\n",
              "      <th>56</th>\n",
              "      <td>Pompeya</td>\n",
              "      <td>-58.4190</td>\n",
              "    </tr>\n",
              "    <tr>\n",
              "      <th>57</th>\n",
              "      <td>Presidente Perón</td>\n",
              "      <td>-58.3811</td>\n",
              "    </tr>\n",
              "    <tr>\n",
              "      <th>58</th>\n",
              "      <td>Puerto Madero</td>\n",
              "      <td>-58.3619</td>\n",
              "    </tr>\n",
              "    <tr>\n",
              "      <th>59</th>\n",
              "      <td>Quilmes</td>\n",
              "      <td>-58.2697</td>\n",
              "    </tr>\n",
              "    <tr>\n",
              "      <th>60</th>\n",
              "      <td>Recoleta</td>\n",
              "      <td>-58.3950</td>\n",
              "    </tr>\n",
              "    <tr>\n",
              "      <th>61</th>\n",
              "      <td>Retiro</td>\n",
              "      <td>-58.3791</td>\n",
              "    </tr>\n",
              "    <tr>\n",
              "      <th>62</th>\n",
              "      <td>Saavedra</td>\n",
              "      <td>-58.4831</td>\n",
              "    </tr>\n",
              "    <tr>\n",
              "      <th>63</th>\n",
              "      <td>San Cristobal</td>\n",
              "      <td>-58.4004</td>\n",
              "    </tr>\n",
              "    <tr>\n",
              "      <th>64</th>\n",
              "      <td>San Fernando</td>\n",
              "      <td>-58.5577</td>\n",
              "    </tr>\n",
              "    <tr>\n",
              "      <th>65</th>\n",
              "      <td>San Isidro</td>\n",
              "      <td>-58.5223</td>\n",
              "    </tr>\n",
              "    <tr>\n",
              "      <th>66</th>\n",
              "      <td>San Miguel</td>\n",
              "      <td>-58.7059</td>\n",
              "    </tr>\n",
              "    <tr>\n",
              "      <th>67</th>\n",
              "      <td>San Nicolás</td>\n",
              "      <td>-58.3845</td>\n",
              "    </tr>\n",
              "    <tr>\n",
              "      <th>68</th>\n",
              "      <td>San Telmo</td>\n",
              "      <td>-58.3739</td>\n",
              "    </tr>\n",
              "    <tr>\n",
              "      <th>69</th>\n",
              "      <td>San Vicente</td>\n",
              "      <td>-58.4673</td>\n",
              "    </tr>\n",
              "    <tr>\n",
              "      <th>70</th>\n",
              "      <td>Tigre</td>\n",
              "      <td>-58.6427</td>\n",
              "    </tr>\n",
              "    <tr>\n",
              "      <th>71</th>\n",
              "      <td>Tres de Febrero</td>\n",
              "      <td>-58.5597</td>\n",
              "    </tr>\n",
              "    <tr>\n",
              "      <th>72</th>\n",
              "      <td>Tribunales</td>\n",
              "      <td>-58.3853</td>\n",
              "    </tr>\n",
              "    <tr>\n",
              "      <th>73</th>\n",
              "      <td>Velez Sarsfield</td>\n",
              "      <td>-58.4921</td>\n",
              "    </tr>\n",
              "    <tr>\n",
              "      <th>74</th>\n",
              "      <td>Versalles</td>\n",
              "      <td>-58.5230</td>\n",
              "    </tr>\n",
              "    <tr>\n",
              "      <th>75</th>\n",
              "      <td>Vicente López</td>\n",
              "      <td>-58.4860</td>\n",
              "    </tr>\n",
              "    <tr>\n",
              "      <th>76</th>\n",
              "      <td>Villa Crespo</td>\n",
              "      <td>-58.4421</td>\n",
              "    </tr>\n",
              "    <tr>\n",
              "      <th>77</th>\n",
              "      <td>Villa Devoto</td>\n",
              "      <td>-58.5117</td>\n",
              "    </tr>\n",
              "    <tr>\n",
              "      <th>78</th>\n",
              "      <td>Villa General Mitre</td>\n",
              "      <td>-58.4672</td>\n",
              "    </tr>\n",
              "    <tr>\n",
              "      <th>79</th>\n",
              "      <td>Villa Lugano</td>\n",
              "      <td>-58.4738</td>\n",
              "    </tr>\n",
              "    <tr>\n",
              "      <th>80</th>\n",
              "      <td>Villa Luro</td>\n",
              "      <td>-58.5022</td>\n",
              "    </tr>\n",
              "    <tr>\n",
              "      <th>81</th>\n",
              "      <td>Villa Ortuzar</td>\n",
              "      <td>-58.4679</td>\n",
              "    </tr>\n",
              "    <tr>\n",
              "      <th>82</th>\n",
              "      <td>Villa Pueyrredón</td>\n",
              "      <td>-58.5035</td>\n",
              "    </tr>\n",
              "    <tr>\n",
              "      <th>83</th>\n",
              "      <td>Villa Real</td>\n",
              "      <td>-58.5234</td>\n",
              "    </tr>\n",
              "    <tr>\n",
              "      <th>84</th>\n",
              "      <td>Villa Riachuelo</td>\n",
              "      <td>-58.4717</td>\n",
              "    </tr>\n",
              "    <tr>\n",
              "      <th>85</th>\n",
              "      <td>Villa Santa Rita</td>\n",
              "      <td>-58.4811</td>\n",
              "    </tr>\n",
              "    <tr>\n",
              "      <th>86</th>\n",
              "      <td>Villa Soldati</td>\n",
              "      <td>-58.4430</td>\n",
              "    </tr>\n",
              "    <tr>\n",
              "      <th>87</th>\n",
              "      <td>Villa Urquiza</td>\n",
              "      <td>-58.4851</td>\n",
              "    </tr>\n",
              "    <tr>\n",
              "      <th>88</th>\n",
              "      <td>Villa del Parque</td>\n",
              "      <td>-58.4886</td>\n",
              "    </tr>\n",
              "  </tbody>\n",
              "</table>\n",
              "</div>\n",
              "      <button class=\"colab-df-convert\" onclick=\"convertToInteractive('df-07ddb92d-d8fb-400f-9c19-63b058536be1')\"\n",
              "              title=\"Convert this dataframe to an interactive table.\"\n",
              "              style=\"display:none;\">\n",
              "        \n",
              "  <svg xmlns=\"http://www.w3.org/2000/svg\" height=\"24px\"viewBox=\"0 0 24 24\"\n",
              "       width=\"24px\">\n",
              "    <path d=\"M0 0h24v24H0V0z\" fill=\"none\"/>\n",
              "    <path d=\"M18.56 5.44l.94 2.06.94-2.06 2.06-.94-2.06-.94-.94-2.06-.94 2.06-2.06.94zm-11 1L8.5 8.5l.94-2.06 2.06-.94-2.06-.94L8.5 2.5l-.94 2.06-2.06.94zm10 10l.94 2.06.94-2.06 2.06-.94-2.06-.94-.94-2.06-.94 2.06-2.06.94z\"/><path d=\"M17.41 7.96l-1.37-1.37c-.4-.4-.92-.59-1.43-.59-.52 0-1.04.2-1.43.59L10.3 9.45l-7.72 7.72c-.78.78-.78 2.05 0 2.83L4 21.41c.39.39.9.59 1.41.59.51 0 1.02-.2 1.41-.59l7.78-7.78 2.81-2.81c.8-.78.8-2.07 0-2.86zM5.41 20L4 18.59l7.72-7.72 1.47 1.35L5.41 20z\"/>\n",
              "  </svg>\n",
              "      </button>\n",
              "      \n",
              "  <style>\n",
              "    .colab-df-container {\n",
              "      display:flex;\n",
              "      flex-wrap:wrap;\n",
              "      gap: 12px;\n",
              "    }\n",
              "\n",
              "    .colab-df-convert {\n",
              "      background-color: #E8F0FE;\n",
              "      border: none;\n",
              "      border-radius: 50%;\n",
              "      cursor: pointer;\n",
              "      display: none;\n",
              "      fill: #1967D2;\n",
              "      height: 32px;\n",
              "      padding: 0 0 0 0;\n",
              "      width: 32px;\n",
              "    }\n",
              "\n",
              "    .colab-df-convert:hover {\n",
              "      background-color: #E2EBFA;\n",
              "      box-shadow: 0px 1px 2px rgba(60, 64, 67, 0.3), 0px 1px 3px 1px rgba(60, 64, 67, 0.15);\n",
              "      fill: #174EA6;\n",
              "    }\n",
              "\n",
              "    [theme=dark] .colab-df-convert {\n",
              "      background-color: #3B4455;\n",
              "      fill: #D2E3FC;\n",
              "    }\n",
              "\n",
              "    [theme=dark] .colab-df-convert:hover {\n",
              "      background-color: #434B5C;\n",
              "      box-shadow: 0px 1px 3px 1px rgba(0, 0, 0, 0.15);\n",
              "      filter: drop-shadow(0px 1px 2px rgba(0, 0, 0, 0.3));\n",
              "      fill: #FFFFFF;\n",
              "    }\n",
              "  </style>\n",
              "\n",
              "      <script>\n",
              "        const buttonEl =\n",
              "          document.querySelector('#df-07ddb92d-d8fb-400f-9c19-63b058536be1 button.colab-df-convert');\n",
              "        buttonEl.style.display =\n",
              "          google.colab.kernel.accessAllowed ? 'block' : 'none';\n",
              "\n",
              "        async function convertToInteractive(key) {\n",
              "          const element = document.querySelector('#df-07ddb92d-d8fb-400f-9c19-63b058536be1');\n",
              "          const dataTable =\n",
              "            await google.colab.kernel.invokeFunction('convertToInteractive',\n",
              "                                                     [key], {});\n",
              "          if (!dataTable) return;\n",
              "\n",
              "          const docLinkHtml = 'Like what you see? Visit the ' +\n",
              "            '<a target=\"_blank\" href=https://colab.research.google.com/notebooks/data_table.ipynb>data table notebook</a>'\n",
              "            + ' to learn more about interactive tables.';\n",
              "          element.innerHTML = '';\n",
              "          dataTable['output_type'] = 'display_data';\n",
              "          await google.colab.output.renderOutput(dataTable, element);\n",
              "          const docLink = document.createElement('div');\n",
              "          docLink.innerHTML = docLinkHtml;\n",
              "          element.appendChild(docLink);\n",
              "        }\n",
              "      </script>\n",
              "    </div>\n",
              "  </div>\n",
              "  "
            ],
            "text/plain": [
              "               localidad  longitud\n",
              "0                 Abasto  -58.4110\n",
              "1              Agronomía  -58.4913\n",
              "2                Almagro  -58.4215\n",
              "3        Almirante Brown  -58.3889\n",
              "4             Avellaneda  -58.3465\n",
              "5              Balvanera  -58.4037\n",
              "6               Barracas  -58.3745\n",
              "7           Barrio Norte  -58.4043\n",
              "8               Belgrano  -58.4539\n",
              "9            Berazategui  -58.1969\n",
              "10                  Boca  -58.3629\n",
              "11                 Boedo  -58.4178\n",
              "12             Caballito  -58.4420\n",
              "13             Catalinas  -58.3723\n",
              "14              Cañuelas  -58.7365\n",
              "15  Centro / Microcentro  -58.3783\n",
              "16             Chacarita  -58.4494\n",
              "17               Coghlan  -58.4749\n",
              "18            Colegiales  -58.4521\n",
              "19              Congreso  -58.3941\n",
              "20          Constitución  -58.3858\n",
              "21               Escobar  -58.7615\n",
              "22    Esteban Echeverría  -58.4799\n",
              "23                Ezeiza  -58.5119\n",
              "24      Florencio Varela  -58.2701\n",
              "25                Flores  -58.4634\n",
              "26              Floresta  -58.4844\n",
              "27     General Rodríguez  -58.9400\n",
              "28    General San Martín  -58.5492\n",
              "29            Hurlingham  -58.6394\n",
              "30             Ituzaingó  -58.6821\n",
              "31            José C Paz  -58.7558\n",
              "32            La Matanza  -58.5586\n",
              "33              La Plata  -57.9650\n",
              "34                 Lanús  -58.3960\n",
              "35           Las Cañitas  -58.4339\n",
              "36               Liniers  -58.5192\n",
              "37       Lomas de Zamora  -58.3999\n",
              "38   Malvinas Argentinas  -58.7025\n",
              "39            Marcos Paz  -58.8432\n",
              "40             Mataderos  -58.5039\n",
              "41                 Merlo  -58.7135\n",
              "42             Monserrat  -58.3845\n",
              "43          Monte Castro  -58.5046\n",
              "44                Moreno  -58.7940\n",
              "45                 Morón  -58.6116\n",
              "46                 Nuñez  -58.4647\n",
              "47                  Once  -58.4052\n",
              "48               Palermo  -58.4229\n",
              "49     Parque Avellaneda  -58.4773\n",
              "50     Parque Centenario  -58.4343\n",
              "51      Parque Chacabuco  -58.4361\n",
              "52           Parque Chas  -58.4781\n",
              "53      Parque Patricios  -58.4033\n",
              "54              Paternal  -58.4662\n",
              "55                 Pilar  -58.8592\n",
              "56               Pompeya  -58.4190\n",
              "57      Presidente Perón  -58.3811\n",
              "58         Puerto Madero  -58.3619\n",
              "59               Quilmes  -58.2697\n",
              "60              Recoleta  -58.3950\n",
              "61                Retiro  -58.3791\n",
              "62              Saavedra  -58.4831\n",
              "63         San Cristobal  -58.4004\n",
              "64          San Fernando  -58.5577\n",
              "65            San Isidro  -58.5223\n",
              "66            San Miguel  -58.7059\n",
              "67           San Nicolás  -58.3845\n",
              "68             San Telmo  -58.3739\n",
              "69           San Vicente  -58.4673\n",
              "70                 Tigre  -58.6427\n",
              "71       Tres de Febrero  -58.5597\n",
              "72            Tribunales  -58.3853\n",
              "73       Velez Sarsfield  -58.4921\n",
              "74             Versalles  -58.5230\n",
              "75         Vicente López  -58.4860\n",
              "76          Villa Crespo  -58.4421\n",
              "77          Villa Devoto  -58.5117\n",
              "78   Villa General Mitre  -58.4672\n",
              "79          Villa Lugano  -58.4738\n",
              "80            Villa Luro  -58.5022\n",
              "81         Villa Ortuzar  -58.4679\n",
              "82      Villa Pueyrredón  -58.5035\n",
              "83            Villa Real  -58.5234\n",
              "84       Villa Riachuelo  -58.4717\n",
              "85      Villa Santa Rita  -58.4811\n",
              "86         Villa Soldati  -58.4430\n",
              "87         Villa Urquiza  -58.4851\n",
              "88      Villa del Parque  -58.4886"
            ]
          },
          "metadata": {},
          "execution_count": 381
        },
        {
          "output_type": "execute_result",
          "data": {
            "text/html": [
              "\n",
              "  <div id=\"df-b72a9cde-f6a1-4268-bdeb-b707df60088f\">\n",
              "    <div class=\"colab-df-container\">\n",
              "      <div>\n",
              "<style scoped>\n",
              "    .dataframe tbody tr th:only-of-type {\n",
              "        vertical-align: middle;\n",
              "    }\n",
              "\n",
              "    .dataframe tbody tr th {\n",
              "        vertical-align: top;\n",
              "    }\n",
              "\n",
              "    .dataframe thead th {\n",
              "        text-align: right;\n",
              "    }\n",
              "</style>\n",
              "<table border=\"1\" class=\"dataframe\">\n",
              "  <thead>\n",
              "    <tr style=\"text-align: right;\">\n",
              "      <th></th>\n",
              "      <th>localidad</th>\n",
              "      <th>latitud</th>\n",
              "    </tr>\n",
              "  </thead>\n",
              "  <tbody>\n",
              "    <tr>\n",
              "      <th>0</th>\n",
              "      <td>Abasto</td>\n",
              "      <td>-34.6039</td>\n",
              "    </tr>\n",
              "    <tr>\n",
              "      <th>1</th>\n",
              "      <td>Agronomía</td>\n",
              "      <td>-34.5926</td>\n",
              "    </tr>\n",
              "    <tr>\n",
              "      <th>2</th>\n",
              "      <td>Almagro</td>\n",
              "      <td>-34.6046</td>\n",
              "    </tr>\n",
              "    <tr>\n",
              "      <th>3</th>\n",
              "      <td>Almirante Brown</td>\n",
              "      <td>-34.8028</td>\n",
              "    </tr>\n",
              "    <tr>\n",
              "      <th>4</th>\n",
              "      <td>Avellaneda</td>\n",
              "      <td>-34.6821</td>\n",
              "    </tr>\n",
              "    <tr>\n",
              "      <th>5</th>\n",
              "      <td>Balvanera</td>\n",
              "      <td>-34.6105</td>\n",
              "    </tr>\n",
              "    <tr>\n",
              "      <th>6</th>\n",
              "      <td>Barracas</td>\n",
              "      <td>-34.6394</td>\n",
              "    </tr>\n",
              "    <tr>\n",
              "      <th>7</th>\n",
              "      <td>Barrio Norte</td>\n",
              "      <td>-34.5933</td>\n",
              "    </tr>\n",
              "    <tr>\n",
              "      <th>8</th>\n",
              "      <td>Belgrano</td>\n",
              "      <td>-34.5630</td>\n",
              "    </tr>\n",
              "    <tr>\n",
              "      <th>9</th>\n",
              "      <td>Berazategui</td>\n",
              "      <td>-34.7892</td>\n",
              "    </tr>\n",
              "    <tr>\n",
              "      <th>10</th>\n",
              "      <td>Boca</td>\n",
              "      <td>-34.6334</td>\n",
              "    </tr>\n",
              "    <tr>\n",
              "      <th>11</th>\n",
              "      <td>Boedo</td>\n",
              "      <td>-34.6265</td>\n",
              "    </tr>\n",
              "    <tr>\n",
              "      <th>12</th>\n",
              "      <td>Caballito</td>\n",
              "      <td>-34.6174</td>\n",
              "    </tr>\n",
              "    <tr>\n",
              "      <th>13</th>\n",
              "      <td>Catalinas</td>\n",
              "      <td>-34.5978</td>\n",
              "    </tr>\n",
              "    <tr>\n",
              "      <th>14</th>\n",
              "      <td>Cañuelas</td>\n",
              "      <td>-34.9859</td>\n",
              "    </tr>\n",
              "    <tr>\n",
              "      <th>15</th>\n",
              "      <td>Centro / Microcentro</td>\n",
              "      <td>-34.6033</td>\n",
              "    </tr>\n",
              "    <tr>\n",
              "      <th>16</th>\n",
              "      <td>Chacarita</td>\n",
              "      <td>-34.5891</td>\n",
              "    </tr>\n",
              "    <tr>\n",
              "      <th>17</th>\n",
              "      <td>Coghlan</td>\n",
              "      <td>-34.5610</td>\n",
              "    </tr>\n",
              "    <tr>\n",
              "      <th>18</th>\n",
              "      <td>Colegiales</td>\n",
              "      <td>-34.5771</td>\n",
              "    </tr>\n",
              "    <tr>\n",
              "      <th>19</th>\n",
              "      <td>Congreso</td>\n",
              "      <td>-34.6098</td>\n",
              "    </tr>\n",
              "    <tr>\n",
              "      <th>20</th>\n",
              "      <td>Constitución</td>\n",
              "      <td>-34.6261</td>\n",
              "    </tr>\n",
              "    <tr>\n",
              "      <th>21</th>\n",
              "      <td>Escobar</td>\n",
              "      <td>-34.3647</td>\n",
              "    </tr>\n",
              "    <tr>\n",
              "      <th>22</th>\n",
              "      <td>Esteban Echeverría</td>\n",
              "      <td>-34.8283</td>\n",
              "    </tr>\n",
              "    <tr>\n",
              "      <th>23</th>\n",
              "      <td>Ezeiza</td>\n",
              "      <td>-34.8844</td>\n",
              "    </tr>\n",
              "    <tr>\n",
              "      <th>24</th>\n",
              "      <td>Florencio Varela</td>\n",
              "      <td>-34.8068</td>\n",
              "    </tr>\n",
              "    <tr>\n",
              "      <th>25</th>\n",
              "      <td>Flores</td>\n",
              "      <td>-34.6286</td>\n",
              "    </tr>\n",
              "    <tr>\n",
              "      <th>26</th>\n",
              "      <td>Floresta</td>\n",
              "      <td>-34.6315</td>\n",
              "    </tr>\n",
              "    <tr>\n",
              "      <th>27</th>\n",
              "      <td>General Rodríguez</td>\n",
              "      <td>-34.6056</td>\n",
              "    </tr>\n",
              "    <tr>\n",
              "      <th>28</th>\n",
              "      <td>General San Martín</td>\n",
              "      <td>-34.5635</td>\n",
              "    </tr>\n",
              "    <tr>\n",
              "      <th>29</th>\n",
              "      <td>Hurlingham</td>\n",
              "      <td>-34.5972</td>\n",
              "    </tr>\n",
              "    <tr>\n",
              "      <th>30</th>\n",
              "      <td>Ituzaingó</td>\n",
              "      <td>-34.6439</td>\n",
              "    </tr>\n",
              "    <tr>\n",
              "      <th>31</th>\n",
              "      <td>José C Paz</td>\n",
              "      <td>-34.5200</td>\n",
              "    </tr>\n",
              "    <tr>\n",
              "      <th>32</th>\n",
              "      <td>La Matanza</td>\n",
              "      <td>-34.6627</td>\n",
              "    </tr>\n",
              "    <tr>\n",
              "      <th>33</th>\n",
              "      <td>La Plata</td>\n",
              "      <td>-34.9173</td>\n",
              "    </tr>\n",
              "    <tr>\n",
              "      <th>34</th>\n",
              "      <td>Lanús</td>\n",
              "      <td>-34.7071</td>\n",
              "    </tr>\n",
              "    <tr>\n",
              "      <th>35</th>\n",
              "      <td>Las Cañitas</td>\n",
              "      <td>-34.5680</td>\n",
              "    </tr>\n",
              "    <tr>\n",
              "      <th>36</th>\n",
              "      <td>Liniers</td>\n",
              "      <td>-34.6439</td>\n",
              "    </tr>\n",
              "    <tr>\n",
              "      <th>37</th>\n",
              "      <td>Lomas de Zamora</td>\n",
              "      <td>-34.7614</td>\n",
              "    </tr>\n",
              "    <tr>\n",
              "      <th>38</th>\n",
              "      <td>Malvinas Argentinas</td>\n",
              "      <td>-34.4944</td>\n",
              "    </tr>\n",
              "    <tr>\n",
              "      <th>39</th>\n",
              "      <td>Marcos Paz</td>\n",
              "      <td>-34.7823</td>\n",
              "    </tr>\n",
              "    <tr>\n",
              "      <th>40</th>\n",
              "      <td>Mataderos</td>\n",
              "      <td>-34.6548</td>\n",
              "    </tr>\n",
              "    <tr>\n",
              "      <th>41</th>\n",
              "      <td>Merlo</td>\n",
              "      <td>-34.6704</td>\n",
              "    </tr>\n",
              "    <tr>\n",
              "      <th>42</th>\n",
              "      <td>Monserrat</td>\n",
              "      <td>-34.6136</td>\n",
              "    </tr>\n",
              "    <tr>\n",
              "      <th>43</th>\n",
              "      <td>Monte Castro</td>\n",
              "      <td>-34.6207</td>\n",
              "    </tr>\n",
              "    <tr>\n",
              "      <th>44</th>\n",
              "      <td>Moreno</td>\n",
              "      <td>-34.6384</td>\n",
              "    </tr>\n",
              "    <tr>\n",
              "      <th>45</th>\n",
              "      <td>Morón</td>\n",
              "      <td>-34.6474</td>\n",
              "    </tr>\n",
              "    <tr>\n",
              "      <th>46</th>\n",
              "      <td>Nuñez</td>\n",
              "      <td>-34.5479</td>\n",
              "    </tr>\n",
              "    <tr>\n",
              "      <th>47</th>\n",
              "      <td>Once</td>\n",
              "      <td>-34.6084</td>\n",
              "    </tr>\n",
              "    <tr>\n",
              "      <th>48</th>\n",
              "      <td>Palermo</td>\n",
              "      <td>-34.5853</td>\n",
              "    </tr>\n",
              "    <tr>\n",
              "      <th>49</th>\n",
              "      <td>Parque Avellaneda</td>\n",
              "      <td>-34.6458</td>\n",
              "    </tr>\n",
              "    <tr>\n",
              "      <th>50</th>\n",
              "      <td>Parque Centenario</td>\n",
              "      <td>-34.6038</td>\n",
              "    </tr>\n",
              "    <tr>\n",
              "      <th>51</th>\n",
              "      <td>Parque Chacabuco</td>\n",
              "      <td>-34.6362</td>\n",
              "    </tr>\n",
              "    <tr>\n",
              "      <th>52</th>\n",
              "      <td>Parque Chas</td>\n",
              "      <td>-34.5846</td>\n",
              "    </tr>\n",
              "    <tr>\n",
              "      <th>53</th>\n",
              "      <td>Parque Patricios</td>\n",
              "      <td>-34.6352</td>\n",
              "    </tr>\n",
              "    <tr>\n",
              "      <th>54</th>\n",
              "      <td>Paternal</td>\n",
              "      <td>-34.6021</td>\n",
              "    </tr>\n",
              "    <tr>\n",
              "      <th>55</th>\n",
              "      <td>Pilar</td>\n",
              "      <td>-34.4429</td>\n",
              "    </tr>\n",
              "    <tr>\n",
              "      <th>56</th>\n",
              "      <td>Pompeya</td>\n",
              "      <td>-34.6483</td>\n",
              "    </tr>\n",
              "    <tr>\n",
              "      <th>57</th>\n",
              "      <td>Presidente Perón</td>\n",
              "      <td>-34.9307</td>\n",
              "    </tr>\n",
              "    <tr>\n",
              "      <th>58</th>\n",
              "      <td>Puerto Madero</td>\n",
              "      <td>-34.6126</td>\n",
              "    </tr>\n",
              "    <tr>\n",
              "      <th>59</th>\n",
              "      <td>Quilmes</td>\n",
              "      <td>-34.7228</td>\n",
              "    </tr>\n",
              "    <tr>\n",
              "      <th>60</th>\n",
              "      <td>Recoleta</td>\n",
              "      <td>-34.5923</td>\n",
              "    </tr>\n",
              "    <tr>\n",
              "      <th>61</th>\n",
              "      <td>Retiro</td>\n",
              "      <td>-34.5957</td>\n",
              "    </tr>\n",
              "    <tr>\n",
              "      <th>62</th>\n",
              "      <td>Saavedra</td>\n",
              "      <td>-34.5525</td>\n",
              "    </tr>\n",
              "    <tr>\n",
              "      <th>63</th>\n",
              "      <td>San Cristobal</td>\n",
              "      <td>-34.6230</td>\n",
              "    </tr>\n",
              "    <tr>\n",
              "      <th>64</th>\n",
              "      <td>San Fernando</td>\n",
              "      <td>-34.4455</td>\n",
              "    </tr>\n",
              "    <tr>\n",
              "      <th>65</th>\n",
              "      <td>San Isidro</td>\n",
              "      <td>-34.4805</td>\n",
              "    </tr>\n",
              "    <tr>\n",
              "      <th>66</th>\n",
              "      <td>San Miguel</td>\n",
              "      <td>-34.5468</td>\n",
              "    </tr>\n",
              "    <tr>\n",
              "      <th>67</th>\n",
              "      <td>San Nicolás</td>\n",
              "      <td>-34.6038</td>\n",
              "    </tr>\n",
              "    <tr>\n",
              "      <th>68</th>\n",
              "      <td>San Telmo</td>\n",
              "      <td>-34.6212</td>\n",
              "    </tr>\n",
              "    <tr>\n",
              "      <th>69</th>\n",
              "      <td>San Vicente</td>\n",
              "      <td>-34.9888</td>\n",
              "    </tr>\n",
              "    <tr>\n",
              "      <th>70</th>\n",
              "      <td>Tigre</td>\n",
              "      <td>-34.4206</td>\n",
              "    </tr>\n",
              "    <tr>\n",
              "      <th>71</th>\n",
              "      <td>Tres de Febrero</td>\n",
              "      <td>-34.6025</td>\n",
              "    </tr>\n",
              "    <tr>\n",
              "      <th>72</th>\n",
              "      <td>Tribunales</td>\n",
              "      <td>-34.6026</td>\n",
              "    </tr>\n",
              "    <tr>\n",
              "      <th>73</th>\n",
              "      <td>Velez Sarsfield</td>\n",
              "      <td>-34.6313</td>\n",
              "    </tr>\n",
              "    <tr>\n",
              "      <th>74</th>\n",
              "      <td>Versalles</td>\n",
              "      <td>-34.6308</td>\n",
              "    </tr>\n",
              "    <tr>\n",
              "      <th>75</th>\n",
              "      <td>Vicente López</td>\n",
              "      <td>-34.5207</td>\n",
              "    </tr>\n",
              "    <tr>\n",
              "      <th>76</th>\n",
              "      <td>Villa Crespo</td>\n",
              "      <td>-34.5984</td>\n",
              "    </tr>\n",
              "    <tr>\n",
              "      <th>77</th>\n",
              "      <td>Villa Devoto</td>\n",
              "      <td>-34.6054</td>\n",
              "    </tr>\n",
              "    <tr>\n",
              "      <th>78</th>\n",
              "      <td>Villa General Mitre</td>\n",
              "      <td>-34.6107</td>\n",
              "    </tr>\n",
              "    <tr>\n",
              "      <th>79</th>\n",
              "      <td>Villa Lugano</td>\n",
              "      <td>-34.6785</td>\n",
              "    </tr>\n",
              "    <tr>\n",
              "      <th>80</th>\n",
              "      <td>Villa Luro</td>\n",
              "      <td>-34.6387</td>\n",
              "    </tr>\n",
              "    <tr>\n",
              "      <th>81</th>\n",
              "      <td>Villa Ortuzar</td>\n",
              "      <td>-34.5816</td>\n",
              "    </tr>\n",
              "    <tr>\n",
              "      <th>82</th>\n",
              "      <td>Villa Pueyrredón</td>\n",
              "      <td>-34.5852</td>\n",
              "    </tr>\n",
              "    <tr>\n",
              "      <th>83</th>\n",
              "      <td>Villa Real</td>\n",
              "      <td>-34.6203</td>\n",
              "    </tr>\n",
              "    <tr>\n",
              "      <th>84</th>\n",
              "      <td>Villa Riachuelo</td>\n",
              "      <td>-34.6911</td>\n",
              "    </tr>\n",
              "    <tr>\n",
              "      <th>85</th>\n",
              "      <td>Villa Santa Rita</td>\n",
              "      <td>-34.6141</td>\n",
              "    </tr>\n",
              "    <tr>\n",
              "      <th>86</th>\n",
              "      <td>Villa Soldati</td>\n",
              "      <td>-34.6624</td>\n",
              "    </tr>\n",
              "    <tr>\n",
              "      <th>87</th>\n",
              "      <td>Villa Urquiza</td>\n",
              "      <td>-34.5734</td>\n",
              "    </tr>\n",
              "    <tr>\n",
              "      <th>88</th>\n",
              "      <td>Villa del Parque</td>\n",
              "      <td>-34.6056</td>\n",
              "    </tr>\n",
              "  </tbody>\n",
              "</table>\n",
              "</div>\n",
              "      <button class=\"colab-df-convert\" onclick=\"convertToInteractive('df-b72a9cde-f6a1-4268-bdeb-b707df60088f')\"\n",
              "              title=\"Convert this dataframe to an interactive table.\"\n",
              "              style=\"display:none;\">\n",
              "        \n",
              "  <svg xmlns=\"http://www.w3.org/2000/svg\" height=\"24px\"viewBox=\"0 0 24 24\"\n",
              "       width=\"24px\">\n",
              "    <path d=\"M0 0h24v24H0V0z\" fill=\"none\"/>\n",
              "    <path d=\"M18.56 5.44l.94 2.06.94-2.06 2.06-.94-2.06-.94-.94-2.06-.94 2.06-2.06.94zm-11 1L8.5 8.5l.94-2.06 2.06-.94-2.06-.94L8.5 2.5l-.94 2.06-2.06.94zm10 10l.94 2.06.94-2.06 2.06-.94-2.06-.94-.94-2.06-.94 2.06-2.06.94z\"/><path d=\"M17.41 7.96l-1.37-1.37c-.4-.4-.92-.59-1.43-.59-.52 0-1.04.2-1.43.59L10.3 9.45l-7.72 7.72c-.78.78-.78 2.05 0 2.83L4 21.41c.39.39.9.59 1.41.59.51 0 1.02-.2 1.41-.59l7.78-7.78 2.81-2.81c.8-.78.8-2.07 0-2.86zM5.41 20L4 18.59l7.72-7.72 1.47 1.35L5.41 20z\"/>\n",
              "  </svg>\n",
              "      </button>\n",
              "      \n",
              "  <style>\n",
              "    .colab-df-container {\n",
              "      display:flex;\n",
              "      flex-wrap:wrap;\n",
              "      gap: 12px;\n",
              "    }\n",
              "\n",
              "    .colab-df-convert {\n",
              "      background-color: #E8F0FE;\n",
              "      border: none;\n",
              "      border-radius: 50%;\n",
              "      cursor: pointer;\n",
              "      display: none;\n",
              "      fill: #1967D2;\n",
              "      height: 32px;\n",
              "      padding: 0 0 0 0;\n",
              "      width: 32px;\n",
              "    }\n",
              "\n",
              "    .colab-df-convert:hover {\n",
              "      background-color: #E2EBFA;\n",
              "      box-shadow: 0px 1px 2px rgba(60, 64, 67, 0.3), 0px 1px 3px 1px rgba(60, 64, 67, 0.15);\n",
              "      fill: #174EA6;\n",
              "    }\n",
              "\n",
              "    [theme=dark] .colab-df-convert {\n",
              "      background-color: #3B4455;\n",
              "      fill: #D2E3FC;\n",
              "    }\n",
              "\n",
              "    [theme=dark] .colab-df-convert:hover {\n",
              "      background-color: #434B5C;\n",
              "      box-shadow: 0px 1px 3px 1px rgba(0, 0, 0, 0.15);\n",
              "      filter: drop-shadow(0px 1px 2px rgba(0, 0, 0, 0.3));\n",
              "      fill: #FFFFFF;\n",
              "    }\n",
              "  </style>\n",
              "\n",
              "      <script>\n",
              "        const buttonEl =\n",
              "          document.querySelector('#df-b72a9cde-f6a1-4268-bdeb-b707df60088f button.colab-df-convert');\n",
              "        buttonEl.style.display =\n",
              "          google.colab.kernel.accessAllowed ? 'block' : 'none';\n",
              "\n",
              "        async function convertToInteractive(key) {\n",
              "          const element = document.querySelector('#df-b72a9cde-f6a1-4268-bdeb-b707df60088f');\n",
              "          const dataTable =\n",
              "            await google.colab.kernel.invokeFunction('convertToInteractive',\n",
              "                                                     [key], {});\n",
              "          if (!dataTable) return;\n",
              "\n",
              "          const docLinkHtml = 'Like what you see? Visit the ' +\n",
              "            '<a target=\"_blank\" href=https://colab.research.google.com/notebooks/data_table.ipynb>data table notebook</a>'\n",
              "            + ' to learn more about interactive tables.';\n",
              "          element.innerHTML = '';\n",
              "          dataTable['output_type'] = 'display_data';\n",
              "          await google.colab.output.renderOutput(dataTable, element);\n",
              "          const docLink = document.createElement('div');\n",
              "          docLink.innerHTML = docLinkHtml;\n",
              "          element.appendChild(docLink);\n",
              "        }\n",
              "      </script>\n",
              "    </div>\n",
              "  </div>\n",
              "  "
            ],
            "text/plain": [
              "               localidad  latitud\n",
              "0                 Abasto -34.6039\n",
              "1              Agronomía -34.5926\n",
              "2                Almagro -34.6046\n",
              "3        Almirante Brown -34.8028\n",
              "4             Avellaneda -34.6821\n",
              "5              Balvanera -34.6105\n",
              "6               Barracas -34.6394\n",
              "7           Barrio Norte -34.5933\n",
              "8               Belgrano -34.5630\n",
              "9            Berazategui -34.7892\n",
              "10                  Boca -34.6334\n",
              "11                 Boedo -34.6265\n",
              "12             Caballito -34.6174\n",
              "13             Catalinas -34.5978\n",
              "14              Cañuelas -34.9859\n",
              "15  Centro / Microcentro -34.6033\n",
              "16             Chacarita -34.5891\n",
              "17               Coghlan -34.5610\n",
              "18            Colegiales -34.5771\n",
              "19              Congreso -34.6098\n",
              "20          Constitución -34.6261\n",
              "21               Escobar -34.3647\n",
              "22    Esteban Echeverría -34.8283\n",
              "23                Ezeiza -34.8844\n",
              "24      Florencio Varela -34.8068\n",
              "25                Flores -34.6286\n",
              "26              Floresta -34.6315\n",
              "27     General Rodríguez -34.6056\n",
              "28    General San Martín -34.5635\n",
              "29            Hurlingham -34.5972\n",
              "30             Ituzaingó -34.6439\n",
              "31            José C Paz -34.5200\n",
              "32            La Matanza -34.6627\n",
              "33              La Plata -34.9173\n",
              "34                 Lanús -34.7071\n",
              "35           Las Cañitas -34.5680\n",
              "36               Liniers -34.6439\n",
              "37       Lomas de Zamora -34.7614\n",
              "38   Malvinas Argentinas -34.4944\n",
              "39            Marcos Paz -34.7823\n",
              "40             Mataderos -34.6548\n",
              "41                 Merlo -34.6704\n",
              "42             Monserrat -34.6136\n",
              "43          Monte Castro -34.6207\n",
              "44                Moreno -34.6384\n",
              "45                 Morón -34.6474\n",
              "46                 Nuñez -34.5479\n",
              "47                  Once -34.6084\n",
              "48               Palermo -34.5853\n",
              "49     Parque Avellaneda -34.6458\n",
              "50     Parque Centenario -34.6038\n",
              "51      Parque Chacabuco -34.6362\n",
              "52           Parque Chas -34.5846\n",
              "53      Parque Patricios -34.6352\n",
              "54              Paternal -34.6021\n",
              "55                 Pilar -34.4429\n",
              "56               Pompeya -34.6483\n",
              "57      Presidente Perón -34.9307\n",
              "58         Puerto Madero -34.6126\n",
              "59               Quilmes -34.7228\n",
              "60              Recoleta -34.5923\n",
              "61                Retiro -34.5957\n",
              "62              Saavedra -34.5525\n",
              "63         San Cristobal -34.6230\n",
              "64          San Fernando -34.4455\n",
              "65            San Isidro -34.4805\n",
              "66            San Miguel -34.5468\n",
              "67           San Nicolás -34.6038\n",
              "68             San Telmo -34.6212\n",
              "69           San Vicente -34.9888\n",
              "70                 Tigre -34.4206\n",
              "71       Tres de Febrero -34.6025\n",
              "72            Tribunales -34.6026\n",
              "73       Velez Sarsfield -34.6313\n",
              "74             Versalles -34.6308\n",
              "75         Vicente López -34.5207\n",
              "76          Villa Crespo -34.5984\n",
              "77          Villa Devoto -34.6054\n",
              "78   Villa General Mitre -34.6107\n",
              "79          Villa Lugano -34.6785\n",
              "80            Villa Luro -34.6387\n",
              "81         Villa Ortuzar -34.5816\n",
              "82      Villa Pueyrredón -34.5852\n",
              "83            Villa Real -34.6203\n",
              "84       Villa Riachuelo -34.6911\n",
              "85      Villa Santa Rita -34.6141\n",
              "86         Villa Soldati -34.6624\n",
              "87         Villa Urquiza -34.5734\n",
              "88      Villa del Parque -34.6056"
            ]
          },
          "metadata": {},
          "execution_count": 381
        }
      ],
      "source": [
        "#básicamente hacemos lo mismo que lo anterior pero por barrio y por latitud y longitud\n",
        "#primero agrupo y calculo la mediana\n",
        "\n",
        "dic_agrupado_logitud = pd.DataFrame(df.groupby(\"localidad\").agg({\"longitud\" : \"median\"}))\n",
        "dic_agrupado_logitud.reset_index(inplace = True, drop = False)\n",
        "dic_agrupado_logitud\n",
        "\n",
        "\n",
        "dic_agrupado_latitud = pd.DataFrame(df.groupby(\"localidad\").agg({\"latitud\" : \"median\"}))\n",
        "dic_agrupado_latitud.reset_index(inplace = True, drop = False)\n",
        "dic_agrupado_latitud\n"
      ],
      "id": "constitutional-lightning"
    },
    {
      "cell_type": "code",
      "execution_count": null,
      "metadata": {
        "id": "whole-california"
      },
      "outputs": [],
      "source": [
        "# creo un for y una mascara para imputar a valores nulos la cantidad de baños promedios que calcule anteriormente.\n",
        "for x in range(dic_agrupado_logitud.shape[0]):\n",
        "    vble_localidad = dic_agrupado_logitud.localidad[x]\n",
        "    vlbe_longitud = dic_agrupado_logitud.longitud[x]\n",
        "    \n",
        "    mask = (pd.isna(df.longitud)) & (df.localidad == vble_localidad)\n",
        "    df.loc[mask, \"longitud\"] = vlbe_longitud\n",
        "    \n"
      ],
      "id": "whole-california"
    },
    {
      "cell_type": "code",
      "execution_count": null,
      "metadata": {
        "id": "turned-conversion",
        "colab": {
          "base_uri": "https://localhost:8080/"
        },
        "outputId": "6a8ed0ea-ce1f-4f2c-cf6a-27f5c6381125"
      },
      "outputs": [
        {
          "output_type": "execute_result",
          "data": {
            "text/plain": [
              "latitud                 9593\n",
              "longitud                   0\n",
              "pais                       0\n",
              "region                     0\n",
              "localidad                  0\n",
              "ambientes                  0\n",
              "dormitorios                0\n",
              "baños                      0\n",
              "superficie             18623\n",
              "superficie_cubierta    18909\n",
              "precio                     0\n",
              "tipo                       0\n",
              "dtype: int64"
            ]
          },
          "metadata": {},
          "execution_count": 383
        }
      ],
      "source": [
        "df.isna().sum()"
      ],
      "id": "turned-conversion"
    },
    {
      "cell_type": "code",
      "execution_count": null,
      "metadata": {
        "id": "mobile-dayton"
      },
      "outputs": [],
      "source": [
        "for x in range(dic_agrupado_latitud.shape[0]):\n",
        "    vble_localidad = dic_agrupado_latitud.localidad[x]\n",
        "    vlbe_latitud = dic_agrupado_latitud.latitud[x]\n",
        "    \n",
        "    mask = (pd.isna(df.latitud)) & (df.localidad == vble_localidad)\n",
        "    df.loc[mask, \"latitud\"] = vlbe_latitud\n",
        "    "
      ],
      "id": "mobile-dayton"
    },
    {
      "cell_type": "code",
      "execution_count": null,
      "metadata": {
        "id": "national-practice",
        "colab": {
          "base_uri": "https://localhost:8080/"
        },
        "outputId": "f5a8f47a-51c2-4ced-aaa5-2de68517ce5a"
      },
      "outputs": [
        {
          "output_type": "execute_result",
          "data": {
            "text/plain": [
              "latitud                    0\n",
              "longitud                   0\n",
              "pais                       0\n",
              "region                     0\n",
              "localidad                  0\n",
              "ambientes                  0\n",
              "dormitorios                0\n",
              "baños                      0\n",
              "superficie             18623\n",
              "superficie_cubierta    18909\n",
              "precio                     0\n",
              "tipo                       0\n",
              "dtype: int64"
            ]
          },
          "metadata": {},
          "execution_count": 385
        }
      ],
      "source": [
        "df.isna().sum()"
      ],
      "id": "national-practice"
    },
    {
      "cell_type": "markdown",
      "metadata": {
        "id": "modular-argentina"
      },
      "source": [
        "#### Superficies"
      ],
      "id": "modular-argentina"
    },
    {
      "cell_type": "code",
      "execution_count": null,
      "metadata": {
        "id": "therapeutic-visiting",
        "colab": {
          "base_uri": "https://localhost:8080/"
        },
        "outputId": "669dbb24-084e-4688-e13c-5951d0574055"
      },
      "outputs": [
        {
          "output_type": "execute_result",
          "data": {
            "text/plain": [
              "18113"
            ]
          },
          "metadata": {},
          "execution_count": 386
        }
      ],
      "source": [
        "# observamos en cuantos valores se repite que al no haber latitud tampoco hay longitud. \n",
        "np.logical_and(pd.isnull(df.superficie_cubierta), pd.isnull(df.superficie)).sum()\n"
      ],
      "id": "therapeutic-visiting"
    },
    {
      "cell_type": "markdown",
      "metadata": {
        "id": "collective-signal"
      },
      "source": [
        "Podemos suponer que esto pasa al no querer que se sepa la localización exacta de las casas, como la forma de llenar dichos espacios no es factible como mencionamos anteriormente, procedemos a eliminar datos nulos."
      ],
      "id": "collective-signal"
    },
    {
      "cell_type": "code",
      "execution_count": null,
      "metadata": {
        "id": "surface-brick"
      },
      "outputs": [],
      "source": [
        "df = df.dropna()"
      ],
      "id": "surface-brick"
    },
    {
      "cell_type": "code",
      "execution_count": null,
      "metadata": {
        "id": "formal-mitchell",
        "colab": {
          "base_uri": "https://localhost:8080/"
        },
        "outputId": "25ff7958-2cb4-4405-8b26-c81229e5c8c3"
      },
      "outputs": [
        {
          "output_type": "execute_result",
          "data": {
            "text/plain": [
              "latitud                0\n",
              "longitud               0\n",
              "pais                   0\n",
              "region                 0\n",
              "localidad              0\n",
              "ambientes              0\n",
              "dormitorios            0\n",
              "baños                  0\n",
              "superficie             0\n",
              "superficie_cubierta    0\n",
              "precio                 0\n",
              "tipo                   0\n",
              "dtype: int64"
            ]
          },
          "metadata": {},
          "execution_count": 388
        }
      ],
      "source": [
        "#corroboramos nuevamente datos nulos\n",
        "df.isna().sum()"
      ],
      "id": "formal-mitchell"
    },
    {
      "cell_type": "markdown",
      "metadata": {
        "id": "identified-recognition"
      },
      "source": [
        "#### Resumen\n",
        "\n",
        "Rellenamos los valores nulos de todas las variables que nos interesaban, teniendo en cuenta si era importante calcularlo y de manera objetiva los valores que debían tomar como así también si era relevante y no sesgaban nuestros futuros análisis al hacerlo."
      ],
      "id": "identified-recognition"
    },
    {
      "cell_type": "markdown",
      "metadata": {
        "id": "homeless-purple"
      },
      "source": [
        "### 2. Detección y eliminación de Outliers\n",
        "\n",
        "Vamos a observar los outliers y eliminarlo según alguno de los parámetros estudiados. Primero realizaremos un boxplot y un displot.\n",
        "\n",
        "La idea es hacerlo según tipo de vivienda, ya que dependiendo el tipo, realmente va a ser un outlier o no.\n",
        "\n",
        "Se utilizará primero un análisis subjetivo y luego se realizará por rango intercuartílico o la regla de tres sigma según se estime mejor."
      ],
      "id": "homeless-purple"
    },
    {
      "cell_type": "code",
      "execution_count": null,
      "metadata": {
        "id": "statewide-suggestion",
        "colab": {
          "base_uri": "https://localhost:8080/",
          "height": 300
        },
        "outputId": "0539f7b7-8aa3-4f85-e10e-009fb6e397d7"
      },
      "outputs": [
        {
          "output_type": "execute_result",
          "data": {
            "text/html": [
              "\n",
              "  <div id=\"df-0a4f494c-6187-4375-bc40-fa5747045196\">\n",
              "    <div class=\"colab-df-container\">\n",
              "      <div>\n",
              "<style scoped>\n",
              "    .dataframe tbody tr th:only-of-type {\n",
              "        vertical-align: middle;\n",
              "    }\n",
              "\n",
              "    .dataframe tbody tr th {\n",
              "        vertical-align: top;\n",
              "    }\n",
              "\n",
              "    .dataframe thead th {\n",
              "        text-align: right;\n",
              "    }\n",
              "</style>\n",
              "<table border=\"1\" class=\"dataframe\">\n",
              "  <thead>\n",
              "    <tr style=\"text-align: right;\">\n",
              "      <th></th>\n",
              "      <th>latitud</th>\n",
              "      <th>longitud</th>\n",
              "      <th>ambientes</th>\n",
              "      <th>dormitorios</th>\n",
              "      <th>baños</th>\n",
              "      <th>superficie</th>\n",
              "      <th>superficie_cubierta</th>\n",
              "      <th>precio</th>\n",
              "    </tr>\n",
              "  </thead>\n",
              "  <tbody>\n",
              "    <tr>\n",
              "      <th>count</th>\n",
              "      <td>123726.0000</td>\n",
              "      <td>123726.0000</td>\n",
              "      <td>123726.0000</td>\n",
              "      <td>123726.0000</td>\n",
              "      <td>123726.0000</td>\n",
              "      <td>123726.0000</td>\n",
              "      <td>123726.0000</td>\n",
              "      <td>123726.0000</td>\n",
              "    </tr>\n",
              "    <tr>\n",
              "      <th>mean</th>\n",
              "      <td>-34.5952</td>\n",
              "      <td>-58.4658</td>\n",
              "      <td>3.1276</td>\n",
              "      <td>2.0666</td>\n",
              "      <td>1.5861</td>\n",
              "      <td>182.9274</td>\n",
              "      <td>112.4493</td>\n",
              "      <td>243612.3743</td>\n",
              "    </tr>\n",
              "    <tr>\n",
              "      <th>std</th>\n",
              "      <td>0.0976</td>\n",
              "      <td>0.1416</td>\n",
              "      <td>1.3891</td>\n",
              "      <td>1.0819</td>\n",
              "      <td>0.8739</td>\n",
              "      <td>1441.2864</td>\n",
              "      <td>920.8103</td>\n",
              "      <td>299197.9175</td>\n",
              "    </tr>\n",
              "    <tr>\n",
              "      <th>min</th>\n",
              "      <td>-35.1508</td>\n",
              "      <td>-59.0424</td>\n",
              "      <td>1.0000</td>\n",
              "      <td>0.0000</td>\n",
              "      <td>1.0000</td>\n",
              "      <td>10.0000</td>\n",
              "      <td>1.0000</td>\n",
              "      <td>6000.0000</td>\n",
              "    </tr>\n",
              "    <tr>\n",
              "      <th>25%</th>\n",
              "      <td>-34.6192</td>\n",
              "      <td>-58.5052</td>\n",
              "      <td>2.0000</td>\n",
              "      <td>1.0000</td>\n",
              "      <td>1.0000</td>\n",
              "      <td>52.0000</td>\n",
              "      <td>47.0000</td>\n",
              "      <td>115000.0000</td>\n",
              "    </tr>\n",
              "    <tr>\n",
              "      <th>50%</th>\n",
              "      <td>-34.5974</td>\n",
              "      <td>-58.4433</td>\n",
              "      <td>3.0000</td>\n",
              "      <td>2.0000</td>\n",
              "      <td>1.0000</td>\n",
              "      <td>78.0000</td>\n",
              "      <td>68.0000</td>\n",
              "      <td>170000.0000</td>\n",
              "    </tr>\n",
              "    <tr>\n",
              "      <th>75%</th>\n",
              "      <td>-34.5685</td>\n",
              "      <td>-58.4106</td>\n",
              "      <td>4.0000</td>\n",
              "      <td>3.0000</td>\n",
              "      <td>2.0000</td>\n",
              "      <td>138.0000</td>\n",
              "      <td>108.0000</td>\n",
              "      <td>268434.0000</td>\n",
              "    </tr>\n",
              "    <tr>\n",
              "      <th>max</th>\n",
              "      <td>-34.1714</td>\n",
              "      <td>-57.8058</td>\n",
              "      <td>35.0000</td>\n",
              "      <td>15.0000</td>\n",
              "      <td>14.0000</td>\n",
              "      <td>169000.0000</td>\n",
              "      <td>126062.0000</td>\n",
              "      <td>32434232.0000</td>\n",
              "    </tr>\n",
              "  </tbody>\n",
              "</table>\n",
              "</div>\n",
              "      <button class=\"colab-df-convert\" onclick=\"convertToInteractive('df-0a4f494c-6187-4375-bc40-fa5747045196')\"\n",
              "              title=\"Convert this dataframe to an interactive table.\"\n",
              "              style=\"display:none;\">\n",
              "        \n",
              "  <svg xmlns=\"http://www.w3.org/2000/svg\" height=\"24px\"viewBox=\"0 0 24 24\"\n",
              "       width=\"24px\">\n",
              "    <path d=\"M0 0h24v24H0V0z\" fill=\"none\"/>\n",
              "    <path d=\"M18.56 5.44l.94 2.06.94-2.06 2.06-.94-2.06-.94-.94-2.06-.94 2.06-2.06.94zm-11 1L8.5 8.5l.94-2.06 2.06-.94-2.06-.94L8.5 2.5l-.94 2.06-2.06.94zm10 10l.94 2.06.94-2.06 2.06-.94-2.06-.94-.94-2.06-.94 2.06-2.06.94z\"/><path d=\"M17.41 7.96l-1.37-1.37c-.4-.4-.92-.59-1.43-.59-.52 0-1.04.2-1.43.59L10.3 9.45l-7.72 7.72c-.78.78-.78 2.05 0 2.83L4 21.41c.39.39.9.59 1.41.59.51 0 1.02-.2 1.41-.59l7.78-7.78 2.81-2.81c.8-.78.8-2.07 0-2.86zM5.41 20L4 18.59l7.72-7.72 1.47 1.35L5.41 20z\"/>\n",
              "  </svg>\n",
              "      </button>\n",
              "      \n",
              "  <style>\n",
              "    .colab-df-container {\n",
              "      display:flex;\n",
              "      flex-wrap:wrap;\n",
              "      gap: 12px;\n",
              "    }\n",
              "\n",
              "    .colab-df-convert {\n",
              "      background-color: #E8F0FE;\n",
              "      border: none;\n",
              "      border-radius: 50%;\n",
              "      cursor: pointer;\n",
              "      display: none;\n",
              "      fill: #1967D2;\n",
              "      height: 32px;\n",
              "      padding: 0 0 0 0;\n",
              "      width: 32px;\n",
              "    }\n",
              "\n",
              "    .colab-df-convert:hover {\n",
              "      background-color: #E2EBFA;\n",
              "      box-shadow: 0px 1px 2px rgba(60, 64, 67, 0.3), 0px 1px 3px 1px rgba(60, 64, 67, 0.15);\n",
              "      fill: #174EA6;\n",
              "    }\n",
              "\n",
              "    [theme=dark] .colab-df-convert {\n",
              "      background-color: #3B4455;\n",
              "      fill: #D2E3FC;\n",
              "    }\n",
              "\n",
              "    [theme=dark] .colab-df-convert:hover {\n",
              "      background-color: #434B5C;\n",
              "      box-shadow: 0px 1px 3px 1px rgba(0, 0, 0, 0.15);\n",
              "      filter: drop-shadow(0px 1px 2px rgba(0, 0, 0, 0.3));\n",
              "      fill: #FFFFFF;\n",
              "    }\n",
              "  </style>\n",
              "\n",
              "      <script>\n",
              "        const buttonEl =\n",
              "          document.querySelector('#df-0a4f494c-6187-4375-bc40-fa5747045196 button.colab-df-convert');\n",
              "        buttonEl.style.display =\n",
              "          google.colab.kernel.accessAllowed ? 'block' : 'none';\n",
              "\n",
              "        async function convertToInteractive(key) {\n",
              "          const element = document.querySelector('#df-0a4f494c-6187-4375-bc40-fa5747045196');\n",
              "          const dataTable =\n",
              "            await google.colab.kernel.invokeFunction('convertToInteractive',\n",
              "                                                     [key], {});\n",
              "          if (!dataTable) return;\n",
              "\n",
              "          const docLinkHtml = 'Like what you see? Visit the ' +\n",
              "            '<a target=\"_blank\" href=https://colab.research.google.com/notebooks/data_table.ipynb>data table notebook</a>'\n",
              "            + ' to learn more about interactive tables.';\n",
              "          element.innerHTML = '';\n",
              "          dataTable['output_type'] = 'display_data';\n",
              "          await google.colab.output.renderOutput(dataTable, element);\n",
              "          const docLink = document.createElement('div');\n",
              "          docLink.innerHTML = docLinkHtml;\n",
              "          element.appendChild(docLink);\n",
              "        }\n",
              "      </script>\n",
              "    </div>\n",
              "  </div>\n",
              "  "
            ],
            "text/plain": [
              "          latitud    longitud   ambientes  dormitorios       baños  \\\n",
              "count 123726.0000 123726.0000 123726.0000  123726.0000 123726.0000   \n",
              "mean     -34.5952    -58.4658      3.1276       2.0666      1.5861   \n",
              "std        0.0976      0.1416      1.3891       1.0819      0.8739   \n",
              "min      -35.1508    -59.0424      1.0000       0.0000      1.0000   \n",
              "25%      -34.6192    -58.5052      2.0000       1.0000      1.0000   \n",
              "50%      -34.5974    -58.4433      3.0000       2.0000      1.0000   \n",
              "75%      -34.5685    -58.4106      4.0000       3.0000      2.0000   \n",
              "max      -34.1714    -57.8058     35.0000      15.0000     14.0000   \n",
              "\n",
              "       superficie  superficie_cubierta        precio  \n",
              "count 123726.0000          123726.0000   123726.0000  \n",
              "mean     182.9274             112.4493   243612.3743  \n",
              "std     1441.2864             920.8103   299197.9175  \n",
              "min       10.0000               1.0000     6000.0000  \n",
              "25%       52.0000              47.0000   115000.0000  \n",
              "50%       78.0000              68.0000   170000.0000  \n",
              "75%      138.0000             108.0000   268434.0000  \n",
              "max   169000.0000          126062.0000 32434232.0000  "
            ]
          },
          "metadata": {},
          "execution_count": 389
        }
      ],
      "source": [
        "df.describe()\n",
        "\n",
        "#Observamos mediante los maximos y minimos. En latitud y longitud no nos dice nada. Lo importante es superficie total y cubierta, dormitorios, ambientes y \n",
        "#baños."
      ],
      "id": "statewide-suggestion"
    },
    {
      "cell_type": "code",
      "execution_count": null,
      "metadata": {
        "id": "quiet-jacket",
        "colab": {
          "base_uri": "https://localhost:8080/"
        },
        "outputId": "4cf693a2-0233-423a-99ca-cc5e75475159"
      },
      "outputs": [
        {
          "output_type": "execute_result",
          "data": {
            "text/plain": [
              "(123726, 12)"
            ]
          },
          "metadata": {},
          "execution_count": 390
        }
      ],
      "source": [
        "df.shape"
      ],
      "id": "quiet-jacket"
    },
    {
      "cell_type": "markdown",
      "metadata": {
        "id": "aging-cassette"
      },
      "source": [
        "###### Conclusiones\n",
        "1. Ambientes 35 muy posiblemente sea un outlier, mientras que 1 en departamentos y ph no, pero en casa puede serlo.\n",
        "2. 14 baños seguramente sea un outlier. \n",
        "3. Dormitorios 0 acepta la idea de monoambientes, no seria un outlier. Los 15 ambientes tampoco es \"mucho\" para casas.\n",
        "4. La superficie tanto en minimo como en maximo aparentan ser outliers siendo que eliminamos terrenos, campos, etc.\n",
        "\n",
        "\n",
        "#### Vamos a ir variable por variable analizando los outliers."
      ],
      "id": "aging-cassette"
    },
    {
      "cell_type": "code",
      "execution_count": null,
      "metadata": {
        "id": "needed-enclosure"
      },
      "outputs": [],
      "source": [
        "#Primero divido por tipo de propiedad\n",
        "df_ph = df[df[\"tipo\"]==\"PH\"]\n",
        "df_dpto = df[df[\"tipo\"]==\"Departamento\"]\n",
        "df_casa = df[df[\"tipo\"]==\"Casa\"]"
      ],
      "id": "needed-enclosure"
    },
    {
      "cell_type": "markdown",
      "metadata": {
        "id": "toxic-massachusetts"
      },
      "source": [
        "#### Ambientes"
      ],
      "id": "toxic-massachusetts"
    },
    {
      "cell_type": "code",
      "execution_count": null,
      "metadata": {
        "id": "turkish-bailey",
        "scrolled": true,
        "colab": {
          "base_uri": "https://localhost:8080/"
        },
        "outputId": "df418848-006b-4df7-b090-6bdb6201f928"
      },
      "outputs": [
        {
          "output_type": "stream",
          "name": "stdout",
          "text": [
            "PH\n"
          ]
        },
        {
          "output_type": "execute_result",
          "data": {
            "text/plain": [
              "ambientes\n",
              "1.0000      152\n",
              "2.0000     2421\n",
              "3.0000     5303\n",
              "4.0000     3892\n",
              "5.0000     1501\n",
              "6.0000      390\n",
              "7.0000      194\n",
              "8.0000      145\n",
              "9.0000       30\n",
              "10.0000      24\n",
              "11.0000      15\n",
              "12.0000       6\n",
              "14.0000       1\n",
              "15.0000       7\n",
              "16.0000       3\n",
              "20.0000       1\n",
              "35.0000       1\n",
              "dtype: int64"
            ]
          },
          "metadata": {},
          "execution_count": 392
        },
        {
          "output_type": "stream",
          "name": "stdout",
          "text": [
            "Departamento\n"
          ]
        },
        {
          "output_type": "execute_result",
          "data": {
            "text/plain": [
              "ambientes\n",
              "1.0000      7978\n",
              "2.0000     33050\n",
              "3.0000     30384\n",
              "4.0000     16195\n",
              "5.0000      3660\n",
              "6.0000      1165\n",
              "7.0000       356\n",
              "8.0000       217\n",
              "9.0000        44\n",
              "10.0000       35\n",
              "11.0000        8\n",
              "12.0000       28\n",
              "13.0000        2\n",
              "14.0000        5\n",
              "15.0000        3\n",
              "21.0000        2\n",
              "32.0000        1\n",
              "dtype: int64"
            ]
          },
          "metadata": {},
          "execution_count": 392
        },
        {
          "output_type": "stream",
          "name": "stdout",
          "text": [
            "Casa\n"
          ]
        },
        {
          "output_type": "execute_result",
          "data": {
            "text/plain": [
              "ambientes\n",
              "1.0000       39\n",
              "2.0000      360\n",
              "3.0000     3313\n",
              "4.0000     5279\n",
              "5.0000     3850\n",
              "6.0000     1978\n",
              "7.0000      980\n",
              "8.0000      386\n",
              "9.0000      136\n",
              "10.0000     116\n",
              "11.0000      20\n",
              "12.0000      15\n",
              "13.0000       9\n",
              "14.0000       5\n",
              "15.0000       5\n",
              "16.0000       4\n",
              "18.0000       2\n",
              "20.0000       6\n",
              "24.0000       1\n",
              "26.0000       2\n",
              "30.0000       1\n",
              "dtype: int64"
            ]
          },
          "metadata": {},
          "execution_count": 392
        }
      ],
      "source": [
        "print (\"PH\")\n",
        "df_ph.groupby(\"ambientes\").size()\n",
        "print (\"Departamento\")\n",
        "df_dpto.groupby(\"ambientes\").size()\n",
        "print (\"Casa\")\n",
        "df_casa.groupby(\"ambientes\").size()"
      ],
      "id": "turkish-bailey"
    },
    {
      "cell_type": "code",
      "execution_count": null,
      "metadata": {
        "id": "continuing-vampire",
        "scrolled": true,
        "colab": {
          "base_uri": "https://localhost:8080/",
          "height": 365
        },
        "outputId": "d78ede2c-fe28-4926-bbb3-0c99b03ec01e"
      },
      "outputs": [
        {
          "output_type": "execute_result",
          "data": {
            "text/plain": [
              "<Figure size 1440x720 with 0 Axes>"
            ]
          },
          "metadata": {},
          "execution_count": 393
        },
        {
          "output_type": "execute_result",
          "data": {
            "text/plain": [
              "<matplotlib.axes._subplots.AxesSubplot at 0x7f43a35b1510>"
            ]
          },
          "metadata": {},
          "execution_count": 393
        },
        {
          "output_type": "execute_result",
          "data": {
            "text/plain": [
              "<matplotlib.axes._subplots.AxesSubplot at 0x7f43a35b1510>"
            ]
          },
          "metadata": {},
          "execution_count": 393
        },
        {
          "output_type": "execute_result",
          "data": {
            "text/plain": [
              "Text(0.5, 1.0, 'Ambientes promedio por Tipo')"
            ]
          },
          "metadata": {},
          "execution_count": 393
        },
        {
          "output_type": "display_data",
          "data": {
            "image/png": "[encoded data removed]",
            "text/plain": [
              "<Figure size 1440x720 with 1 Axes>"
            ]
          },
          "metadata": {}
        }
      ],
      "source": [
        "plt.figure(figsize=(20,10))\n",
        "plt.subplot (2,2,1)\n",
        "sns.boxplot (data = df, x = \"tipo\", y = \"ambientes\")\n",
        "plt.title(\"Ambientes promedio por Tipo\")"
      ],
      "id": "continuing-vampire"
    },
    {
      "cell_type": "markdown",
      "metadata": {
        "id": "significant-defendant"
      },
      "source": [
        "Esta variable, como la que sigue (baños), son variables que pueden definirse subjetivamente. En estos casos tendremos en cuenta:\n",
        "Para PH hasta 5 ambientes.\n",
        "Para Departamentos hasta 5 ambientes.\n",
        "Para Casas hasta 8 ambientes parece acorde, capaz habría que sacar las de 1 ambiente, pero no es representativo, por lo que se dejarán.\n",
        "\n",
        "Todo esto, por la cantidad de datos y el % de incidencia que puede tener dentro de cada uno."
      ],
      "id": "significant-defendant"
    },
    {
      "cell_type": "code",
      "execution_count": null,
      "metadata": {
        "id": "designing-breed"
      },
      "outputs": [],
      "source": [
        "df = df[((df.tipo==\"Departamento\")&(df.ambientes<=5))\n",
        "       |((df.tipo==\"PH\")&(df.ambientes<=5))\n",
        "       |((df.tipo==\"Casa\")&(df.ambientes<=8))]"
      ],
      "id": "designing-breed"
    },
    {
      "cell_type": "code",
      "execution_count": null,
      "metadata": {
        "id": "bigger-level",
        "colab": {
          "base_uri": "https://localhost:8080/"
        },
        "outputId": "b8fa3b33-6350-49dd-8ccf-f06f52824d78"
      },
      "outputs": [
        {
          "output_type": "execute_result",
          "data": {
            "text/plain": [
              "(120721, 12)"
            ]
          },
          "metadata": {},
          "execution_count": 395
        }
      ],
      "source": [
        "df.shape"
      ],
      "id": "bigger-level"
    },
    {
      "cell_type": "code",
      "execution_count": null,
      "metadata": {
        "id": "collective-corpus",
        "scrolled": true,
        "colab": {
          "base_uri": "https://localhost:8080/",
          "height": 365
        },
        "outputId": "34be8050-c761-4ef1-9db6-8b085f5d3c65"
      },
      "outputs": [
        {
          "output_type": "execute_result",
          "data": {
            "text/plain": [
              "<Figure size 1440x720 with 0 Axes>"
            ]
          },
          "metadata": {},
          "execution_count": 396
        },
        {
          "output_type": "execute_result",
          "data": {
            "text/plain": [
              "<matplotlib.axes._subplots.AxesSubplot at 0x7f43a333e7d0>"
            ]
          },
          "metadata": {},
          "execution_count": 396
        },
        {
          "output_type": "execute_result",
          "data": {
            "text/plain": [
              "<matplotlib.axes._subplots.AxesSubplot at 0x7f43a333e7d0>"
            ]
          },
          "metadata": {},
          "execution_count": 396
        },
        {
          "output_type": "execute_result",
          "data": {
            "text/plain": [
              "Text(0.5, 1.0, 'Ambientes promedio por Tipo')"
            ]
          },
          "metadata": {},
          "execution_count": 396
        },
        {
          "output_type": "display_data",
          "data": {
            "image/png": "[encoded data removed]",
            "text/plain": [
              "<Figure size 1440x720 with 1 Axes>"
            ]
          },
          "metadata": {}
        }
      ],
      "source": [
        "plt.figure(figsize=(20,10))\n",
        "plt.subplot (2,2,1)\n",
        "sns.boxplot (data = df, x = \"tipo\", y = \"ambientes\")\n",
        "plt.title(\"Ambientes promedio por Tipo\")"
      ],
      "id": "collective-corpus"
    },
    {
      "cell_type": "markdown",
      "metadata": {
        "id": "addressed-license"
      },
      "source": [
        "Lo importante en este punto es entender que la mayor cantidad de datos que dejamos afuera es de departamentos, que representa muy poco para la cantidad total que tenemos. \n",
        "Se sobre entiende que un modelo de este tipo, no me va a poder predecir correcto casas y departamentos lujosos, va a poder predecir la \"casa tipo\". Por ello es que la eliminación se hace de esta forma."
      ],
      "id": "addressed-license"
    },
    {
      "cell_type": "markdown",
      "metadata": {
        "id": "proved-residence"
      },
      "source": [
        "#### BAÑOS"
      ],
      "id": "proved-residence"
    },
    {
      "cell_type": "code",
      "execution_count": null,
      "metadata": {
        "id": "fluid-characteristic",
        "scrolled": true,
        "colab": {
          "base_uri": "https://localhost:8080/"
        },
        "outputId": "01aafd7f-ef78-4b4b-ed7f-a5e124fb9885"
      },
      "outputs": [
        {
          "output_type": "stream",
          "name": "stdout",
          "text": [
            "PH\n"
          ]
        },
        {
          "output_type": "execute_result",
          "data": {
            "text/plain": [
              "baños\n",
              "1.0000     8845\n",
              "2.0000     4175\n",
              "3.0000      773\n",
              "4.0000      202\n",
              "5.0000       75\n",
              "6.0000        4\n",
              "7.0000        6\n",
              "8.0000        2\n",
              "9.0000        2\n",
              "11.0000       2\n",
              "dtype: int64"
            ]
          },
          "metadata": {},
          "execution_count": 397
        },
        {
          "output_type": "stream",
          "name": "stdout",
          "text": [
            "Departamento\n"
          ]
        },
        {
          "output_type": "execute_result",
          "data": {
            "text/plain": [
              "baños\n",
              "1.0000     59412\n",
              "2.0000     23749\n",
              "3.0000      7242\n",
              "4.0000      1999\n",
              "5.0000       582\n",
              "6.0000       104\n",
              "7.0000        26\n",
              "8.0000         1\n",
              "9.0000         2\n",
              "10.0000        5\n",
              "11.0000        4\n",
              "12.0000        1\n",
              "14.0000        6\n",
              "dtype: int64"
            ]
          },
          "metadata": {},
          "execution_count": 397
        },
        {
          "output_type": "stream",
          "name": "stdout",
          "text": [
            "Casa\n"
          ]
        },
        {
          "output_type": "execute_result",
          "data": {
            "text/plain": [
              "baños\n",
              "1.0000     5250\n",
              "2.0000     6625\n",
              "3.0000     3027\n",
              "4.0000     1068\n",
              "5.0000      332\n",
              "6.0000      133\n",
              "7.0000       50\n",
              "8.0000       10\n",
              "9.0000        6\n",
              "10.0000       3\n",
              "11.0000       1\n",
              "13.0000       2\n",
              "dtype: int64"
            ]
          },
          "metadata": {},
          "execution_count": 397
        }
      ],
      "source": [
        "print (\"PH\")\n",
        "df_ph.groupby(\"baños\").size()\n",
        "print (\"Departamento\")\n",
        "df_dpto.groupby(\"baños\").size()\n",
        "print (\"Casa\")\n",
        "df_casa.groupby(\"baños\").size()"
      ],
      "id": "fluid-characteristic"
    },
    {
      "cell_type": "code",
      "execution_count": null,
      "metadata": {
        "id": "fantastic-illustration",
        "colab": {
          "base_uri": "https://localhost:8080/",
          "height": 317
        },
        "outputId": "eedcb2f9-baed-4e4a-eb92-e7596e754ff6"
      },
      "outputs": [
        {
          "output_type": "execute_result",
          "data": {
            "text/plain": [
              "<matplotlib.axes._subplots.AxesSubplot at 0x7f43a31b8910>"
            ]
          },
          "metadata": {},
          "execution_count": 398
        },
        {
          "output_type": "execute_result",
          "data": {
            "text/plain": [
              "Text(0.5, 1.0, 'Baños promedio por Tipo')"
            ]
          },
          "metadata": {},
          "execution_count": 398
        },
        {
          "output_type": "display_data",
          "data": {
            "image/png": "[encoded data removed]",
            "text/plain": [
              "<Figure size 432x288 with 1 Axes>"
            ]
          },
          "metadata": {}
        }
      ],
      "source": [
        "sns.boxplot (data = df, x = \"tipo\", y = \"baños\")\n",
        "plt.title(\"Baños promedio por Tipo\")\n"
      ],
      "id": "fantastic-illustration"
    },
    {
      "cell_type": "markdown",
      "metadata": {
        "id": "broken-discovery"
      },
      "source": [
        "Para PH tomaremos sólo 3 bañis, mientras que para departamenos, si bien me parece excesivo, por la cantidad de datos tendremos en cuenta hasta 3 baños.\n",
        "Por el lado de Casas, tomaremos como representativos hasta 4 baños inclusive."
      ],
      "id": "broken-discovery"
    },
    {
      "cell_type": "code",
      "execution_count": null,
      "metadata": {
        "id": "burning-dispute"
      },
      "outputs": [],
      "source": [
        "df = df[((df.tipo==\"Departamento\")&(df.baños<=3))\n",
        "       |((df.tipo==\"PH\")&(df.baños<=3))\n",
        "       |((df.tipo==\"Casa\")&(df.baños<=4))]"
      ],
      "id": "burning-dispute"
    },
    {
      "cell_type": "code",
      "execution_count": null,
      "metadata": {
        "id": "musical-doctrine",
        "colab": {
          "base_uri": "https://localhost:8080/"
        },
        "outputId": "9d468286-ddb9-43cb-d829-b99918e4281b"
      },
      "outputs": [
        {
          "output_type": "execute_result",
          "data": {
            "text/plain": [
              "(117996, 12)"
            ]
          },
          "metadata": {},
          "execution_count": 400
        }
      ],
      "source": [
        "df.shape"
      ],
      "id": "musical-doctrine"
    },
    {
      "cell_type": "code",
      "execution_count": null,
      "metadata": {
        "id": "nutritional-galaxy",
        "scrolled": true,
        "colab": {
          "base_uri": "https://localhost:8080/",
          "height": 317
        },
        "outputId": "e4005c5b-a9f7-442f-a0bf-07a6b1fef5a2"
      },
      "outputs": [
        {
          "output_type": "execute_result",
          "data": {
            "text/plain": [
              "<matplotlib.axes._subplots.AxesSubplot at 0x7f43a2fd6150>"
            ]
          },
          "metadata": {},
          "execution_count": 401
        },
        {
          "output_type": "execute_result",
          "data": {
            "text/plain": [
              "Text(0.5, 1.0, 'Baños promedio por Tipo')"
            ]
          },
          "metadata": {},
          "execution_count": 401
        },
        {
          "output_type": "display_data",
          "data": {
            "image/png": "[encoded data removed]",
            "text/plain": [
              "<Figure size 432x288 with 1 Axes>"
            ]
          },
          "metadata": {}
        }
      ],
      "source": [
        "sns.boxplot (data = df, x = \"tipo\", y = \"baños\")\n",
        "plt.title(\"Baños promedio por Tipo\")\n"
      ],
      "id": "nutritional-galaxy"
    },
    {
      "cell_type": "markdown",
      "metadata": {
        "id": "prerequisite-emphasis"
      },
      "source": [
        "Previo a tomar en cuenta dormitorios y comenzar con las superficies, tiramos otro \"describe\" para ver si hace falta."
      ],
      "id": "prerequisite-emphasis"
    },
    {
      "cell_type": "code",
      "execution_count": null,
      "metadata": {
        "id": "regular-minute",
        "colab": {
          "base_uri": "https://localhost:8080/",
          "height": 300
        },
        "outputId": "c38ebf47-c491-414d-f5cb-384130016707"
      },
      "outputs": [
        {
          "output_type": "execute_result",
          "data": {
            "text/html": [
              "\n",
              "  <div id=\"df-620d551e-1471-4da2-95c4-5c128b72f081\">\n",
              "    <div class=\"colab-df-container\">\n",
              "      <div>\n",
              "<style scoped>\n",
              "    .dataframe tbody tr th:only-of-type {\n",
              "        vertical-align: middle;\n",
              "    }\n",
              "\n",
              "    .dataframe tbody tr th {\n",
              "        vertical-align: top;\n",
              "    }\n",
              "\n",
              "    .dataframe thead th {\n",
              "        text-align: right;\n",
              "    }\n",
              "</style>\n",
              "<table border=\"1\" class=\"dataframe\">\n",
              "  <thead>\n",
              "    <tr style=\"text-align: right;\">\n",
              "      <th></th>\n",
              "      <th>latitud</th>\n",
              "      <th>longitud</th>\n",
              "      <th>ambientes</th>\n",
              "      <th>dormitorios</th>\n",
              "      <th>baños</th>\n",
              "      <th>superficie</th>\n",
              "      <th>superficie_cubierta</th>\n",
              "      <th>precio</th>\n",
              "    </tr>\n",
              "  </thead>\n",
              "  <tbody>\n",
              "    <tr>\n",
              "      <th>count</th>\n",
              "      <td>117996.0000</td>\n",
              "      <td>117996.0000</td>\n",
              "      <td>117996.0000</td>\n",
              "      <td>117996.0000</td>\n",
              "      <td>117996.0000</td>\n",
              "      <td>117996.0000</td>\n",
              "      <td>117996.0000</td>\n",
              "      <td>117996.0000</td>\n",
              "    </tr>\n",
              "    <tr>\n",
              "      <th>mean</th>\n",
              "      <td>-34.5954</td>\n",
              "      <td>-58.4671</td>\n",
              "      <td>2.9884</td>\n",
              "      <td>1.9713</td>\n",
              "      <td>1.4817</td>\n",
              "      <td>173.4197</td>\n",
              "      <td>104.8570</td>\n",
              "      <td>213824.2623</td>\n",
              "    </tr>\n",
              "    <tr>\n",
              "      <th>std</th>\n",
              "      <td>0.0982</td>\n",
              "      <td>0.1423</td>\n",
              "      <td>1.1752</td>\n",
              "      <td>0.9620</td>\n",
              "      <td>0.6871</td>\n",
              "      <td>1456.1754</td>\n",
              "      <td>912.8834</td>\n",
              "      <td>196991.3883</td>\n",
              "    </tr>\n",
              "    <tr>\n",
              "      <th>min</th>\n",
              "      <td>-35.1508</td>\n",
              "      <td>-59.0424</td>\n",
              "      <td>1.0000</td>\n",
              "      <td>0.0000</td>\n",
              "      <td>1.0000</td>\n",
              "      <td>10.0000</td>\n",
              "      <td>1.0000</td>\n",
              "      <td>6000.0000</td>\n",
              "    </tr>\n",
              "    <tr>\n",
              "      <th>25%</th>\n",
              "      <td>-34.6199</td>\n",
              "      <td>-58.5069</td>\n",
              "      <td>2.0000</td>\n",
              "      <td>1.0000</td>\n",
              "      <td>1.0000</td>\n",
              "      <td>51.0000</td>\n",
              "      <td>46.0000</td>\n",
              "      <td>113000.0000</td>\n",
              "    </tr>\n",
              "    <tr>\n",
              "      <th>50%</th>\n",
              "      <td>-34.5977</td>\n",
              "      <td>-58.4443</td>\n",
              "      <td>3.0000</td>\n",
              "      <td>2.0000</td>\n",
              "      <td>1.0000</td>\n",
              "      <td>75.0000</td>\n",
              "      <td>65.0000</td>\n",
              "      <td>165000.0000</td>\n",
              "    </tr>\n",
              "    <tr>\n",
              "      <th>75%</th>\n",
              "      <td>-34.5686</td>\n",
              "      <td>-58.4122</td>\n",
              "      <td>4.0000</td>\n",
              "      <td>3.0000</td>\n",
              "      <td>2.0000</td>\n",
              "      <td>125.0000</td>\n",
              "      <td>100.0000</td>\n",
              "      <td>250000.0000</td>\n",
              "    </tr>\n",
              "    <tr>\n",
              "      <th>max</th>\n",
              "      <td>-34.1714</td>\n",
              "      <td>-57.8058</td>\n",
              "      <td>8.0000</td>\n",
              "      <td>15.0000</td>\n",
              "      <td>4.0000</td>\n",
              "      <td>169000.0000</td>\n",
              "      <td>126062.0000</td>\n",
              "      <td>11111111.0000</td>\n",
              "    </tr>\n",
              "  </tbody>\n",
              "</table>\n",
              "</div>\n",
              "      <button class=\"colab-df-convert\" onclick=\"convertToInteractive('df-620d551e-1471-4da2-95c4-5c128b72f081')\"\n",
              "              title=\"Convert this dataframe to an interactive table.\"\n",
              "              style=\"display:none;\">\n",
              "        \n",
              "  <svg xmlns=\"http://www.w3.org/2000/svg\" height=\"24px\"viewBox=\"0 0 24 24\"\n",
              "       width=\"24px\">\n",
              "    <path d=\"M0 0h24v24H0V0z\" fill=\"none\"/>\n",
              "    <path d=\"M18.56 5.44l.94 2.06.94-2.06 2.06-.94-2.06-.94-.94-2.06-.94 2.06-2.06.94zm-11 1L8.5 8.5l.94-2.06 2.06-.94-2.06-.94L8.5 2.5l-.94 2.06-2.06.94zm10 10l.94 2.06.94-2.06 2.06-.94-2.06-.94-.94-2.06-.94 2.06-2.06.94z\"/><path d=\"M17.41 7.96l-1.37-1.37c-.4-.4-.92-.59-1.43-.59-.52 0-1.04.2-1.43.59L10.3 9.45l-7.72 7.72c-.78.78-.78 2.05 0 2.83L4 21.41c.39.39.9.59 1.41.59.51 0 1.02-.2 1.41-.59l7.78-7.78 2.81-2.81c.8-.78.8-2.07 0-2.86zM5.41 20L4 18.59l7.72-7.72 1.47 1.35L5.41 20z\"/>\n",
              "  </svg>\n",
              "      </button>\n",
              "      \n",
              "  <style>\n",
              "    .colab-df-container {\n",
              "      display:flex;\n",
              "      flex-wrap:wrap;\n",
              "      gap: 12px;\n",
              "    }\n",
              "\n",
              "    .colab-df-convert {\n",
              "      background-color: #E8F0FE;\n",
              "      border: none;\n",
              "      border-radius: 50%;\n",
              "      cursor: pointer;\n",
              "      display: none;\n",
              "      fill: #1967D2;\n",
              "      height: 32px;\n",
              "      padding: 0 0 0 0;\n",
              "      width: 32px;\n",
              "    }\n",
              "\n",
              "    .colab-df-convert:hover {\n",
              "      background-color: #E2EBFA;\n",
              "      box-shadow: 0px 1px 2px rgba(60, 64, 67, 0.3), 0px 1px 3px 1px rgba(60, 64, 67, 0.15);\n",
              "      fill: #174EA6;\n",
              "    }\n",
              "\n",
              "    [theme=dark] .colab-df-convert {\n",
              "      background-color: #3B4455;\n",
              "      fill: #D2E3FC;\n",
              "    }\n",
              "\n",
              "    [theme=dark] .colab-df-convert:hover {\n",
              "      background-color: #434B5C;\n",
              "      box-shadow: 0px 1px 3px 1px rgba(0, 0, 0, 0.15);\n",
              "      filter: drop-shadow(0px 1px 2px rgba(0, 0, 0, 0.3));\n",
              "      fill: #FFFFFF;\n",
              "    }\n",
              "  </style>\n",
              "\n",
              "      <script>\n",
              "        const buttonEl =\n",
              "          document.querySelector('#df-620d551e-1471-4da2-95c4-5c128b72f081 button.colab-df-convert');\n",
              "        buttonEl.style.display =\n",
              "          google.colab.kernel.accessAllowed ? 'block' : 'none';\n",
              "\n",
              "        async function convertToInteractive(key) {\n",
              "          const element = document.querySelector('#df-620d551e-1471-4da2-95c4-5c128b72f081');\n",
              "          const dataTable =\n",
              "            await google.colab.kernel.invokeFunction('convertToInteractive',\n",
              "                                                     [key], {});\n",
              "          if (!dataTable) return;\n",
              "\n",
              "          const docLinkHtml = 'Like what you see? Visit the ' +\n",
              "            '<a target=\"_blank\" href=https://colab.research.google.com/notebooks/data_table.ipynb>data table notebook</a>'\n",
              "            + ' to learn more about interactive tables.';\n",
              "          element.innerHTML = '';\n",
              "          dataTable['output_type'] = 'display_data';\n",
              "          await google.colab.output.renderOutput(dataTable, element);\n",
              "          const docLink = document.createElement('div');\n",
              "          docLink.innerHTML = docLinkHtml;\n",
              "          element.appendChild(docLink);\n",
              "        }\n",
              "      </script>\n",
              "    </div>\n",
              "  </div>\n",
              "  "
            ],
            "text/plain": [
              "          latitud    longitud   ambientes  dormitorios       baños  \\\n",
              "count 117996.0000 117996.0000 117996.0000  117996.0000 117996.0000   \n",
              "mean     -34.5954    -58.4671      2.9884       1.9713      1.4817   \n",
              "std        0.0982      0.1423      1.1752       0.9620      0.6871   \n",
              "min      -35.1508    -59.0424      1.0000       0.0000      1.0000   \n",
              "25%      -34.6199    -58.5069      2.0000       1.0000      1.0000   \n",
              "50%      -34.5977    -58.4443      3.0000       2.0000      1.0000   \n",
              "75%      -34.5686    -58.4122      4.0000       3.0000      2.0000   \n",
              "max      -34.1714    -57.8058      8.0000      15.0000      4.0000   \n",
              "\n",
              "       superficie  superficie_cubierta        precio  \n",
              "count 117996.0000          117996.0000   117996.0000  \n",
              "mean     173.4197             104.8570   213824.2623  \n",
              "std     1456.1754             912.8834   196991.3883  \n",
              "min       10.0000               1.0000     6000.0000  \n",
              "25%       51.0000              46.0000   113000.0000  \n",
              "50%       75.0000              65.0000   165000.0000  \n",
              "75%      125.0000             100.0000   250000.0000  \n",
              "max   169000.0000          126062.0000 11111111.0000  "
            ]
          },
          "metadata": {},
          "execution_count": 402
        }
      ],
      "source": [
        "df.describe()"
      ],
      "id": "regular-minute"
    },
    {
      "cell_type": "markdown",
      "metadata": {
        "id": "tamil-bulgaria"
      },
      "source": [
        "Observamos que siguen habiendo outliers de dormitorios y de superficies, por lo que con dormitorios realizaremos el mismo procedimiento que venimos realizando, mientras que para superficies utilizaremos los metodos de quartiles.\n",
        "\n",
        "No podemos tener 7 ambientes y 15 dormitorios."
      ],
      "id": "tamil-bulgaria"
    },
    {
      "cell_type": "markdown",
      "metadata": {
        "id": "choice-quantity"
      },
      "source": [
        "#### Dormitorios"
      ],
      "id": "choice-quantity"
    },
    {
      "cell_type": "code",
      "execution_count": null,
      "metadata": {
        "id": "ranging-oliver",
        "scrolled": true,
        "colab": {
          "base_uri": "https://localhost:8080/"
        },
        "outputId": "c929625a-8307-4715-9e3a-4068a4dfa686"
      },
      "outputs": [
        {
          "output_type": "stream",
          "name": "stdout",
          "text": [
            "PH\n"
          ]
        },
        {
          "output_type": "execute_result",
          "data": {
            "text/plain": [
              "dormitorios\n",
              "0.0000       15\n",
              "1.0000     2661\n",
              "2.0000     5681\n",
              "3.0000     3919\n",
              "4.0000     1285\n",
              "5.0000      213\n",
              "6.0000      165\n",
              "7.0000      111\n",
              "8.0000       11\n",
              "9.0000       11\n",
              "10.0000       2\n",
              "11.0000       2\n",
              "12.0000       4\n",
              "13.0000       2\n",
              "14.0000       1\n",
              "15.0000       3\n",
              "dtype: int64"
            ]
          },
          "metadata": {},
          "execution_count": 403
        },
        {
          "output_type": "stream",
          "name": "stdout",
          "text": [
            "Departamento\n"
          ]
        },
        {
          "output_type": "execute_result",
          "data": {
            "text/plain": [
              "dormitorios\n",
              "0.0000       586\n",
              "1.0000     40744\n",
              "2.0000     31066\n",
              "3.0000     17163\n",
              "4.0000      3034\n",
              "5.0000       390\n",
              "6.0000        64\n",
              "7.0000        44\n",
              "8.0000        16\n",
              "9.0000         3\n",
              "10.0000        9\n",
              "11.0000        7\n",
              "12.0000        4\n",
              "13.0000        1\n",
              "14.0000        1\n",
              "15.0000        1\n",
              "dtype: int64"
            ]
          },
          "metadata": {},
          "execution_count": 403
        },
        {
          "output_type": "stream",
          "name": "stdout",
          "text": [
            "Casa\n"
          ]
        },
        {
          "output_type": "execute_result",
          "data": {
            "text/plain": [
              "dormitorios\n",
              "0.0000        1\n",
              "1.0000      448\n",
              "2.0000     4110\n",
              "3.0000     6828\n",
              "4.0000     3550\n",
              "5.0000     1082\n",
              "6.0000      338\n",
              "7.0000       85\n",
              "8.0000       27\n",
              "9.0000       10\n",
              "10.0000       8\n",
              "11.0000       4\n",
              "12.0000       7\n",
              "13.0000       3\n",
              "14.0000       4\n",
              "15.0000       2\n",
              "dtype: int64"
            ]
          },
          "metadata": {},
          "execution_count": 403
        }
      ],
      "source": [
        "print (\"PH\")\n",
        "df_ph.groupby(\"dormitorios\").size()\n",
        "print (\"Departamento\")\n",
        "df_dpto.groupby(\"dormitorios\").size()\n",
        "print (\"Casa\")\n",
        "df_casa.groupby(\"dormitorios\").size()"
      ],
      "id": "ranging-oliver"
    },
    {
      "cell_type": "code",
      "execution_count": null,
      "metadata": {
        "id": "starting-peripheral",
        "scrolled": true,
        "colab": {
          "base_uri": "https://localhost:8080/",
          "height": 365
        },
        "outputId": "3e30bb39-8bcd-4261-81ce-77aa2a24305c"
      },
      "outputs": [
        {
          "output_type": "execute_result",
          "data": {
            "text/plain": [
              "<Figure size 1440x720 with 0 Axes>"
            ]
          },
          "metadata": {},
          "execution_count": 404
        },
        {
          "output_type": "execute_result",
          "data": {
            "text/plain": [
              "<matplotlib.axes._subplots.AxesSubplot at 0x7f43a2e5da50>"
            ]
          },
          "metadata": {},
          "execution_count": 404
        },
        {
          "output_type": "execute_result",
          "data": {
            "text/plain": [
              "<matplotlib.axes._subplots.AxesSubplot at 0x7f43a2e5da50>"
            ]
          },
          "metadata": {},
          "execution_count": 404
        },
        {
          "output_type": "execute_result",
          "data": {
            "text/plain": [
              "Text(0.5, 1.0, 'Dormitorios promedio por Tipo')"
            ]
          },
          "metadata": {},
          "execution_count": 404
        },
        {
          "output_type": "display_data",
          "data": {
            "image/png": "[encoded data removed]",
            "text/plain": [
              "<Figure size 1440x720 with 1 Axes>"
            ]
          },
          "metadata": {}
        }
      ],
      "source": [
        "plt.figure(figsize=(20,10))\n",
        "plt.subplot (2,2,1)\n",
        "sns.boxplot (data = df, x = \"tipo\", y = \"dormitorios\")\n",
        "plt.title(\"Dormitorios promedio por Tipo\")"
      ],
      "id": "starting-peripheral"
    },
    {
      "cell_type": "markdown",
      "metadata": {
        "id": "determined-chair"
      },
      "source": [
        "Los dormitorios en 0 se podria entender en dormitorios monoambientes, como máximo se tomará 3.\n",
        "En cuanto a Casas, tendremos de 1 dormitorio y hasta 5 dormitorios teniendo en cuenta que se tomó hasta 7 ambientes solamente.\n",
        "PH será de a 1 dormitorio y hasta 4."
      ],
      "id": "determined-chair"
    },
    {
      "cell_type": "code",
      "execution_count": null,
      "metadata": {
        "id": "alive-bruce"
      },
      "outputs": [],
      "source": [
        "df = df[((df.tipo==\"Departamento\")&(df.dormitorios<=3))\n",
        "       |((df.tipo==\"PH\")&(df.dormitorios<=4)&(df.dormitorios>=1))\n",
        "       |((df.tipo==\"Casa\")&(df.dormitorios<=5)&(df.dormitorios>=1))]"
      ],
      "id": "alive-bruce"
    },
    {
      "cell_type": "code",
      "execution_count": null,
      "metadata": {
        "id": "governing-deviation",
        "colab": {
          "base_uri": "https://localhost:8080/"
        },
        "outputId": "d9eb91ef-674a-4d96-c562-39fc842c0712"
      },
      "outputs": [
        {
          "output_type": "execute_result",
          "data": {
            "text/plain": [
              "(115991, 12)"
            ]
          },
          "metadata": {},
          "execution_count": 406
        }
      ],
      "source": [
        "df.shape"
      ],
      "id": "governing-deviation"
    },
    {
      "cell_type": "code",
      "execution_count": null,
      "metadata": {
        "id": "needed-junction",
        "scrolled": true,
        "colab": {
          "base_uri": "https://localhost:8080/",
          "height": 365
        },
        "outputId": "e5fd70c1-429e-401d-be4c-7c00e6f683ff"
      },
      "outputs": [
        {
          "output_type": "execute_result",
          "data": {
            "text/plain": [
              "<Figure size 1440x720 with 0 Axes>"
            ]
          },
          "metadata": {},
          "execution_count": 407
        },
        {
          "output_type": "execute_result",
          "data": {
            "text/plain": [
              "<matplotlib.axes._subplots.AxesSubplot at 0x7f43c1d00d90>"
            ]
          },
          "metadata": {},
          "execution_count": 407
        },
        {
          "output_type": "execute_result",
          "data": {
            "text/plain": [
              "<matplotlib.axes._subplots.AxesSubplot at 0x7f43c1d00d90>"
            ]
          },
          "metadata": {},
          "execution_count": 407
        },
        {
          "output_type": "execute_result",
          "data": {
            "text/plain": [
              "Text(0.5, 1.0, 'Dormitorios promedio por Tipo')"
            ]
          },
          "metadata": {},
          "execution_count": 407
        },
        {
          "output_type": "display_data",
          "data": {
            "image/png": "[encoded data removed]",
            "text/plain": [
              "<Figure size 1440x720 with 1 Axes>"
            ]
          },
          "metadata": {}
        }
      ],
      "source": [
        "plt.figure(figsize=(20,10))\n",
        "plt.subplot (2,2,1)\n",
        "sns.boxplot (data = df, x = \"tipo\", y = \"dormitorios\")\n",
        "plt.title(\"Dormitorios promedio por Tipo\")\n"
      ],
      "id": "needed-junction"
    },
    {
      "cell_type": "markdown",
      "metadata": {
        "id": "quarterly-increase"
      },
      "source": [
        "#### Superficies y Precio"
      ],
      "id": "quarterly-increase"
    },
    {
      "cell_type": "markdown",
      "metadata": {
        "id": "hollywood-commissioner"
      },
      "source": [
        "En lo que es superficies y como se hizo en el primer sprint, lo primero que haremos será eliminar aquellos que tengan una superficie cubierta mayor a la superficie total."
      ],
      "id": "hollywood-commissioner"
    },
    {
      "cell_type": "code",
      "execution_count": null,
      "metadata": {
        "id": "foreign-worse"
      },
      "outputs": [],
      "source": [
        "df = pd.DataFrame (df[df.superficie >= df.superficie_cubierta])"
      ],
      "id": "foreign-worse"
    },
    {
      "cell_type": "code",
      "execution_count": null,
      "metadata": {
        "id": "enhanced-alpha",
        "colab": {
          "base_uri": "https://localhost:8080/"
        },
        "outputId": "bfecb1e9-1168-41df-8815-37e52b331d3b"
      },
      "outputs": [
        {
          "output_type": "execute_result",
          "data": {
            "text/plain": [
              "(114678, 12)"
            ]
          },
          "metadata": {},
          "execution_count": 409
        }
      ],
      "source": [
        "df.shape"
      ],
      "id": "enhanced-alpha"
    },
    {
      "cell_type": "markdown",
      "metadata": {
        "id": "automotive-surprise"
      },
      "source": [
        "Ahora analizamos superficies y precio"
      ],
      "id": "automotive-surprise"
    },
    {
      "cell_type": "code",
      "execution_count": null,
      "metadata": {
        "id": "prepared-valentine",
        "scrolled": true,
        "colab": {
          "base_uri": "https://localhost:8080/",
          "height": 315
        },
        "outputId": "afb3c3df-d18e-4356-99bd-7557350daa95"
      },
      "outputs": [
        {
          "output_type": "execute_result",
          "data": {
            "text/plain": [
              "<Figure size 864x720 with 0 Axes>"
            ]
          },
          "metadata": {},
          "execution_count": 410
        },
        {
          "output_type": "execute_result",
          "data": {
            "text/plain": [
              "<matplotlib.axes._subplots.AxesSubplot at 0x7f43b65ab810>"
            ]
          },
          "metadata": {},
          "execution_count": 410
        },
        {
          "output_type": "execute_result",
          "data": {
            "text/plain": [
              "Text(0.5, 1.0, 'Superficie Cubierta')"
            ]
          },
          "metadata": {},
          "execution_count": 410
        },
        {
          "output_type": "execute_result",
          "data": {
            "text/plain": [
              "Text(0.5, 0, 'Superficie Cubierta')"
            ]
          },
          "metadata": {},
          "execution_count": 410
        },
        {
          "output_type": "execute_result",
          "data": {
            "text/plain": [
              "<matplotlib.axes._subplots.AxesSubplot at 0x7f43b65ab810>"
            ]
          },
          "metadata": {},
          "execution_count": 410
        },
        {
          "output_type": "execute_result",
          "data": {
            "text/plain": [
              "<matplotlib.axes._subplots.AxesSubplot at 0x7f43a5cdcc90>"
            ]
          },
          "metadata": {},
          "execution_count": 410
        },
        {
          "output_type": "execute_result",
          "data": {
            "text/plain": [
              "Text(0.5, 1.0, 'Superficie')"
            ]
          },
          "metadata": {},
          "execution_count": 410
        },
        {
          "output_type": "execute_result",
          "data": {
            "text/plain": [
              "Text(0.5, 0, 'Superficie')"
            ]
          },
          "metadata": {},
          "execution_count": 410
        },
        {
          "output_type": "execute_result",
          "data": {
            "text/plain": [
              "<matplotlib.axes._subplots.AxesSubplot at 0x7f43a5cdcc90>"
            ]
          },
          "metadata": {},
          "execution_count": 410
        },
        {
          "output_type": "execute_result",
          "data": {
            "text/plain": [
              "<matplotlib.axes._subplots.AxesSubplot at 0x7f43cd72d850>"
            ]
          },
          "metadata": {},
          "execution_count": 410
        },
        {
          "output_type": "execute_result",
          "data": {
            "text/plain": [
              "Text(0.5, 1.0, 'Precio')"
            ]
          },
          "metadata": {},
          "execution_count": 410
        },
        {
          "output_type": "execute_result",
          "data": {
            "text/plain": [
              "Text(0.5, 0, 'Precio')"
            ]
          },
          "metadata": {},
          "execution_count": 410
        },
        {
          "output_type": "execute_result",
          "data": {
            "text/plain": [
              "<matplotlib.axes._subplots.AxesSubplot at 0x7f43cd72d850>"
            ]
          },
          "metadata": {},
          "execution_count": 410
        },
        {
          "output_type": "display_data",
          "data": {
            "image/png": "[encoded data removed]",
            "text/plain": [
              "<Figure size 864x720 with 3 Axes>"
            ]
          },
          "metadata": {}
        }
      ],
      "source": [
        "plt.figure(figsize=(12,10))\n",
        "plt.subplot (3,3,1)\n",
        "plt.title(\"Superficie Cubierta\")\n",
        "plt.xlabel (\"Superficie Cubierta\")\n",
        "sns.distplot(df.superficie_cubierta.values)\n",
        "plt.subplot (3,3,2)\n",
        "plt.title(\"Superficie\")\n",
        "plt.xlabel (\"Superficie\")\n",
        "sns.distplot(df.superficie.values)\n",
        "plt.subplot (3,3,3)\n",
        "plt.title(\"Precio\")\n",
        "plt.xlabel (\"Precio\")\n",
        "sns.distplot(df.precio.values)"
      ],
      "id": "prepared-valentine"
    },
    {
      "cell_type": "code",
      "execution_count": null,
      "metadata": {
        "id": "hindu-depth",
        "scrolled": true,
        "colab": {
          "base_uri": "https://localhost:8080/",
          "height": 377
        },
        "outputId": "0bfc2935-9d61-42be-fd23-7b2983587a14"
      },
      "outputs": [
        {
          "output_type": "execute_result",
          "data": {
            "text/plain": [
              "<Figure size 1080x1080 with 0 Axes>"
            ]
          },
          "metadata": {},
          "execution_count": 411
        },
        {
          "output_type": "execute_result",
          "data": {
            "text/plain": [
              "<matplotlib.axes._subplots.AxesSubplot at 0x7f43a5bead50>"
            ]
          },
          "metadata": {},
          "execution_count": 411
        },
        {
          "output_type": "execute_result",
          "data": {
            "text/plain": [
              "<matplotlib.axes._subplots.AxesSubplot at 0x7f43a5bead50>"
            ]
          },
          "metadata": {},
          "execution_count": 411
        },
        {
          "output_type": "execute_result",
          "data": {
            "text/plain": [
              "Text(0.5, 1.0, 'Superficie')"
            ]
          },
          "metadata": {},
          "execution_count": 411
        },
        {
          "output_type": "execute_result",
          "data": {
            "text/plain": [
              "<matplotlib.axes._subplots.AxesSubplot at 0x7f43a5c57dd0>"
            ]
          },
          "metadata": {},
          "execution_count": 411
        },
        {
          "output_type": "execute_result",
          "data": {
            "text/plain": [
              "<matplotlib.axes._subplots.AxesSubplot at 0x7f43a5c57dd0>"
            ]
          },
          "metadata": {},
          "execution_count": 411
        },
        {
          "output_type": "execute_result",
          "data": {
            "text/plain": [
              "Text(0.5, 1.0, 'Superficie cubierta')"
            ]
          },
          "metadata": {},
          "execution_count": 411
        },
        {
          "output_type": "execute_result",
          "data": {
            "text/plain": [
              "<matplotlib.axes._subplots.AxesSubplot at 0x7f43cde0bed0>"
            ]
          },
          "metadata": {},
          "execution_count": 411
        },
        {
          "output_type": "execute_result",
          "data": {
            "text/plain": [
              "<matplotlib.axes._subplots.AxesSubplot at 0x7f43cde0bed0>"
            ]
          },
          "metadata": {},
          "execution_count": 411
        },
        {
          "output_type": "execute_result",
          "data": {
            "text/plain": [
              "Text(0.5, 1.0, 'precio')"
            ]
          },
          "metadata": {},
          "execution_count": 411
        },
        {
          "output_type": "display_data",
          "data": {
            "image/png": "[encoded data removed]",
            "text/plain": [
              "<Figure size 1080x1080 with 3 Axes>"
            ]
          },
          "metadata": {}
        }
      ],
      "source": [
        "plt.figure(figsize=(15,15))\n",
        "plt.subplot (3,3,1)\n",
        "sns.boxplot (data=df, x=\"superficie\") \n",
        "plt.title(\"Superficie\")\n",
        "plt.subplot (3,3,2)\n",
        "sns.boxplot (data=df, x=\"superficie_cubierta\") \n",
        "plt.title(\"Superficie cubierta\")\n",
        "plt.subplot (3,3,3)\n",
        "sns.boxplot (data=df, x=\"precio\") \n",
        "plt.title(\"precio\")"
      ],
      "id": "hindu-depth"
    },
    {
      "cell_type": "markdown",
      "metadata": {
        "id": "substantial-screening"
      },
      "source": [
        "Observamos que hay muchos datos que sesgan y caen en outliers, por lo que hay que determinar cuales debemos eliminar.\n",
        "Para ello, se analizará utilizar o el rango intercuartilico o la regla de las 3 sigmas, eligiendo la que menor datos elimine. \n",
        "En la parte de superficie se tomará como variable a la superficie total y no a la superficie cubierta ya que hicimos el primer corte de superficie cubierta <= a superficie total."
      ],
      "id": "substantial-screening"
    },
    {
      "cell_type": "markdown",
      "metadata": {
        "id": "productive-electron"
      },
      "source": [
        "#### Rango Intercuartilico"
      ],
      "id": "productive-electron"
    },
    {
      "cell_type": "code",
      "execution_count": null,
      "metadata": {
        "id": "indoor-george"
      },
      "outputs": [],
      "source": [
        "# Superficie\n",
        "\n",
        "IQR_superficie = df.superficie.quantile(0.75) - df.superficie.quantile(0.25)\n",
        "IQR_superior_sup = df.superficie.quantile(0.75) + 1.5 * IQR_superficie\n",
        "IQR_inferior_sup = df.superficie.quantile(0.25) - 1.5 * IQR_superficie\n",
        "\n",
        "# Precio\n",
        "\n",
        "IQR_precio = df.precio.quantile(0.75) - df.precio.quantile(0.25)\n",
        "IQR_superior_precio = df.precio.quantile(0.75) + 1.5 * IQR_precio\n",
        "IQR_inferior_precio = df.precio.quantile(0.25) - 1.5 * IQR_precio"
      ],
      "id": "indoor-george"
    },
    {
      "cell_type": "code",
      "execution_count": null,
      "metadata": {
        "id": "particular-peninsula",
        "colab": {
          "base_uri": "https://localhost:8080/"
        },
        "outputId": "f1dd83d7-b37e-4077-bf9c-94263d0ce718"
      },
      "outputs": [
        {
          "output_type": "stream",
          "name": "stdout",
          "text": [
            "Con 1.5 rangos intercuartilicos, se descartaria:  14.49 %\n"
          ]
        }
      ],
      "source": [
        "outliers = np.logical_or(np.logical_or(df.superficie > IQR_superior_sup,\n",
        "                         df.superficie < IQR_inferior_sup), \n",
        "                         np.logical_or(df.precio > IQR_superior_precio,\n",
        "                         df.precio < IQR_inferior_precio)).sum()\n",
        "\n",
        "print('Con 1.5 rangos intercuartilicos, se descartaria: ', (outliers / df.index.size * 100).round(2), '%')"
      ],
      "id": "particular-peninsula"
    },
    {
      "cell_type": "markdown",
      "metadata": {
        "id": "damaged-kinase"
      },
      "source": [
        "#### Regla de tres sigmas"
      ],
      "id": "damaged-kinase"
    },
    {
      "cell_type": "code",
      "execution_count": null,
      "metadata": {
        "id": "unauthorized-paste"
      },
      "outputs": [],
      "source": [
        "# Superficie\n",
        "\n",
        "sigma_superior_sup = df.superficie.mean() + 3 * df.superficie.std()\n",
        "sigma_inferior_sup = df.superficie.mean() - 3 * df.superficie.std()\n",
        "\n",
        "# Precio\n",
        "\n",
        "sigma_sup_precio = df.precio.mean() + 3 * df.precio.std()\n",
        "sigma_inf_precio = df.precio.mean() - 3 * df.precio.std()"
      ],
      "id": "unauthorized-paste"
    },
    {
      "cell_type": "code",
      "execution_count": null,
      "metadata": {
        "id": "wicked-dayton",
        "colab": {
          "base_uri": "https://localhost:8080/"
        },
        "outputId": "f09c1b25-644b-45a6-8458-5d92dd43e03d"
      },
      "outputs": [
        {
          "output_type": "stream",
          "name": "stdout",
          "text": [
            "Con 3 sigmas, se descartaria:  1.73 %\n"
          ]
        }
      ],
      "source": [
        "outliers = np.logical_or(np.logical_or(df.superficie > sigma_superior_sup,\n",
        "                         df.superficie < sigma_inferior_sup), \n",
        "                         np.logical_or(df.precio > sigma_sup_precio,\n",
        "                         df.precio < sigma_inf_precio)).sum()\n",
        "\n",
        "print('Con 3 sigmas, se descartaria: ', (outliers / df.index.size * 100).round(2), '%')"
      ],
      "id": "wicked-dayton"
    },
    {
      "cell_type": "markdown",
      "metadata": {
        "id": "applicable-level"
      },
      "source": [
        "Nos encontramos con la controversia de no querer eliminar muchos datos pero de tener muchos datos como outlier. \n",
        "Para el precio la regla de 3 sigma es acorde, pero para superficie habría que usar una regla que corte con mayor medida los outliers, sin eliminar tantos outliers en la parte inferior y más en la parte superior.\n",
        "\n",
        "Como solución, se plantea usar el 3 sigma en todo menos en el nivel superior de la superficie, que es donde mayor outliers se encuentra. Para dicha variable, se propone cortar la superficie total máxima como 800 metros cuadrados."
      ],
      "id": "applicable-level"
    },
    {
      "cell_type": "code",
      "execution_count": null,
      "metadata": {
        "id": "accurate-costa",
        "colab": {
          "base_uri": "https://localhost:8080/"
        },
        "outputId": "ae986b4a-bc01-4155-859e-8584bb85502a"
      },
      "outputs": [
        {
          "output_type": "execute_result",
          "data": {
            "text/plain": [
              "(110769, 12)"
            ]
          },
          "metadata": {},
          "execution_count": 416
        }
      ],
      "source": [
        "df = df[np.logical_and(df.superficie <= 800,\n",
        "                         df.superficie >= sigma_inferior_sup)]\n",
        "\n",
        "df = df[np.logical_and(df.precio <= sigma_sup_precio,\n",
        "                         df.precio >= sigma_inf_precio)]\n",
        "\n",
        "df.shape"
      ],
      "id": "accurate-costa"
    },
    {
      "cell_type": "code",
      "execution_count": null,
      "metadata": {
        "id": "stopped-penetration",
        "scrolled": true,
        "colab": {
          "base_uri": "https://localhost:8080/",
          "height": 377
        },
        "outputId": "36cd0347-494e-44c4-d4b5-c9bdcccab6d0"
      },
      "outputs": [
        {
          "output_type": "execute_result",
          "data": {
            "text/plain": [
              "<Figure size 1080x1080 with 0 Axes>"
            ]
          },
          "metadata": {},
          "execution_count": 417
        },
        {
          "output_type": "execute_result",
          "data": {
            "text/plain": [
              "<matplotlib.axes._subplots.AxesSubplot at 0x7f43a5c64850>"
            ]
          },
          "metadata": {},
          "execution_count": 417
        },
        {
          "output_type": "execute_result",
          "data": {
            "text/plain": [
              "<matplotlib.axes._subplots.AxesSubplot at 0x7f43a5c64850>"
            ]
          },
          "metadata": {},
          "execution_count": 417
        },
        {
          "output_type": "execute_result",
          "data": {
            "text/plain": [
              "Text(0.5, 1.0, 'Superficie')"
            ]
          },
          "metadata": {},
          "execution_count": 417
        },
        {
          "output_type": "execute_result",
          "data": {
            "text/plain": [
              "<matplotlib.axes._subplots.AxesSubplot at 0x7f43c0f6a810>"
            ]
          },
          "metadata": {},
          "execution_count": 417
        },
        {
          "output_type": "execute_result",
          "data": {
            "text/plain": [
              "<matplotlib.axes._subplots.AxesSubplot at 0x7f43c0f6a810>"
            ]
          },
          "metadata": {},
          "execution_count": 417
        },
        {
          "output_type": "execute_result",
          "data": {
            "text/plain": [
              "Text(0.5, 1.0, 'Superficie cubierta')"
            ]
          },
          "metadata": {},
          "execution_count": 417
        },
        {
          "output_type": "execute_result",
          "data": {
            "text/plain": [
              "<matplotlib.axes._subplots.AxesSubplot at 0x7f43c0f6a410>"
            ]
          },
          "metadata": {},
          "execution_count": 417
        },
        {
          "output_type": "execute_result",
          "data": {
            "text/plain": [
              "<matplotlib.axes._subplots.AxesSubplot at 0x7f43c0f6a410>"
            ]
          },
          "metadata": {},
          "execution_count": 417
        },
        {
          "output_type": "execute_result",
          "data": {
            "text/plain": [
              "Text(0.5, 1.0, 'precio')"
            ]
          },
          "metadata": {},
          "execution_count": 417
        },
        {
          "output_type": "display_data",
          "data": {
            "image/png": "[encoded data removed]",
            "text/plain": [
              "<Figure size 1080x1080 with 3 Axes>"
            ]
          },
          "metadata": {}
        }
      ],
      "source": [
        "plt.figure(figsize=(15,15))\n",
        "plt.subplot (3,3,1)\n",
        "sns.boxplot (data=df, x=\"superficie\") \n",
        "plt.title(\"Superficie\")\n",
        "plt.subplot (3,3,2)\n",
        "sns.boxplot (data=df, x=\"superficie_cubierta\") \n",
        "plt.title(\"Superficie cubierta\")\n",
        "plt.subplot (3,3,3)\n",
        "sns.boxplot (data=df, x=\"precio\") \n",
        "plt.title(\"precio\")"
      ],
      "id": "stopped-penetration"
    },
    {
      "cell_type": "code",
      "execution_count": null,
      "metadata": {
        "id": "mexican-female",
        "scrolled": true,
        "colab": {
          "base_uri": "https://localhost:8080/",
          "height": 315
        },
        "outputId": "5f8cbab2-e645-4fc2-81c2-82d258c6c27d"
      },
      "outputs": [
        {
          "output_type": "execute_result",
          "data": {
            "text/plain": [
              "<Figure size 864x720 with 0 Axes>"
            ]
          },
          "metadata": {},
          "execution_count": 418
        },
        {
          "output_type": "execute_result",
          "data": {
            "text/plain": [
              "<matplotlib.axes._subplots.AxesSubplot at 0x7f43cc9ee410>"
            ]
          },
          "metadata": {},
          "execution_count": 418
        },
        {
          "output_type": "execute_result",
          "data": {
            "text/plain": [
              "Text(0.5, 1.0, 'Superficie Cubierta')"
            ]
          },
          "metadata": {},
          "execution_count": 418
        },
        {
          "output_type": "execute_result",
          "data": {
            "text/plain": [
              "Text(0.5, 0, 'Superficie Cubierta')"
            ]
          },
          "metadata": {},
          "execution_count": 418
        },
        {
          "output_type": "execute_result",
          "data": {
            "text/plain": [
              "<matplotlib.axes._subplots.AxesSubplot at 0x7f43cc9ee410>"
            ]
          },
          "metadata": {},
          "execution_count": 418
        },
        {
          "output_type": "execute_result",
          "data": {
            "text/plain": [
              "<matplotlib.axes._subplots.AxesSubplot at 0x7f4405c8a250>"
            ]
          },
          "metadata": {},
          "execution_count": 418
        },
        {
          "output_type": "execute_result",
          "data": {
            "text/plain": [
              "Text(0.5, 1.0, 'Superficie')"
            ]
          },
          "metadata": {},
          "execution_count": 418
        },
        {
          "output_type": "execute_result",
          "data": {
            "text/plain": [
              "Text(0.5, 0, 'Superficie')"
            ]
          },
          "metadata": {},
          "execution_count": 418
        },
        {
          "output_type": "execute_result",
          "data": {
            "text/plain": [
              "<matplotlib.axes._subplots.AxesSubplot at 0x7f4405c8a250>"
            ]
          },
          "metadata": {},
          "execution_count": 418
        },
        {
          "output_type": "execute_result",
          "data": {
            "text/plain": [
              "<matplotlib.axes._subplots.AxesSubplot at 0x7f43cd7b4410>"
            ]
          },
          "metadata": {},
          "execution_count": 418
        },
        {
          "output_type": "execute_result",
          "data": {
            "text/plain": [
              "Text(0.5, 1.0, 'Precio')"
            ]
          },
          "metadata": {},
          "execution_count": 418
        },
        {
          "output_type": "execute_result",
          "data": {
            "text/plain": [
              "Text(0.5, 0, 'Precio')"
            ]
          },
          "metadata": {},
          "execution_count": 418
        },
        {
          "output_type": "execute_result",
          "data": {
            "text/plain": [
              "<matplotlib.axes._subplots.AxesSubplot at 0x7f43cd7b4410>"
            ]
          },
          "metadata": {},
          "execution_count": 418
        },
        {
          "output_type": "display_data",
          "data": {
            "image/png": "[encoded data removed]",
            "text/plain": [
              "<Figure size 864x720 with 3 Axes>"
            ]
          },
          "metadata": {}
        }
      ],
      "source": [
        "plt.figure(figsize=(12,10))\n",
        "plt.subplot (3,3,1)\n",
        "plt.title(\"Superficie Cubierta\")\n",
        "plt.xlabel (\"Superficie Cubierta\")\n",
        "sns.distplot(df.superficie_cubierta.values)\n",
        "plt.subplot (3,3,2)\n",
        "plt.title(\"Superficie\")\n",
        "plt.xlabel (\"Superficie\")\n",
        "sns.distplot(df.superficie.values)\n",
        "plt.subplot (3,3,3)\n",
        "plt.title(\"Precio\")\n",
        "plt.xlabel (\"Precio\")\n",
        "sns.distplot(df.precio.values)"
      ],
      "id": "mexican-female"
    },
    {
      "cell_type": "markdown",
      "metadata": {
        "id": "individual-youth"
      },
      "source": [
        "Como resultado final observamos datos sin tantos outliers que puedan \"molestar\" a nuestro modelo. Una distribución mucho mejor para intentar predecir precios.\n",
        "\n",
        "Obviamente será un modelo para predecir la mayoría de las casas, sin tener en cuenta tanto los errores al cargar datos como las casas \"atípicas\"."
      ],
      "id": "individual-youth"
    },
    {
      "cell_type": "markdown",
      "metadata": {
        "id": "11611f4d"
      },
      "source": [
        "### 3. Escalados de Datos Y Encoding\n",
        "\n",
        "El escalado se debe realizar previo al encoder y es simplemente hacer un standard scaler para normalizar datos numéricos mediante standardscale: dividir cada predictor entre su desviación típica después de haber sido centrado, de esta forma, los datos pasan a tener una distribución normal.\n",
        "\n",
        "En el Encoding lo que debemos lograr es que se puedan utilizar las variables categoricas a la hora de predecir el precio.\n",
        " 1. Las variables categoricas son País, Región y Localidad.\n",
        " 2. En lo que es País, todas están en argentina, por lo que no ayudan al modelo a diferenciar nada, eliminaremos dicha columna.\n",
        " 3. Para las otras dos categoricas, realizaremos el procedimiento siguiente:"
      ],
      "id": "11611f4d"
    },
    {
      "cell_type": "code",
      "execution_count": null,
      "metadata": {
        "id": "614a8866"
      },
      "outputs": [],
      "source": [
        "df = df.drop(['pais'], axis=1)"
      ],
      "id": "614a8866"
    },
    {
      "cell_type": "code",
      "execution_count": null,
      "metadata": {
        "id": "3e477bef"
      },
      "outputs": [],
      "source": [
        "scaler = StandardScaler()\n",
        "\n",
        "num_cols = df.select_dtypes(include=['float64', 'int']).columns\n",
        "num_cols = num_cols.drop(\"precio\")\n",
        "\n",
        "df[num_cols] = scaler.fit_transform(df[num_cols])"
      ],
      "id": "3e477bef"
    },
    {
      "cell_type": "code",
      "execution_count": null,
      "metadata": {
        "id": "2dba6766",
        "colab": {
          "base_uri": "https://localhost:8080/",
          "height": 423
        },
        "outputId": "9501944e-ec41-47ff-f0f1-c7be1c4b87c5"
      },
      "outputs": [
        {
          "output_type": "execute_result",
          "data": {
            "text/html": [
              "\n",
              "  <div id=\"df-a8720e01-a376-49e2-986c-e787a5890403\">\n",
              "    <div class=\"colab-df-container\">\n",
              "      <div>\n",
              "<style scoped>\n",
              "    .dataframe tbody tr th:only-of-type {\n",
              "        vertical-align: middle;\n",
              "    }\n",
              "\n",
              "    .dataframe tbody tr th {\n",
              "        vertical-align: top;\n",
              "    }\n",
              "\n",
              "    .dataframe thead th {\n",
              "        text-align: right;\n",
              "    }\n",
              "</style>\n",
              "<table border=\"1\" class=\"dataframe\">\n",
              "  <thead>\n",
              "    <tr style=\"text-align: right;\">\n",
              "      <th></th>\n",
              "      <th>latitud</th>\n",
              "      <th>longitud</th>\n",
              "      <th>region</th>\n",
              "      <th>localidad</th>\n",
              "      <th>ambientes</th>\n",
              "      <th>dormitorios</th>\n",
              "      <th>baños</th>\n",
              "      <th>superficie</th>\n",
              "      <th>superficie_cubierta</th>\n",
              "      <th>precio</th>\n",
              "      <th>tipo</th>\n",
              "    </tr>\n",
              "  </thead>\n",
              "  <tbody>\n",
              "    <tr>\n",
              "      <th>1</th>\n",
              "      <td>-0.3009</td>\n",
              "      <td>0.3836</td>\n",
              "      <td>Capital Federal</td>\n",
              "      <td>Boedo</td>\n",
              "      <td>-0.8168</td>\n",
              "      <td>-1.0054</td>\n",
              "      <td>0.8889</td>\n",
              "      <td>-0.3421</td>\n",
              "      <td>-0.3818</td>\n",
              "      <td>159000.0000</td>\n",
              "      <td>PH</td>\n",
              "    </tr>\n",
              "    <tr>\n",
              "      <th>2</th>\n",
              "      <td>0.0189</td>\n",
              "      <td>0.2723</td>\n",
              "      <td>Capital Federal</td>\n",
              "      <td>Palermo</td>\n",
              "      <td>-0.8168</td>\n",
              "      <td>-1.0054</td>\n",
              "      <td>-0.6730</td>\n",
              "      <td>-0.5805</td>\n",
              "      <td>-0.6305</td>\n",
              "      <td>125000.0000</td>\n",
              "      <td>PH</td>\n",
              "    </tr>\n",
              "    <tr>\n",
              "      <th>3</th>\n",
              "      <td>0.1476</td>\n",
              "      <td>0.2051</td>\n",
              "      <td>Capital Federal</td>\n",
              "      <td>Palermo</td>\n",
              "      <td>-0.8168</td>\n",
              "      <td>-1.0054</td>\n",
              "      <td>-0.6730</td>\n",
              "      <td>-0.1990</td>\n",
              "      <td>-0.5349</td>\n",
              "      <td>295000.0000</td>\n",
              "      <td>PH</td>\n",
              "    </tr>\n",
              "    <tr>\n",
              "      <th>4</th>\n",
              "      <td>-3.3443</td>\n",
              "      <td>3.8152</td>\n",
              "      <td>Bs.As. G.B.A. Zona Sur</td>\n",
              "      <td>La Plata</td>\n",
              "      <td>-0.8168</td>\n",
              "      <td>-1.0054</td>\n",
              "      <td>-0.6730</td>\n",
              "      <td>-0.5328</td>\n",
              "      <td>-0.8218</td>\n",
              "      <td>40000.0000</td>\n",
              "      <td>PH</td>\n",
              "    </tr>\n",
              "    <tr>\n",
              "      <th>5</th>\n",
              "      <td>0.0167</td>\n",
              "      <td>0.1726</td>\n",
              "      <td>Capital Federal</td>\n",
              "      <td>Villa Crespo</td>\n",
              "      <td>-0.8168</td>\n",
              "      <td>-1.0054</td>\n",
              "      <td>-0.6730</td>\n",
              "      <td>-0.4756</td>\n",
              "      <td>-0.4201</td>\n",
              "      <td>150000.0000</td>\n",
              "      <td>PH</td>\n",
              "    </tr>\n",
              "    <tr>\n",
              "      <th>...</th>\n",
              "      <td>...</td>\n",
              "      <td>...</td>\n",
              "      <td>...</td>\n",
              "      <td>...</td>\n",
              "      <td>...</td>\n",
              "      <td>...</td>\n",
              "      <td>...</td>\n",
              "      <td>...</td>\n",
              "      <td>...</td>\n",
              "      <td>...</td>\n",
              "      <td>...</td>\n",
              "    </tr>\n",
              "    <tr>\n",
              "      <th>146655</th>\n",
              "      <td>-2.3180</td>\n",
              "      <td>2.0502</td>\n",
              "      <td>Bs.As. G.B.A. Zona Sur</td>\n",
              "      <td>Berazategui</td>\n",
              "      <td>-0.8168</td>\n",
              "      <td>-1.0054</td>\n",
              "      <td>-0.6730</td>\n",
              "      <td>-0.4946</td>\n",
              "      <td>-0.5731</td>\n",
              "      <td>165000.0000</td>\n",
              "      <td>Departamento</td>\n",
              "    </tr>\n",
              "    <tr>\n",
              "      <th>146656</th>\n",
              "      <td>1.5620</td>\n",
              "      <td>-3.4233</td>\n",
              "      <td>Bs.As. G.B.A. Zona Norte</td>\n",
              "      <td>Pilar</td>\n",
              "      <td>1.0141</td>\n",
              "      <td>1.2564</td>\n",
              "      <td>0.8889</td>\n",
              "      <td>0.5544</td>\n",
              "      <td>0.2302</td>\n",
              "      <td>130000.0000</td>\n",
              "      <td>Departamento</td>\n",
              "    </tr>\n",
              "    <tr>\n",
              "      <th>146657</th>\n",
              "      <td>1.5811</td>\n",
              "      <td>-3.7404</td>\n",
              "      <td>Bs.As. G.B.A. Zona Norte</td>\n",
              "      <td>Pilar</td>\n",
              "      <td>-1.7323</td>\n",
              "      <td>-1.0054</td>\n",
              "      <td>-0.6730</td>\n",
              "      <td>-0.5328</td>\n",
              "      <td>-0.8218</td>\n",
              "      <td>73000.0000</td>\n",
              "      <td>Departamento</td>\n",
              "    </tr>\n",
              "    <tr>\n",
              "      <th>146658</th>\n",
              "      <td>1.5791</td>\n",
              "      <td>-3.7418</td>\n",
              "      <td>Bs.As. G.B.A. Zona Norte</td>\n",
              "      <td>Pilar</td>\n",
              "      <td>-0.8168</td>\n",
              "      <td>-1.0054</td>\n",
              "      <td>-0.6730</td>\n",
              "      <td>-0.6472</td>\n",
              "      <td>-0.7644</td>\n",
              "      <td>68000.0000</td>\n",
              "      <td>Departamento</td>\n",
              "    </tr>\n",
              "    <tr>\n",
              "      <th>146659</th>\n",
              "      <td>1.5798</td>\n",
              "      <td>-3.7425</td>\n",
              "      <td>Bs.As. G.B.A. Zona Norte</td>\n",
              "      <td>Pilar</td>\n",
              "      <td>0.0986</td>\n",
              "      <td>0.1255</td>\n",
              "      <td>-0.6730</td>\n",
              "      <td>-0.2944</td>\n",
              "      <td>-0.0567</td>\n",
              "      <td>98000.0000</td>\n",
              "      <td>Departamento</td>\n",
              "    </tr>\n",
              "  </tbody>\n",
              "</table>\n",
              "<p>110769 rows × 11 columns</p>\n",
              "</div>\n",
              "      <button class=\"colab-df-convert\" onclick=\"convertToInteractive('df-a8720e01-a376-49e2-986c-e787a5890403')\"\n",
              "              title=\"Convert this dataframe to an interactive table.\"\n",
              "              style=\"display:none;\">\n",
              "        \n",
              "  <svg xmlns=\"http://www.w3.org/2000/svg\" height=\"24px\"viewBox=\"0 0 24 24\"\n",
              "       width=\"24px\">\n",
              "    <path d=\"M0 0h24v24H0V0z\" fill=\"none\"/>\n",
              "    <path d=\"M18.56 5.44l.94 2.06.94-2.06 2.06-.94-2.06-.94-.94-2.06-.94 2.06-2.06.94zm-11 1L8.5 8.5l.94-2.06 2.06-.94-2.06-.94L8.5 2.5l-.94 2.06-2.06.94zm10 10l.94 2.06.94-2.06 2.06-.94-2.06-.94-.94-2.06-.94 2.06-2.06.94z\"/><path d=\"M17.41 7.96l-1.37-1.37c-.4-.4-.92-.59-1.43-.59-.52 0-1.04.2-1.43.59L10.3 9.45l-7.72 7.72c-.78.78-.78 2.05 0 2.83L4 21.41c.39.39.9.59 1.41.59.51 0 1.02-.2 1.41-.59l7.78-7.78 2.81-2.81c.8-.78.8-2.07 0-2.86zM5.41 20L4 18.59l7.72-7.72 1.47 1.35L5.41 20z\"/>\n",
              "  </svg>\n",
              "      </button>\n",
              "      \n",
              "  <style>\n",
              "    .colab-df-container {\n",
              "      display:flex;\n",
              "      flex-wrap:wrap;\n",
              "      gap: 12px;\n",
              "    }\n",
              "\n",
              "    .colab-df-convert {\n",
              "      background-color: #E8F0FE;\n",
              "      border: none;\n",
              "      border-radius: 50%;\n",
              "      cursor: pointer;\n",
              "      display: none;\n",
              "      fill: #1967D2;\n",
              "      height: 32px;\n",
              "      padding: 0 0 0 0;\n",
              "      width: 32px;\n",
              "    }\n",
              "\n",
              "    .colab-df-convert:hover {\n",
              "      background-color: #E2EBFA;\n",
              "      box-shadow: 0px 1px 2px rgba(60, 64, 67, 0.3), 0px 1px 3px 1px rgba(60, 64, 67, 0.15);\n",
              "      fill: #174EA6;\n",
              "    }\n",
              "\n",
              "    [theme=dark] .colab-df-convert {\n",
              "      background-color: #3B4455;\n",
              "      fill: #D2E3FC;\n",
              "    }\n",
              "\n",
              "    [theme=dark] .colab-df-convert:hover {\n",
              "      background-color: #434B5C;\n",
              "      box-shadow: 0px 1px 3px 1px rgba(0, 0, 0, 0.15);\n",
              "      filter: drop-shadow(0px 1px 2px rgba(0, 0, 0, 0.3));\n",
              "      fill: #FFFFFF;\n",
              "    }\n",
              "  </style>\n",
              "\n",
              "      <script>\n",
              "        const buttonEl =\n",
              "          document.querySelector('#df-a8720e01-a376-49e2-986c-e787a5890403 button.colab-df-convert');\n",
              "        buttonEl.style.display =\n",
              "          google.colab.kernel.accessAllowed ? 'block' : 'none';\n",
              "\n",
              "        async function convertToInteractive(key) {\n",
              "          const element = document.querySelector('#df-a8720e01-a376-49e2-986c-e787a5890403');\n",
              "          const dataTable =\n",
              "            await google.colab.kernel.invokeFunction('convertToInteractive',\n",
              "                                                     [key], {});\n",
              "          if (!dataTable) return;\n",
              "\n",
              "          const docLinkHtml = 'Like what you see? Visit the ' +\n",
              "            '<a target=\"_blank\" href=https://colab.research.google.com/notebooks/data_table.ipynb>data table notebook</a>'\n",
              "            + ' to learn more about interactive tables.';\n",
              "          element.innerHTML = '';\n",
              "          dataTable['output_type'] = 'display_data';\n",
              "          await google.colab.output.renderOutput(dataTable, element);\n",
              "          const docLink = document.createElement('div');\n",
              "          docLink.innerHTML = docLinkHtml;\n",
              "          element.appendChild(docLink);\n",
              "        }\n",
              "      </script>\n",
              "    </div>\n",
              "  </div>\n",
              "  "
            ],
            "text/plain": [
              "        latitud  longitud                    region     localidad  ambientes  \\\n",
              "1       -0.3009    0.3836           Capital Federal         Boedo    -0.8168   \n",
              "2        0.0189    0.2723           Capital Federal       Palermo    -0.8168   \n",
              "3        0.1476    0.2051           Capital Federal       Palermo    -0.8168   \n",
              "4       -3.3443    3.8152    Bs.As. G.B.A. Zona Sur      La Plata    -0.8168   \n",
              "5        0.0167    0.1726           Capital Federal  Villa Crespo    -0.8168   \n",
              "...         ...       ...                       ...           ...        ...   \n",
              "146655  -2.3180    2.0502    Bs.As. G.B.A. Zona Sur   Berazategui    -0.8168   \n",
              "146656   1.5620   -3.4233  Bs.As. G.B.A. Zona Norte         Pilar     1.0141   \n",
              "146657   1.5811   -3.7404  Bs.As. G.B.A. Zona Norte         Pilar    -1.7323   \n",
              "146658   1.5791   -3.7418  Bs.As. G.B.A. Zona Norte         Pilar    -0.8168   \n",
              "146659   1.5798   -3.7425  Bs.As. G.B.A. Zona Norte         Pilar     0.0986   \n",
              "\n",
              "        dormitorios   baños  superficie  superficie_cubierta      precio  \\\n",
              "1           -1.0054  0.8889     -0.3421              -0.3818 159000.0000   \n",
              "2           -1.0054 -0.6730     -0.5805              -0.6305 125000.0000   \n",
              "3           -1.0054 -0.6730     -0.1990              -0.5349 295000.0000   \n",
              "4           -1.0054 -0.6730     -0.5328              -0.8218  40000.0000   \n",
              "5           -1.0054 -0.6730     -0.4756              -0.4201 150000.0000   \n",
              "...             ...     ...         ...                  ...         ...   \n",
              "146655      -1.0054 -0.6730     -0.4946              -0.5731 165000.0000   \n",
              "146656       1.2564  0.8889      0.5544               0.2302 130000.0000   \n",
              "146657      -1.0054 -0.6730     -0.5328              -0.8218  73000.0000   \n",
              "146658      -1.0054 -0.6730     -0.6472              -0.7644  68000.0000   \n",
              "146659       0.1255 -0.6730     -0.2944              -0.0567  98000.0000   \n",
              "\n",
              "                tipo  \n",
              "1                 PH  \n",
              "2                 PH  \n",
              "3                 PH  \n",
              "4                 PH  \n",
              "5                 PH  \n",
              "...              ...  \n",
              "146655  Departamento  \n",
              "146656  Departamento  \n",
              "146657  Departamento  \n",
              "146658  Departamento  \n",
              "146659  Departamento  \n",
              "\n",
              "[110769 rows x 11 columns]"
            ]
          },
          "metadata": {},
          "execution_count": 421
        }
      ],
      "source": [
        "df"
      ],
      "id": "2dba6766"
    },
    {
      "cell_type": "code",
      "execution_count": null,
      "metadata": {
        "id": "0b91c18c"
      },
      "outputs": [],
      "source": [
        "#Realizamos un train/test eligiendo los datos X e Y (eliminamos del X el precio y en Y sólo dejamos precio (target)). \n",
        "\n",
        "X_train, X_test, y_train, y_test = train_test_split(\n",
        "                                        df.drop('precio', axis = 'columns'),\n",
        "                                        df['precio'],\n",
        "                                        train_size   = 0.70,\n",
        "                                        random_state = 42,\n",
        "                                        shuffle      = True\n",
        "                                    )"
      ],
      "id": "0b91c18c"
    },
    {
      "cell_type": "code",
      "execution_count": null,
      "metadata": {
        "id": "bdee4d3a"
      },
      "outputs": [],
      "source": [
        "# Transformaciones para las variables categóricas\n",
        "pipe = Pipeline([ \n",
        "                    ('categ_encoder', MeanEncoder())\n",
        "                    ])\n"
      ],
      "id": "bdee4d3a"
    },
    {
      "cell_type": "code",
      "execution_count": null,
      "metadata": {
        "id": "82f5e00f",
        "colab": {
          "base_uri": "https://localhost:8080/"
        },
        "outputId": "52f44941-7bb6-42b3-9cb7-c687e9f35ef2"
      },
      "outputs": [
        {
          "output_type": "execute_result",
          "data": {
            "text/plain": [
              "Pipeline(steps=[('categ_encoder', MeanEncoder())])"
            ]
          },
          "metadata": {},
          "execution_count": 424
        }
      ],
      "source": [
        "pipe.fit(X_train, y_train)"
      ],
      "id": "82f5e00f"
    },
    {
      "cell_type": "code",
      "execution_count": null,
      "metadata": {
        "id": "266b274d"
      },
      "outputs": [],
      "source": [
        "X_train = pipe.transform(X_train)\n",
        "X_test = pipe.transform(X_test)"
      ],
      "id": "266b274d"
    },
    {
      "cell_type": "markdown",
      "metadata": {
        "id": "f09e8deb"
      },
      "source": [
        "En este apartado anterior, realizamos el escalado a las variables numericas y realizamos encoder para las categoricas como así le pasamos un onehotencoder para binarizar (solo las categoricas)."
      ],
      "id": "f09e8deb"
    },
    {
      "cell_type": "code",
      "execution_count": null,
      "metadata": {
        "id": "0c95c2ab",
        "colab": {
          "base_uri": "https://localhost:8080/",
          "height": 1000
        },
        "outputId": "63898cf5-571b-4a66-e3e1-dcbc3f73f41c"
      },
      "outputs": [
        {
          "output_type": "execute_result",
          "data": {
            "text/html": [
              "\n",
              "  <div id=\"df-47a52b01-0831-44a6-ac0c-d98de408c71f\">\n",
              "    <div class=\"colab-df-container\">\n",
              "      <div>\n",
              "<style scoped>\n",
              "    .dataframe tbody tr th:only-of-type {\n",
              "        vertical-align: middle;\n",
              "    }\n",
              "\n",
              "    .dataframe tbody tr th {\n",
              "        vertical-align: top;\n",
              "    }\n",
              "\n",
              "    .dataframe thead th {\n",
              "        text-align: right;\n",
              "    }\n",
              "</style>\n",
              "<table border=\"1\" class=\"dataframe\">\n",
              "  <thead>\n",
              "    <tr style=\"text-align: right;\">\n",
              "      <th></th>\n",
              "      <th>latitud</th>\n",
              "      <th>longitud</th>\n",
              "      <th>region</th>\n",
              "      <th>localidad</th>\n",
              "      <th>ambientes</th>\n",
              "      <th>dormitorios</th>\n",
              "      <th>baños</th>\n",
              "      <th>superficie</th>\n",
              "      <th>superficie_cubierta</th>\n",
              "      <th>tipo</th>\n",
              "    </tr>\n",
              "  </thead>\n",
              "  <tbody>\n",
              "    <tr>\n",
              "      <th>140475</th>\n",
              "      <td>0.0616</td>\n",
              "      <td>0.3791</td>\n",
              "      <td>202883.5451</td>\n",
              "      <td>245574.4505</td>\n",
              "      <td>0.0986</td>\n",
              "      <td>0.1255</td>\n",
              "      <td>0.8889</td>\n",
              "      <td>-0.0083</td>\n",
              "      <td>0.4215</td>\n",
              "      <td>190632.0361</td>\n",
              "    </tr>\n",
              "    <tr>\n",
              "      <th>26762</th>\n",
              "      <td>0.2029</td>\n",
              "      <td>0.1211</td>\n",
              "      <td>202883.5451</td>\n",
              "      <td>208624.2168</td>\n",
              "      <td>1.0141</td>\n",
              "      <td>1.2564</td>\n",
              "      <td>0.8889</td>\n",
              "      <td>-0.2181</td>\n",
              "      <td>0.0963</td>\n",
              "      <td>190632.0361</td>\n",
              "    </tr>\n",
              "    <tr>\n",
              "      <th>113145</th>\n",
              "      <td>0.3045</td>\n",
              "      <td>0.2157</td>\n",
              "      <td>202883.5451</td>\n",
              "      <td>266303.2264</td>\n",
              "      <td>-1.7323</td>\n",
              "      <td>-1.0054</td>\n",
              "      <td>-0.6730</td>\n",
              "      <td>-0.5519</td>\n",
              "      <td>-0.6879</td>\n",
              "      <td>190632.0361</td>\n",
              "    </tr>\n",
              "    <tr>\n",
              "      <th>122895</th>\n",
              "      <td>-0.7341</td>\n",
              "      <td>-0.5185</td>\n",
              "      <td>129205.6200</td>\n",
              "      <td>135962.3472</td>\n",
              "      <td>1.0141</td>\n",
              "      <td>1.2564</td>\n",
              "      <td>-0.6730</td>\n",
              "      <td>1.8513</td>\n",
              "      <td>0.8040</td>\n",
              "      <td>218628.1056</td>\n",
              "    </tr>\n",
              "    <tr>\n",
              "      <th>52280</th>\n",
              "      <td>1.8327</td>\n",
              "      <td>-1.2863</td>\n",
              "      <td>206355.1441</td>\n",
              "      <td>229638.7538</td>\n",
              "      <td>1.0141</td>\n",
              "      <td>1.2564</td>\n",
              "      <td>0.8889</td>\n",
              "      <td>0.7069</td>\n",
              "      <td>1.9516</td>\n",
              "      <td>218628.1056</td>\n",
              "    </tr>\n",
              "    <tr>\n",
              "      <th>...</th>\n",
              "      <td>...</td>\n",
              "      <td>...</td>\n",
              "      <td>...</td>\n",
              "      <td>...</td>\n",
              "      <td>...</td>\n",
              "      <td>...</td>\n",
              "      <td>...</td>\n",
              "      <td>...</td>\n",
              "      <td>...</td>\n",
              "      <td>...</td>\n",
              "    </tr>\n",
              "    <tr>\n",
              "      <th>94777</th>\n",
              "      <td>-3.7040</td>\n",
              "      <td>3.3714</td>\n",
              "      <td>139861.1976</td>\n",
              "      <td>129503.4683</td>\n",
              "      <td>2.8450</td>\n",
              "      <td>1.2564</td>\n",
              "      <td>0.8889</td>\n",
              "      <td>2.8049</td>\n",
              "      <td>2.3341</td>\n",
              "      <td>218628.1056</td>\n",
              "    </tr>\n",
              "    <tr>\n",
              "      <th>146068</th>\n",
              "      <td>0.1759</td>\n",
              "      <td>0.4047</td>\n",
              "      <td>202883.5451</td>\n",
              "      <td>245574.4505</td>\n",
              "      <td>0.0986</td>\n",
              "      <td>0.1255</td>\n",
              "      <td>0.8889</td>\n",
              "      <td>-0.2086</td>\n",
              "      <td>0.1155</td>\n",
              "      <td>190632.0361</td>\n",
              "    </tr>\n",
              "    <tr>\n",
              "      <th>138540</th>\n",
              "      <td>-0.1137</td>\n",
              "      <td>-0.0778</td>\n",
              "      <td>202883.5451</td>\n",
              "      <td>178853.0492</td>\n",
              "      <td>0.0986</td>\n",
              "      <td>0.1255</td>\n",
              "      <td>-0.6730</td>\n",
              "      <td>-0.3421</td>\n",
              "      <td>-0.3053</td>\n",
              "      <td>190632.0361</td>\n",
              "    </tr>\n",
              "    <tr>\n",
              "      <th>955</th>\n",
              "      <td>2.6271</td>\n",
              "      <td>-3.0590</td>\n",
              "      <td>206355.1441</td>\n",
              "      <td>181382.6771</td>\n",
              "      <td>1.0141</td>\n",
              "      <td>1.2564</td>\n",
              "      <td>0.8889</td>\n",
              "      <td>0.8786</td>\n",
              "      <td>1.2439</td>\n",
              "      <td>218628.1056</td>\n",
              "    </tr>\n",
              "    <tr>\n",
              "      <th>19428</th>\n",
              "      <td>-0.3685</td>\n",
              "      <td>0.4866</td>\n",
              "      <td>202883.5451</td>\n",
              "      <td>142334.6170</td>\n",
              "      <td>0.0986</td>\n",
              "      <td>0.1255</td>\n",
              "      <td>-0.6730</td>\n",
              "      <td>-0.3802</td>\n",
              "      <td>-0.3436</td>\n",
              "      <td>190632.0361</td>\n",
              "    </tr>\n",
              "  </tbody>\n",
              "</table>\n",
              "<p>77538 rows × 10 columns</p>\n",
              "</div>\n",
              "      <button class=\"colab-df-convert\" onclick=\"convertToInteractive('df-47a52b01-0831-44a6-ac0c-d98de408c71f')\"\n",
              "              title=\"Convert this dataframe to an interactive table.\"\n",
              "              style=\"display:none;\">\n",
              "        \n",
              "  <svg xmlns=\"http://www.w3.org/2000/svg\" height=\"24px\"viewBox=\"0 0 24 24\"\n",
              "       width=\"24px\">\n",
              "    <path d=\"M0 0h24v24H0V0z\" fill=\"none\"/>\n",
              "    <path d=\"M18.56 5.44l.94 2.06.94-2.06 2.06-.94-2.06-.94-.94-2.06-.94 2.06-2.06.94zm-11 1L8.5 8.5l.94-2.06 2.06-.94-2.06-.94L8.5 2.5l-.94 2.06-2.06.94zm10 10l.94 2.06.94-2.06 2.06-.94-2.06-.94-.94-2.06-.94 2.06-2.06.94z\"/><path d=\"M17.41 7.96l-1.37-1.37c-.4-.4-.92-.59-1.43-.59-.52 0-1.04.2-1.43.59L10.3 9.45l-7.72 7.72c-.78.78-.78 2.05 0 2.83L4 21.41c.39.39.9.59 1.41.59.51 0 1.02-.2 1.41-.59l7.78-7.78 2.81-2.81c.8-.78.8-2.07 0-2.86zM5.41 20L4 18.59l7.72-7.72 1.47 1.35L5.41 20z\"/>\n",
              "  </svg>\n",
              "      </button>\n",
              "      \n",
              "  <style>\n",
              "    .colab-df-container {\n",
              "      display:flex;\n",
              "      flex-wrap:wrap;\n",
              "      gap: 12px;\n",
              "    }\n",
              "\n",
              "    .colab-df-convert {\n",
              "      background-color: #E8F0FE;\n",
              "      border: none;\n",
              "      border-radius: 50%;\n",
              "      cursor: pointer;\n",
              "      display: none;\n",
              "      fill: #1967D2;\n",
              "      height: 32px;\n",
              "      padding: 0 0 0 0;\n",
              "      width: 32px;\n",
              "    }\n",
              "\n",
              "    .colab-df-convert:hover {\n",
              "      background-color: #E2EBFA;\n",
              "      box-shadow: 0px 1px 2px rgba(60, 64, 67, 0.3), 0px 1px 3px 1px rgba(60, 64, 67, 0.15);\n",
              "      fill: #174EA6;\n",
              "    }\n",
              "\n",
              "    [theme=dark] .colab-df-convert {\n",
              "      background-color: #3B4455;\n",
              "      fill: #D2E3FC;\n",
              "    }\n",
              "\n",
              "    [theme=dark] .colab-df-convert:hover {\n",
              "      background-color: #434B5C;\n",
              "      box-shadow: 0px 1px 3px 1px rgba(0, 0, 0, 0.15);\n",
              "      filter: drop-shadow(0px 1px 2px rgba(0, 0, 0, 0.3));\n",
              "      fill: #FFFFFF;\n",
              "    }\n",
              "  </style>\n",
              "\n",
              "      <script>\n",
              "        const buttonEl =\n",
              "          document.querySelector('#df-47a52b01-0831-44a6-ac0c-d98de408c71f button.colab-df-convert');\n",
              "        buttonEl.style.display =\n",
              "          google.colab.kernel.accessAllowed ? 'block' : 'none';\n",
              "\n",
              "        async function convertToInteractive(key) {\n",
              "          const element = document.querySelector('#df-47a52b01-0831-44a6-ac0c-d98de408c71f');\n",
              "          const dataTable =\n",
              "            await google.colab.kernel.invokeFunction('convertToInteractive',\n",
              "                                                     [key], {});\n",
              "          if (!dataTable) return;\n",
              "\n",
              "          const docLinkHtml = 'Like what you see? Visit the ' +\n",
              "            '<a target=\"_blank\" href=https://colab.research.google.com/notebooks/data_table.ipynb>data table notebook</a>'\n",
              "            + ' to learn more about interactive tables.';\n",
              "          element.innerHTML = '';\n",
              "          dataTable['output_type'] = 'display_data';\n",
              "          await google.colab.output.renderOutput(dataTable, element);\n",
              "          const docLink = document.createElement('div');\n",
              "          docLink.innerHTML = docLinkHtml;\n",
              "          element.appendChild(docLink);\n",
              "        }\n",
              "      </script>\n",
              "    </div>\n",
              "  </div>\n",
              "  "
            ],
            "text/plain": [
              "        latitud  longitud      region   localidad  ambientes  dormitorios  \\\n",
              "140475   0.0616    0.3791 202883.5451 245574.4505     0.0986       0.1255   \n",
              "26762    0.2029    0.1211 202883.5451 208624.2168     1.0141       1.2564   \n",
              "113145   0.3045    0.2157 202883.5451 266303.2264    -1.7323      -1.0054   \n",
              "122895  -0.7341   -0.5185 129205.6200 135962.3472     1.0141       1.2564   \n",
              "52280    1.8327   -1.2863 206355.1441 229638.7538     1.0141       1.2564   \n",
              "...         ...       ...         ...         ...        ...          ...   \n",
              "94777   -3.7040    3.3714 139861.1976 129503.4683     2.8450       1.2564   \n",
              "146068   0.1759    0.4047 202883.5451 245574.4505     0.0986       0.1255   \n",
              "138540  -0.1137   -0.0778 202883.5451 178853.0492     0.0986       0.1255   \n",
              "955      2.6271   -3.0590 206355.1441 181382.6771     1.0141       1.2564   \n",
              "19428   -0.3685    0.4866 202883.5451 142334.6170     0.0986       0.1255   \n",
              "\n",
              "         baños  superficie  superficie_cubierta        tipo  \n",
              "140475  0.8889     -0.0083               0.4215 190632.0361  \n",
              "26762   0.8889     -0.2181               0.0963 190632.0361  \n",
              "113145 -0.6730     -0.5519              -0.6879 190632.0361  \n",
              "122895 -0.6730      1.8513               0.8040 218628.1056  \n",
              "52280   0.8889      0.7069               1.9516 218628.1056  \n",
              "...        ...         ...                  ...         ...  \n",
              "94777   0.8889      2.8049               2.3341 218628.1056  \n",
              "146068  0.8889     -0.2086               0.1155 190632.0361  \n",
              "138540 -0.6730     -0.3421              -0.3053 190632.0361  \n",
              "955     0.8889      0.8786               1.2439 218628.1056  \n",
              "19428  -0.6730     -0.3802              -0.3436 190632.0361  \n",
              "\n",
              "[77538 rows x 10 columns]"
            ]
          },
          "metadata": {},
          "execution_count": 426
        },
        {
          "output_type": "execute_result",
          "data": {
            "text/html": [
              "\n",
              "  <div id=\"df-63a4e2a4-9723-4357-aa86-659bcf3033ea\">\n",
              "    <div class=\"colab-df-container\">\n",
              "      <div>\n",
              "<style scoped>\n",
              "    .dataframe tbody tr th:only-of-type {\n",
              "        vertical-align: middle;\n",
              "    }\n",
              "\n",
              "    .dataframe tbody tr th {\n",
              "        vertical-align: top;\n",
              "    }\n",
              "\n",
              "    .dataframe thead th {\n",
              "        text-align: right;\n",
              "    }\n",
              "</style>\n",
              "<table border=\"1\" class=\"dataframe\">\n",
              "  <thead>\n",
              "    <tr style=\"text-align: right;\">\n",
              "      <th></th>\n",
              "      <th>latitud</th>\n",
              "      <th>longitud</th>\n",
              "      <th>region</th>\n",
              "      <th>localidad</th>\n",
              "      <th>ambientes</th>\n",
              "      <th>dormitorios</th>\n",
              "      <th>baños</th>\n",
              "      <th>superficie</th>\n",
              "      <th>superficie_cubierta</th>\n",
              "      <th>tipo</th>\n",
              "    </tr>\n",
              "  </thead>\n",
              "  <tbody>\n",
              "    <tr>\n",
              "      <th>140424</th>\n",
              "      <td>0.1333</td>\n",
              "      <td>0.1650</td>\n",
              "      <td>202883.5451</td>\n",
              "      <td>208624.2168</td>\n",
              "      <td>1.0141</td>\n",
              "      <td>1.2564</td>\n",
              "      <td>2.4508</td>\n",
              "      <td>0.0775</td>\n",
              "      <td>0.3832</td>\n",
              "      <td>190632.0361</td>\n",
              "    </tr>\n",
              "    <tr>\n",
              "      <th>137404</th>\n",
              "      <td>0.4040</td>\n",
              "      <td>-0.0338</td>\n",
              "      <td>202883.5451</td>\n",
              "      <td>207597.6524</td>\n",
              "      <td>-0.8168</td>\n",
              "      <td>-1.0054</td>\n",
              "      <td>-0.6730</td>\n",
              "      <td>-0.3421</td>\n",
              "      <td>-0.5349</td>\n",
              "      <td>190632.0361</td>\n",
              "    </tr>\n",
              "    <tr>\n",
              "      <th>110126</th>\n",
              "      <td>-0.1274</td>\n",
              "      <td>0.4577</td>\n",
              "      <td>202883.5451</td>\n",
              "      <td>143175.8056</td>\n",
              "      <td>-0.8168</td>\n",
              "      <td>-1.0054</td>\n",
              "      <td>-0.6730</td>\n",
              "      <td>-0.6758</td>\n",
              "      <td>-0.8218</td>\n",
              "      <td>190632.0361</td>\n",
              "    </tr>\n",
              "    <tr>\n",
              "      <th>86048</th>\n",
              "      <td>-0.0379</td>\n",
              "      <td>0.6262</td>\n",
              "      <td>202883.5451</td>\n",
              "      <td>240389.5906</td>\n",
              "      <td>-1.7323</td>\n",
              "      <td>-1.0054</td>\n",
              "      <td>-0.6730</td>\n",
              "      <td>-0.7903</td>\n",
              "      <td>-1.0513</td>\n",
              "      <td>190632.0361</td>\n",
              "    </tr>\n",
              "    <tr>\n",
              "      <th>136316</th>\n",
              "      <td>-0.3888</td>\n",
              "      <td>0.0421</td>\n",
              "      <td>202883.5451</td>\n",
              "      <td>167447.4809</td>\n",
              "      <td>-0.8168</td>\n",
              "      <td>-1.0054</td>\n",
              "      <td>-0.6730</td>\n",
              "      <td>-0.4851</td>\n",
              "      <td>-0.7261</td>\n",
              "      <td>190632.0361</td>\n",
              "    </tr>\n",
              "    <tr>\n",
              "      <th>...</th>\n",
              "      <td>...</td>\n",
              "      <td>...</td>\n",
              "      <td>...</td>\n",
              "      <td>...</td>\n",
              "      <td>...</td>\n",
              "      <td>...</td>\n",
              "      <td>...</td>\n",
              "      <td>...</td>\n",
              "      <td>...</td>\n",
              "      <td>...</td>\n",
              "    </tr>\n",
              "    <tr>\n",
              "      <th>9940</th>\n",
              "      <td>0.0974</td>\n",
              "      <td>0.1821</td>\n",
              "      <td>202883.5451</td>\n",
              "      <td>245574.4505</td>\n",
              "      <td>-0.8168</td>\n",
              "      <td>-1.0054</td>\n",
              "      <td>-0.6730</td>\n",
              "      <td>-0.1227</td>\n",
              "      <td>-0.3818</td>\n",
              "      <td>179840.8530</td>\n",
              "    </tr>\n",
              "    <tr>\n",
              "      <th>37197</th>\n",
              "      <td>-0.1244</td>\n",
              "      <td>0.2541</td>\n",
              "      <td>202883.5451</td>\n",
              "      <td>173575.9624</td>\n",
              "      <td>-0.8168</td>\n",
              "      <td>-1.0054</td>\n",
              "      <td>-0.6730</td>\n",
              "      <td>-0.5995</td>\n",
              "      <td>-0.6687</td>\n",
              "      <td>190632.0361</td>\n",
              "    </tr>\n",
              "    <tr>\n",
              "      <th>24066</th>\n",
              "      <td>2.0863</td>\n",
              "      <td>-1.3154</td>\n",
              "      <td>206355.1441</td>\n",
              "      <td>229638.7538</td>\n",
              "      <td>-0.8168</td>\n",
              "      <td>-1.0054</td>\n",
              "      <td>-0.6730</td>\n",
              "      <td>-0.4374</td>\n",
              "      <td>-0.5349</td>\n",
              "      <td>190632.0361</td>\n",
              "    </tr>\n",
              "    <tr>\n",
              "      <th>37270</th>\n",
              "      <td>0.1755</td>\n",
              "      <td>0.0002</td>\n",
              "      <td>202883.5451</td>\n",
              "      <td>196445.9744</td>\n",
              "      <td>-0.8168</td>\n",
              "      <td>-1.0054</td>\n",
              "      <td>-0.6730</td>\n",
              "      <td>-0.6854</td>\n",
              "      <td>-0.8409</td>\n",
              "      <td>190632.0361</td>\n",
              "    </tr>\n",
              "    <tr>\n",
              "      <th>3501</th>\n",
              "      <td>-0.3449</td>\n",
              "      <td>-0.1400</td>\n",
              "      <td>202883.5451</td>\n",
              "      <td>149040.0297</td>\n",
              "      <td>0.0986</td>\n",
              "      <td>0.1255</td>\n",
              "      <td>-0.6730</td>\n",
              "      <td>-0.5137</td>\n",
              "      <td>-0.5540</td>\n",
              "      <td>190632.0361</td>\n",
              "    </tr>\n",
              "  </tbody>\n",
              "</table>\n",
              "<p>33231 rows × 10 columns</p>\n",
              "</div>\n",
              "      <button class=\"colab-df-convert\" onclick=\"convertToInteractive('df-63a4e2a4-9723-4357-aa86-659bcf3033ea')\"\n",
              "              title=\"Convert this dataframe to an interactive table.\"\n",
              "              style=\"display:none;\">\n",
              "        \n",
              "  <svg xmlns=\"http://www.w3.org/2000/svg\" height=\"24px\"viewBox=\"0 0 24 24\"\n",
              "       width=\"24px\">\n",
              "    <path d=\"M0 0h24v24H0V0z\" fill=\"none\"/>\n",
              "    <path d=\"M18.56 5.44l.94 2.06.94-2.06 2.06-.94-2.06-.94-.94-2.06-.94 2.06-2.06.94zm-11 1L8.5 8.5l.94-2.06 2.06-.94-2.06-.94L8.5 2.5l-.94 2.06-2.06.94zm10 10l.94 2.06.94-2.06 2.06-.94-2.06-.94-.94-2.06-.94 2.06-2.06.94z\"/><path d=\"M17.41 7.96l-1.37-1.37c-.4-.4-.92-.59-1.43-.59-.52 0-1.04.2-1.43.59L10.3 9.45l-7.72 7.72c-.78.78-.78 2.05 0 2.83L4 21.41c.39.39.9.59 1.41.59.51 0 1.02-.2 1.41-.59l7.78-7.78 2.81-2.81c.8-.78.8-2.07 0-2.86zM5.41 20L4 18.59l7.72-7.72 1.47 1.35L5.41 20z\"/>\n",
              "  </svg>\n",
              "      </button>\n",
              "      \n",
              "  <style>\n",
              "    .colab-df-container {\n",
              "      display:flex;\n",
              "      flex-wrap:wrap;\n",
              "      gap: 12px;\n",
              "    }\n",
              "\n",
              "    .colab-df-convert {\n",
              "      background-color: #E8F0FE;\n",
              "      border: none;\n",
              "      border-radius: 50%;\n",
              "      cursor: pointer;\n",
              "      display: none;\n",
              "      fill: #1967D2;\n",
              "      height: 32px;\n",
              "      padding: 0 0 0 0;\n",
              "      width: 32px;\n",
              "    }\n",
              "\n",
              "    .colab-df-convert:hover {\n",
              "      background-color: #E2EBFA;\n",
              "      box-shadow: 0px 1px 2px rgba(60, 64, 67, 0.3), 0px 1px 3px 1px rgba(60, 64, 67, 0.15);\n",
              "      fill: #174EA6;\n",
              "    }\n",
              "\n",
              "    [theme=dark] .colab-df-convert {\n",
              "      background-color: #3B4455;\n",
              "      fill: #D2E3FC;\n",
              "    }\n",
              "\n",
              "    [theme=dark] .colab-df-convert:hover {\n",
              "      background-color: #434B5C;\n",
              "      box-shadow: 0px 1px 3px 1px rgba(0, 0, 0, 0.15);\n",
              "      filter: drop-shadow(0px 1px 2px rgba(0, 0, 0, 0.3));\n",
              "      fill: #FFFFFF;\n",
              "    }\n",
              "  </style>\n",
              "\n",
              "      <script>\n",
              "        const buttonEl =\n",
              "          document.querySelector('#df-63a4e2a4-9723-4357-aa86-659bcf3033ea button.colab-df-convert');\n",
              "        buttonEl.style.display =\n",
              "          google.colab.kernel.accessAllowed ? 'block' : 'none';\n",
              "\n",
              "        async function convertToInteractive(key) {\n",
              "          const element = document.querySelector('#df-63a4e2a4-9723-4357-aa86-659bcf3033ea');\n",
              "          const dataTable =\n",
              "            await google.colab.kernel.invokeFunction('convertToInteractive',\n",
              "                                                     [key], {});\n",
              "          if (!dataTable) return;\n",
              "\n",
              "          const docLinkHtml = 'Like what you see? Visit the ' +\n",
              "            '<a target=\"_blank\" href=https://colab.research.google.com/notebooks/data_table.ipynb>data table notebook</a>'\n",
              "            + ' to learn more about interactive tables.';\n",
              "          element.innerHTML = '';\n",
              "          dataTable['output_type'] = 'display_data';\n",
              "          await google.colab.output.renderOutput(dataTable, element);\n",
              "          const docLink = document.createElement('div');\n",
              "          docLink.innerHTML = docLinkHtml;\n",
              "          element.appendChild(docLink);\n",
              "        }\n",
              "      </script>\n",
              "    </div>\n",
              "  </div>\n",
              "  "
            ],
            "text/plain": [
              "        latitud  longitud      region   localidad  ambientes  dormitorios  \\\n",
              "140424   0.1333    0.1650 202883.5451 208624.2168     1.0141       1.2564   \n",
              "137404   0.4040   -0.0338 202883.5451 207597.6524    -0.8168      -1.0054   \n",
              "110126  -0.1274    0.4577 202883.5451 143175.8056    -0.8168      -1.0054   \n",
              "86048   -0.0379    0.6262 202883.5451 240389.5906    -1.7323      -1.0054   \n",
              "136316  -0.3888    0.0421 202883.5451 167447.4809    -0.8168      -1.0054   \n",
              "...         ...       ...         ...         ...        ...          ...   \n",
              "9940     0.0974    0.1821 202883.5451 245574.4505    -0.8168      -1.0054   \n",
              "37197   -0.1244    0.2541 202883.5451 173575.9624    -0.8168      -1.0054   \n",
              "24066    2.0863   -1.3154 206355.1441 229638.7538    -0.8168      -1.0054   \n",
              "37270    0.1755    0.0002 202883.5451 196445.9744    -0.8168      -1.0054   \n",
              "3501    -0.3449   -0.1400 202883.5451 149040.0297     0.0986       0.1255   \n",
              "\n",
              "         baños  superficie  superficie_cubierta        tipo  \n",
              "140424  2.4508      0.0775               0.3832 190632.0361  \n",
              "137404 -0.6730     -0.3421              -0.5349 190632.0361  \n",
              "110126 -0.6730     -0.6758              -0.8218 190632.0361  \n",
              "86048  -0.6730     -0.7903              -1.0513 190632.0361  \n",
              "136316 -0.6730     -0.4851              -0.7261 190632.0361  \n",
              "...        ...         ...                  ...         ...  \n",
              "9940   -0.6730     -0.1227              -0.3818 179840.8530  \n",
              "37197  -0.6730     -0.5995              -0.6687 190632.0361  \n",
              "24066  -0.6730     -0.4374              -0.5349 190632.0361  \n",
              "37270  -0.6730     -0.6854              -0.8409 190632.0361  \n",
              "3501   -0.6730     -0.5137              -0.5540 190632.0361  \n",
              "\n",
              "[33231 rows x 10 columns]"
            ]
          },
          "metadata": {},
          "execution_count": 426
        },
        {
          "output_type": "execute_result",
          "data": {
            "text/plain": [
              "140475   265000.0000\n",
              "26762    239000.0000\n",
              "113145   185000.0000\n",
              "122895   130000.0000\n",
              "52280    138000.0000\n",
              "             ...    \n",
              "94777    170000.0000\n",
              "146068   280000.0000\n",
              "138540   155000.0000\n",
              "955      220000.0000\n",
              "19428     95000.0000\n",
              "Name: precio, Length: 77538, dtype: float64"
            ]
          },
          "metadata": {},
          "execution_count": 426
        },
        {
          "output_type": "execute_result",
          "data": {
            "text/plain": [
              "140424   343300.0000\n",
              "137404   206000.0000\n",
              "110126    95000.0000\n",
              "86048     50000.0000\n",
              "136316   109000.0000\n",
              "             ...    \n",
              "9940     180000.0000\n",
              "37197    133000.0000\n",
              "24066    190000.0000\n",
              "37270     89000.0000\n",
              "3501     125000.0000\n",
              "Name: precio, Length: 33231, dtype: float64"
            ]
          },
          "metadata": {},
          "execution_count": 426
        }
      ],
      "source": [
        "X_train\n",
        "X_test\n",
        "y_train\n",
        "y_test"
      ],
      "id": "0c95c2ab"
    },
    {
      "cell_type": "markdown",
      "metadata": {
        "id": "through-missile"
      },
      "source": [
        "#### Volvemos a graficar las variables numéricas como al principio para saber la nueva distribución"
      ],
      "id": "through-missile"
    },
    {
      "cell_type": "code",
      "source": [
        "##### Gráfico de distribución para cada variable numérica nueva\n",
        "\n",
        "fig, axes = plt.subplots(nrows=3, ncols=2, figsize=(9, 5))\n",
        "axes = axes.flat\n",
        "columnas_numeric = X.select_dtypes(include=['float64', 'int']).columns\n",
        "\n",
        "for i, colum in enumerate(columnas_numeric):\n",
        "    sns.histplot(\n",
        "        data    = X,\n",
        "        x       = colum,\n",
        "        stat    = \"count\",\n",
        "        kde     = True,\n",
        "        color   = (list(plt.rcParams['axes.prop_cycle'])*2)[i][\"color\"],\n",
        "        line_kws= {'linewidth': 2},\n",
        "        alpha   = 0.3,\n",
        "        ax      = axes[i]\n",
        "    )\n",
        "    axes[i].set_title(colum, fontsize = 7, fontweight = \"bold\")\n",
        "    axes[i].tick_params(labelsize = 6)\n",
        "    axes[i].set_xlabel(\"\")\n",
        "    \n",
        "    \n",
        "fig.tight_layout()\n",
        "plt.subplots_adjust(top = 0.9)\n",
        "fig.suptitle('Distribución variables numéricas', fontsize = 10, fontweight = \"bold\");"
      ],
      "metadata": {
        "colab": {
          "base_uri": "https://localhost:8080/",
          "height": 373
        },
        "id": "XQBcaUXT3E4V",
        "outputId": "53942311-c777-449f-ebcc-b93dd597a2a7"
      },
      "id": "XQBcaUXT3E4V",
      "execution_count": null,
      "outputs": [
        {
          "output_type": "display_data",
          "data": {
            "image/png": "[encoded data removed]",
            "text/plain": [
              "<Figure size 648x360 with 6 Axes>"
            ]
          },
          "metadata": {}
        }
      ]
    },
    {
      "cell_type": "markdown",
      "metadata": {
        "id": "protecting-february"
      },
      "source": [
        "### Reprosesamiento de datos según sprint 1\n",
        "\n",
        "Lo que haremos será utilizar la X y la y de este modelo para conocer si nuestro pre procesamiento logró alguna mejora.\n",
        "\n",
        "Se utilizara el R2 y el RMSE para confirmarlo."
      ],
      "id": "protecting-february"
    },
    {
      "cell_type": "code",
      "execution_count": null,
      "metadata": {
        "id": "smaller-worthy",
        "colab": {
          "base_uri": "https://localhost:8080/"
        },
        "outputId": "fb6865f0-a28f-458e-afb8-542895a181fd"
      },
      "outputs": [
        {
          "output_type": "execute_result",
          "data": {
            "text/plain": [
              "DecisionTreeRegressor(max_depth=10, random_state=42)"
            ]
          },
          "metadata": {},
          "execution_count": 428
        }
      ],
      "source": [
        "#definimos el modelo\n",
        "tree_regressor = DecisionTreeRegressor(max_depth=10, random_state=42)\n",
        "\n",
        "#entrenamos los modelos\n",
        "\n",
        "tree_regressor.fit(X_train, y_train)\n"
      ],
      "id": "smaller-worthy"
    },
    {
      "cell_type": "code",
      "execution_count": null,
      "metadata": {
        "id": "rubber-allergy"
      },
      "outputs": [],
      "source": [
        "#realizamos una estimación de los test con el modelo entrenado.\n",
        "\n",
        "y_train_pred = tree_regressor.predict(X_train).round(2)\n",
        "y_test_pred = tree_regressor.predict(X_test).round(2)"
      ],
      "id": "rubber-allergy"
    },
    {
      "cell_type": "code",
      "execution_count": null,
      "metadata": {
        "id": "systematic-alexander",
        "colab": {
          "base_uri": "https://localhost:8080/"
        },
        "outputId": "9ad969fc-9fb7-4b8f-c3cb-42c12406a2ef"
      },
      "outputs": [
        {
          "output_type": "stream",
          "name": "stdout",
          "text": [
            "Raíz del error cuadrático medio en Train (RMSE): 50313.0\n",
            "Raíz del error cuadrático medio en Test (RMSE): 55585.0\n",
            "El coeficiente de determinación en train es: 0.8189293459833193\n",
            "El coeficiente de determinación en test es: 0.7857786115788892\n"
          ]
        }
      ],
      "source": [
        "#Metricas del modelo realizado en el step 1. Con los que se comparará los siguientes:\n",
        "rmse_train = np.sqrt(mean_squared_error(y_train, y_train_pred))\n",
        "rmse_test = np.sqrt(mean_squared_error(y_test, y_test_pred))\n",
        "print(f'Raíz del error cuadrático medio en Train (RMSE): {rmse_train.round()}')\n",
        "print(f'Raíz del error cuadrático medio en Test (RMSE): {rmse_test.round()}')\n",
        "\n",
        "Coeficiente_determinación_train = r2_score(y_train, y_train_pred)\n",
        "Coeficiente_determinación_test = r2_score(y_test, y_test_pred)\n",
        "print(f'El coeficiente de determinación en train es: {Coeficiente_determinación_train}')\n",
        "print(f'El coeficiente de determinación en test es: {Coeficiente_determinación_test}')"
      ],
      "id": "systematic-alexander"
    },
    {
      "cell_type": "code",
      "execution_count": null,
      "metadata": {
        "id": "hybrid-porter",
        "scrolled": true,
        "colab": {
          "base_uri": "https://localhost:8080/"
        },
        "outputId": "f09b2c57-ea11-4b86-bc77-49ec701aa3ec"
      },
      "outputs": [
        {
          "output_type": "execute_result",
          "data": {
            "text/plain": [
              "DecisionTreeRegressor(max_depth=6, random_state=42)"
            ]
          },
          "metadata": {},
          "execution_count": 431
        },
        {
          "output_type": "stream",
          "name": "stdout",
          "text": [
            "Arbol de profundidad:  6\n",
            "RMSE de train es:  62367.0\n",
            "RMSE de test es:  64437.0\n",
            "R2 score de train es:  0.72\n",
            "R2 score de test es:  0.71 \n",
            "\n"
          ]
        },
        {
          "output_type": "execute_result",
          "data": {
            "text/plain": [
              "DecisionTreeRegressor(max_depth=7, random_state=42)"
            ]
          },
          "metadata": {},
          "execution_count": 431
        },
        {
          "output_type": "stream",
          "name": "stdout",
          "text": [
            "Arbol de profundidad:  7\n",
            "RMSE de train es:  59309.0\n",
            "RMSE de test es:  61503.0\n",
            "R2 score de train es:  0.75\n",
            "R2 score de test es:  0.74 \n",
            "\n"
          ]
        },
        {
          "output_type": "execute_result",
          "data": {
            "text/plain": [
              "DecisionTreeRegressor(max_depth=8, random_state=42)"
            ]
          },
          "metadata": {},
          "execution_count": 431
        },
        {
          "output_type": "stream",
          "name": "stdout",
          "text": [
            "Arbol de profundidad:  8\n",
            "RMSE de train es:  56459.0\n",
            "RMSE de test es:  59138.0\n",
            "R2 score de train es:  0.77\n",
            "R2 score de test es:  0.76 \n",
            "\n"
          ]
        },
        {
          "output_type": "execute_result",
          "data": {
            "text/plain": [
              "DecisionTreeRegressor(max_depth=9, random_state=42)"
            ]
          },
          "metadata": {},
          "execution_count": 431
        },
        {
          "output_type": "stream",
          "name": "stdout",
          "text": [
            "Arbol de profundidad:  9\n",
            "RMSE de train es:  53308.0\n",
            "RMSE de test es:  57247.0\n",
            "R2 score de train es:  0.8\n",
            "R2 score de test es:  0.77 \n",
            "\n"
          ]
        },
        {
          "output_type": "execute_result",
          "data": {
            "text/plain": [
              "DecisionTreeRegressor(max_depth=10, random_state=42)"
            ]
          },
          "metadata": {},
          "execution_count": 431
        },
        {
          "output_type": "stream",
          "name": "stdout",
          "text": [
            "Arbol de profundidad:  10\n",
            "RMSE de train es:  50313.0\n",
            "RMSE de test es:  55585.0\n",
            "R2 score de train es:  0.82\n",
            "R2 score de test es:  0.79 \n",
            "\n"
          ]
        },
        {
          "output_type": "execute_result",
          "data": {
            "text/plain": [
              "DecisionTreeRegressor(max_depth=11, random_state=42)"
            ]
          },
          "metadata": {},
          "execution_count": 431
        },
        {
          "output_type": "stream",
          "name": "stdout",
          "text": [
            "Arbol de profundidad:  11\n",
            "RMSE de train es:  47209.0\n",
            "RMSE de test es:  54107.0\n",
            "R2 score de train es:  0.84\n",
            "R2 score de test es:  0.8 \n",
            "\n"
          ]
        },
        {
          "output_type": "execute_result",
          "data": {
            "text/plain": [
              "DecisionTreeRegressor(max_depth=12, random_state=42)"
            ]
          },
          "metadata": {},
          "execution_count": 431
        },
        {
          "output_type": "stream",
          "name": "stdout",
          "text": [
            "Arbol de profundidad:  12\n",
            "RMSE de train es:  43743.0\n",
            "RMSE de test es:  53023.0\n",
            "R2 score de train es:  0.86\n",
            "R2 score de test es:  0.81 \n",
            "\n"
          ]
        },
        {
          "output_type": "execute_result",
          "data": {
            "text/plain": [
              "DecisionTreeRegressor(max_depth=13, random_state=42)"
            ]
          },
          "metadata": {},
          "execution_count": 431
        },
        {
          "output_type": "stream",
          "name": "stdout",
          "text": [
            "Arbol de profundidad:  13\n",
            "RMSE de train es:  40147.0\n",
            "RMSE de test es:  51926.0\n",
            "R2 score de train es:  0.88\n",
            "R2 score de test es:  0.81 \n",
            "\n"
          ]
        },
        {
          "output_type": "execute_result",
          "data": {
            "text/plain": [
              "DecisionTreeRegressor(max_depth=15, random_state=42)"
            ]
          },
          "metadata": {},
          "execution_count": 431
        },
        {
          "output_type": "stream",
          "name": "stdout",
          "text": [
            "Arbol de profundidad:  15\n",
            "RMSE de train es:  32458.0\n",
            "RMSE de test es:  50343.0\n",
            "R2 score de train es:  0.92\n",
            "R2 score de test es:  0.82 \n",
            "\n"
          ]
        },
        {
          "output_type": "execute_result",
          "data": {
            "text/plain": [
              "DecisionTreeRegressor(max_depth=16, random_state=42)"
            ]
          },
          "metadata": {},
          "execution_count": 431
        },
        {
          "output_type": "stream",
          "name": "stdout",
          "text": [
            "Arbol de profundidad:  16\n",
            "RMSE de train es:  28668.0\n",
            "RMSE de test es:  50445.0\n",
            "R2 score de train es:  0.94\n",
            "R2 score de test es:  0.82 \n",
            "\n"
          ]
        },
        {
          "output_type": "execute_result",
          "data": {
            "text/plain": [
              "DecisionTreeRegressor(max_depth=17, random_state=42)"
            ]
          },
          "metadata": {},
          "execution_count": 431
        },
        {
          "output_type": "stream",
          "name": "stdout",
          "text": [
            "Arbol de profundidad:  17\n",
            "RMSE de train es:  24927.0\n",
            "RMSE de test es:  49898.0\n",
            "R2 score de train es:  0.96\n",
            "R2 score de test es:  0.83 \n",
            "\n"
          ]
        },
        {
          "output_type": "execute_result",
          "data": {
            "text/plain": [
              "DecisionTreeRegressor(max_depth=18, random_state=42)"
            ]
          },
          "metadata": {},
          "execution_count": 431
        },
        {
          "output_type": "stream",
          "name": "stdout",
          "text": [
            "Arbol de profundidad:  18\n",
            "RMSE de train es:  21371.0\n",
            "RMSE de test es:  50021.0\n",
            "R2 score de train es:  0.97\n",
            "R2 score de test es:  0.83 \n",
            "\n"
          ]
        }
      ],
      "source": [
        "# Vamos a probar distintos depth\n",
        "\n",
        "depths = [6,7,8,9,10,11,12,13,15,16,17,18]\n",
        "tree_RMSEs_train = []\n",
        "tree_RMSEs_test = []\n",
        "\n",
        "for depth in depths: \n",
        "    max_depth = depth \n",
        "\n",
        "    tree_final = DecisionTreeRegressor(max_depth=max_depth, random_state=42)\n",
        "\n",
        "    tree_final.fit(X_train, y_train)\n",
        "\n",
        "    y_train_pred = tree_final.predict(X_train)\n",
        "    y_test_pred = tree_final.predict(X_test)\n",
        "\n",
        "    RMSE_train = np.sqrt(mean_squared_error(y_train, y_train_pred)).round()\n",
        "    RMSE_test = np.sqrt(mean_squared_error(y_test, y_test_pred)).round()\n",
        "    R2_score_train = r2_score(y_train, y_train_pred).round(2)\n",
        "    R2_score_test = r2_score(y_test, y_test_pred).round(2)\n",
        "    \n",
        "    tree_RMSEs_train.append(RMSE_train)\n",
        "    tree_RMSEs_test.append(RMSE_test)\n",
        "    \n",
        "    tree_RMSEs_train_array = np.array(tree_RMSEs_train)\n",
        "    tree_RMSEs_test_array = np.array(tree_RMSEs_test)\n",
        "\n",
        "    print('Arbol de profundidad: ', depth)\n",
        "    print('RMSE de train es: ', RMSE_train)\n",
        "    print('RMSE de test es: ', RMSE_test)\n",
        "    print('R2 score de train es: ', R2_score_train)\n",
        "    print('R2 score de test es: ', R2_score_test, '\\n')"
      ],
      "id": "hybrid-porter"
    },
    {
      "cell_type": "code",
      "execution_count": null,
      "metadata": {
        "id": "familiar-underwear",
        "scrolled": true,
        "colab": {
          "base_uri": "https://localhost:8080/",
          "height": 554
        },
        "outputId": "29054dbd-f232-422f-8a45-8f65ae513304"
      },
      "outputs": [
        {
          "output_type": "execute_result",
          "data": {
            "text/plain": [
              "<Figure size 1152x576 with 0 Axes>"
            ]
          },
          "metadata": {},
          "execution_count": 432
        },
        {
          "output_type": "execute_result",
          "data": {
            "text/plain": [
              "[<matplotlib.lines.Line2D at 0x7f43a5adf990>]"
            ]
          },
          "metadata": {},
          "execution_count": 432
        },
        {
          "output_type": "execute_result",
          "data": {
            "text/plain": [
              "[<matplotlib.lines.Line2D at 0x7f43dcd39790>]"
            ]
          },
          "metadata": {},
          "execution_count": 432
        },
        {
          "output_type": "execute_result",
          "data": {
            "text/plain": [
              "<matplotlib.legend.Legend at 0x7f43a5adfad0>"
            ]
          },
          "metadata": {},
          "execution_count": 432
        },
        {
          "output_type": "execute_result",
          "data": {
            "text/plain": [
              "Text(0.5, 1.0, 'Optimizacion de hiperparametros en Arbol de decision')"
            ]
          },
          "metadata": {},
          "execution_count": 432
        },
        {
          "output_type": "execute_result",
          "data": {
            "text/plain": [
              "Text(0.5, 0, 'Depths')"
            ]
          },
          "metadata": {},
          "execution_count": 432
        },
        {
          "output_type": "execute_result",
          "data": {
            "text/plain": [
              "Text(0, 0.5, 'RMSE')"
            ]
          },
          "metadata": {},
          "execution_count": 432
        },
        {
          "output_type": "display_data",
          "data": {
            "image/png": "[encoded data removed]",
            "text/plain": [
              "<Figure size 1152x576 with 1 Axes>"
            ]
          },
          "metadata": {}
        }
      ],
      "source": [
        "plt.figure(figsize = (16,8))\n",
        "\n",
        "plt.plot(depths, tree_RMSEs_train_array, 'o-', label = 'Train')\n",
        "plt.plot(depths, tree_RMSEs_test_array, 'o-', label = 'Test')\n",
        "\n",
        "plt.legend()\n",
        "plt.title('Optimizacion de hiperparametros en Arbol de decision')\n",
        "plt.xlabel('Depths')\n",
        "plt.ylabel('RMSE')"
      ],
      "id": "familiar-underwear"
    },
    {
      "cell_type": "markdown",
      "metadata": {
        "id": "juvenile-nature"
      },
      "source": [
        "### Conclusión\n",
        "Podemos decir que la mejor opción es elegir entre 8, 9 y 10 depths comparados al primer modelo presentado en el sprint 1, ya que mejora increiblemente RMSE (entre 90.000 y 100.000) y  mejora un poco el R2 del test sin overfitear demasiado (antes había una diferencia entre train y test de 9 puntos y se bajó a 2/3 puntos en R2). \n",
        "\n",
        "Elijo el depths 10 ya que mejora mucho el % sin overfitear demasiado."
      ],
      "id": "juvenile-nature"
    },
    {
      "cell_type": "markdown",
      "metadata": {
        "id": "raising-coordinator"
      },
      "source": [
        "### 4. Reducción de Dimensionalidad (SVD)"
      ],
      "id": "raising-coordinator"
    },
    {
      "cell_type": "markdown",
      "metadata": {
        "id": "a20d3d51"
      },
      "source": [
        "Metodo de descomposición de variables para intentar disminuír su complejidad. Utilizamos SVD. Se toman las X transformadas para realizarlo."
      ],
      "id": "a20d3d51"
    },
    {
      "cell_type": "code",
      "execution_count": null,
      "metadata": {
        "id": "treated-duplicate"
      },
      "outputs": [],
      "source": [
        "from sklearn.decomposition import PCA\n",
        "from sklearn.decomposition import TruncatedSVD"
      ],
      "id": "treated-duplicate"
    },
    {
      "cell_type": "code",
      "execution_count": null,
      "metadata": {
        "id": "a803fe54"
      },
      "outputs": [],
      "source": [
        "pca = PCA(n_components=4)\n",
        "X_pca_train = pca.fit_transform(X_train)\n",
        "X_pca_test = pca.transform(X_test)"
      ],
      "id": "a803fe54"
    },
    {
      "cell_type": "code",
      "execution_count": null,
      "metadata": {
        "id": "3777adea",
        "scrolled": true,
        "colab": {
          "base_uri": "https://localhost:8080/"
        },
        "outputId": "3b760d53-03d6-45a2-d2e7-3516cfd5347d"
      },
      "outputs": [
        {
          "output_type": "execute_result",
          "data": {
            "text/plain": [
              "DecisionTreeRegressor(max_depth=8, random_state=42)"
            ]
          },
          "metadata": {},
          "execution_count": 435
        },
        {
          "output_type": "stream",
          "name": "stdout",
          "text": [
            "RMSE de train es:  63125.0\n",
            "RMSE de test es:  65365.0\n",
            "R2 score de train es:  0.71\n",
            "R2 score de test es:  0.7\n"
          ]
        },
        {
          "output_type": "execute_result",
          "data": {
            "text/plain": [
              "DecisionTreeRegressor(max_depth=9, random_state=42)"
            ]
          },
          "metadata": {},
          "execution_count": 435
        },
        {
          "output_type": "stream",
          "name": "stdout",
          "text": [
            "RMSE de train es:  61332.0\n",
            "RMSE de test es:  64165.0\n",
            "R2 score de train es:  0.73\n",
            "R2 score de test es:  0.71\n"
          ]
        },
        {
          "output_type": "execute_result",
          "data": {
            "text/plain": [
              "DecisionTreeRegressor(max_depth=10, random_state=42)"
            ]
          },
          "metadata": {},
          "execution_count": 435
        },
        {
          "output_type": "stream",
          "name": "stdout",
          "text": [
            "RMSE de train es:  59403.0\n",
            "RMSE de test es:  62969.0\n",
            "R2 score de train es:  0.75\n",
            "R2 score de test es:  0.73\n"
          ]
        },
        {
          "output_type": "execute_result",
          "data": {
            "text/plain": [
              "DecisionTreeRegressor(max_depth=11, random_state=42)"
            ]
          },
          "metadata": {},
          "execution_count": 435
        },
        {
          "output_type": "stream",
          "name": "stdout",
          "text": [
            "RMSE de train es:  56887.0\n",
            "RMSE de test es:  62182.0\n",
            "R2 score de train es:  0.77\n",
            "R2 score de test es:  0.73\n"
          ]
        },
        {
          "output_type": "execute_result",
          "data": {
            "text/plain": [
              "DecisionTreeRegressor(max_depth=12, random_state=42)"
            ]
          },
          "metadata": {},
          "execution_count": 435
        },
        {
          "output_type": "stream",
          "name": "stdout",
          "text": [
            "RMSE de train es:  54295.0\n",
            "RMSE de test es:  61410.0\n",
            "R2 score de train es:  0.79\n",
            "R2 score de test es:  0.74\n"
          ]
        },
        {
          "output_type": "execute_result",
          "data": {
            "text/plain": [
              "DecisionTreeRegressor(max_depth=13, random_state=42)"
            ]
          },
          "metadata": {},
          "execution_count": 435
        },
        {
          "output_type": "stream",
          "name": "stdout",
          "text": [
            "RMSE de train es:  51535.0\n",
            "RMSE de test es:  60929.0\n",
            "R2 score de train es:  0.81\n",
            "R2 score de test es:  0.74\n"
          ]
        }
      ],
      "source": [
        "depths = [8,9,10,11,12,13]       # Variar la profundidad del arbol\n",
        "\n",
        "for depth in depths: \n",
        "    max_depth = depth \n",
        "    tree_final = DecisionTreeRegressor(max_depth=max_depth, random_state=42)\n",
        "\n",
        "    tree_final.fit(X_pca_train, y_train)\n",
        "\n",
        "    y_train_pred = tree_final.predict(X_pca_train)\n",
        "    y_test_pred = tree_final.predict(X_pca_test)\n",
        "\n",
        "    RMSE_train = np.sqrt(mean_squared_error(y_train, y_train_pred)).round()\n",
        "    RMSE_test = np.sqrt(mean_squared_error(y_test, y_test_pred)).round()\n",
        "    R2_score_train = r2_score(y_train, y_train_pred).round(2)\n",
        "    R2_score_test = r2_score(y_test, y_test_pred).round(2)\n",
        "\n",
        "    print('RMSE de train es: ', RMSE_train)\n",
        "    print('RMSE de test es: ', RMSE_test)\n",
        "    print('R2 score de train es: ', R2_score_train)\n",
        "    print('R2 score de test es: ', R2_score_test)"
      ],
      "id": "3777adea"
    },
    {
      "cell_type": "code",
      "execution_count": null,
      "metadata": {
        "id": "outdoor-temple"
      },
      "outputs": [],
      "source": [
        "svd = TruncatedSVD(n_components=5, n_iter = 100, random_state = 42)\n",
        "X_svd_train = svd.fit_transform(X_train)\n",
        "X_svd_test = svd.transform(X_test)"
      ],
      "id": "outdoor-temple"
    },
    {
      "cell_type": "code",
      "execution_count": null,
      "metadata": {
        "id": "located-aquarium",
        "scrolled": true,
        "colab": {
          "base_uri": "https://localhost:8080/"
        },
        "outputId": "b155fccf-a63d-4921-98fe-4ff5dd8745a8"
      },
      "outputs": [
        {
          "output_type": "execute_result",
          "data": {
            "text/plain": [
              "DecisionTreeRegressor(max_depth=8, random_state=42)"
            ]
          },
          "metadata": {},
          "execution_count": 437
        },
        {
          "output_type": "stream",
          "name": "stdout",
          "text": [
            "RMSE de train es:  62202.0\n",
            "RMSE de test es:  64952.0\n",
            "R2 score de train es:  0.72\n",
            "R2 score de test es:  0.71\n"
          ]
        },
        {
          "output_type": "execute_result",
          "data": {
            "text/plain": [
              "DecisionTreeRegressor(max_depth=9, random_state=42)"
            ]
          },
          "metadata": {},
          "execution_count": 437
        },
        {
          "output_type": "stream",
          "name": "stdout",
          "text": [
            "RMSE de train es:  59771.0\n",
            "RMSE de test es:  63354.0\n",
            "R2 score de train es:  0.74\n",
            "R2 score de test es:  0.72\n"
          ]
        },
        {
          "output_type": "execute_result",
          "data": {
            "text/plain": [
              "DecisionTreeRegressor(max_depth=10, random_state=42)"
            ]
          },
          "metadata": {},
          "execution_count": 437
        },
        {
          "output_type": "stream",
          "name": "stdout",
          "text": [
            "RMSE de train es:  57343.0\n",
            "RMSE de test es:  62340.0\n",
            "R2 score de train es:  0.76\n",
            "R2 score de test es:  0.73\n"
          ]
        },
        {
          "output_type": "execute_result",
          "data": {
            "text/plain": [
              "DecisionTreeRegressor(max_depth=11, random_state=42)"
            ]
          },
          "metadata": {},
          "execution_count": 437
        },
        {
          "output_type": "stream",
          "name": "stdout",
          "text": [
            "RMSE de train es:  54439.0\n",
            "RMSE de test es:  61343.0\n",
            "R2 score de train es:  0.79\n",
            "R2 score de test es:  0.74\n"
          ]
        },
        {
          "output_type": "execute_result",
          "data": {
            "text/plain": [
              "DecisionTreeRegressor(max_depth=12, random_state=42)"
            ]
          },
          "metadata": {},
          "execution_count": 437
        },
        {
          "output_type": "stream",
          "name": "stdout",
          "text": [
            "RMSE de train es:  51242.0\n",
            "RMSE de test es:  60654.0\n",
            "R2 score de train es:  0.81\n",
            "R2 score de test es:  0.74\n"
          ]
        },
        {
          "output_type": "execute_result",
          "data": {
            "text/plain": [
              "DecisionTreeRegressor(max_depth=13, random_state=42)"
            ]
          },
          "metadata": {},
          "execution_count": 437
        },
        {
          "output_type": "stream",
          "name": "stdout",
          "text": [
            "RMSE de train es:  47914.0\n",
            "RMSE de test es:  59832.0\n",
            "R2 score de train es:  0.84\n",
            "R2 score de test es:  0.75\n"
          ]
        }
      ],
      "source": [
        "depths = [8,9,10,11,12,13]       # Variar la profundidad del arbol\n",
        "\n",
        "for depth in depths: \n",
        "    max_depth = depth \n",
        "\n",
        "    tree_final = DecisionTreeRegressor(max_depth=max_depth, random_state=42)\n",
        "\n",
        "    tree_final.fit(X_svd_train, y_train)\n",
        "\n",
        "    y_train_pred_svd = tree_final.predict(X_svd_train)\n",
        "    y_test_pred_svd = tree_final.predict(X_svd_test)\n",
        "\n",
        "    RMSE_train = np.sqrt(mean_squared_error(y_train, y_train_pred_svd)).round()\n",
        "    RMSE_test = np.sqrt(mean_squared_error(y_test, y_test_pred_svd)).round()\n",
        "    R2_score_train = r2_score(y_train, y_train_pred_svd).round(2)\n",
        "    R2_score_test = r2_score(y_test, y_test_pred_svd).round(2)\n",
        "\n",
        "    print('RMSE de train es: ', RMSE_train)\n",
        "    print('RMSE de test es: ', RMSE_test)\n",
        "    print('R2 score de train es: ', R2_score_train)\n",
        "    print('R2 score de test es: ', R2_score_test)"
      ],
      "id": "located-aquarium"
    },
    {
      "cell_type": "markdown",
      "metadata": {
        "id": "selected-military"
      },
      "source": [
        "Luego de aplicar ambas tecnicas de reduccion de dimensionalidad con una perspectiva optimista, me encuentro con que los resultados no fueron satisfactorios en ninguno de los dos casos. Incluso estos se pusieron a prueba variando el numero de componentes, a medida que este se incrementa mejoran los resultados, pero pierde el sentido de eficiencia trabajar con la misma cantidad de atributos que el dataset a preprocesar.\n",
        "\n",
        "\n",
        "No se tomará ninguna de estas dos prácticas para el futuro análisis."
      ],
      "id": "selected-military"
    },
    {
      "cell_type": "markdown",
      "metadata": {
        "id": "photographic-stability"
      },
      "source": [
        "## Conclusiones de la Parte A"
      ],
      "id": "photographic-stability"
    },
    {
      "cell_type": "markdown",
      "metadata": {
        "id": "amber-dinner"
      },
      "source": [
        "Luego de realizar el pre procesamiento de datos a un nivel de detalle bastante amplio, lo cuál llevó un tiempo de procesamiento bastante grande (puede ser también por la falta de práctica en el codeo, ya que seguramente sea cuestión de minutos, a lo sumo horas para alguien con experiencia) la ganancia en cuestión de R2 score no fue significativa en cuanto a la capacidad de predicción.\n",
        "\n",
        "Si lo fue para no realizar overfiteo y en cuanto al RMSE (error cuadrático medio) se puede decir que la mejoría es increible. Un modelo de predicción que tenga un RMSE de 150.000 como daba anteriormente, la verdad me desmotivó. Bajarlo casi 100.000 es agradable, aunque sigue siendo mucho, seguramente haya herramientas con los modelos avanzados para continuar experimentando.\n",
        "\n",
        "Lo que sí no me queda claro es si esta disminución en el RMSE implica desprenderse de los \"valores atípicos\" que puede tener si se encuentra con casas \"lujosas\" por así decirlo. Y en que caso serviría y en que casos no lo hará."
      ],
      "id": "amber-dinner"
    },
    {
      "cell_type": "markdown",
      "metadata": {
        "id": "boolean-phoenix"
      },
      "source": [
        "## PARTE B - Modelos Avanzados"
      ],
      "id": "boolean-phoenix"
    },
    {
      "cell_type": "markdown",
      "metadata": {
        "id": "cardiac-catering"
      },
      "source": [
        "Para el presente trabajo, se estudiarán en profundidad dos modelos avanzados. Para ello, se entrenarán los siguientes con sus argumentos por defecto:\n",
        "- REGRESION LINEAL AVANZADA - CON REGULARIZACION RIDGE\n",
        "- RANDOM FOREST\n",
        "- ADABOOST\n",
        "- XGBOOST\n",
        "\n",
        "Luego, se evaluaran utilizando las metricas RMSE y R2 score. \n",
        "\n",
        "Una vez seleccionados los 2 modelos se optimizarán sus hiperparametros mediante Random Search y se intentará realizar también por Optuna."
      ],
      "id": "cardiac-catering"
    },
    {
      "cell_type": "code",
      "execution_count": null,
      "metadata": {
        "id": "wanted-photograph",
        "colab": {
          "base_uri": "https://localhost:8080/",
          "height": 1000
        },
        "outputId": "dff0390c-424d-498d-f86c-b72a68e4c1e4"
      },
      "outputs": [
        {
          "output_type": "execute_result",
          "data": {
            "text/html": [
              "\n",
              "  <div id=\"df-4a6abf58-ce0f-4a3c-9b6f-47bc436712d2\">\n",
              "    <div class=\"colab-df-container\">\n",
              "      <div>\n",
              "<style scoped>\n",
              "    .dataframe tbody tr th:only-of-type {\n",
              "        vertical-align: middle;\n",
              "    }\n",
              "\n",
              "    .dataframe tbody tr th {\n",
              "        vertical-align: top;\n",
              "    }\n",
              "\n",
              "    .dataframe thead th {\n",
              "        text-align: right;\n",
              "    }\n",
              "</style>\n",
              "<table border=\"1\" class=\"dataframe\">\n",
              "  <thead>\n",
              "    <tr style=\"text-align: right;\">\n",
              "      <th></th>\n",
              "      <th>latitud</th>\n",
              "      <th>longitud</th>\n",
              "      <th>region</th>\n",
              "      <th>localidad</th>\n",
              "      <th>ambientes</th>\n",
              "      <th>dormitorios</th>\n",
              "      <th>baños</th>\n",
              "      <th>superficie</th>\n",
              "      <th>superficie_cubierta</th>\n",
              "      <th>tipo</th>\n",
              "    </tr>\n",
              "  </thead>\n",
              "  <tbody>\n",
              "    <tr>\n",
              "      <th>140475</th>\n",
              "      <td>0.0616</td>\n",
              "      <td>0.3791</td>\n",
              "      <td>202883.5451</td>\n",
              "      <td>245574.4505</td>\n",
              "      <td>0.0986</td>\n",
              "      <td>0.1255</td>\n",
              "      <td>0.8889</td>\n",
              "      <td>-0.0083</td>\n",
              "      <td>0.4215</td>\n",
              "      <td>190632.0361</td>\n",
              "    </tr>\n",
              "    <tr>\n",
              "      <th>26762</th>\n",
              "      <td>0.2029</td>\n",
              "      <td>0.1211</td>\n",
              "      <td>202883.5451</td>\n",
              "      <td>208624.2168</td>\n",
              "      <td>1.0141</td>\n",
              "      <td>1.2564</td>\n",
              "      <td>0.8889</td>\n",
              "      <td>-0.2181</td>\n",
              "      <td>0.0963</td>\n",
              "      <td>190632.0361</td>\n",
              "    </tr>\n",
              "    <tr>\n",
              "      <th>113145</th>\n",
              "      <td>0.3045</td>\n",
              "      <td>0.2157</td>\n",
              "      <td>202883.5451</td>\n",
              "      <td>266303.2264</td>\n",
              "      <td>-1.7323</td>\n",
              "      <td>-1.0054</td>\n",
              "      <td>-0.6730</td>\n",
              "      <td>-0.5519</td>\n",
              "      <td>-0.6879</td>\n",
              "      <td>190632.0361</td>\n",
              "    </tr>\n",
              "    <tr>\n",
              "      <th>122895</th>\n",
              "      <td>-0.7341</td>\n",
              "      <td>-0.5185</td>\n",
              "      <td>129205.6200</td>\n",
              "      <td>135962.3472</td>\n",
              "      <td>1.0141</td>\n",
              "      <td>1.2564</td>\n",
              "      <td>-0.6730</td>\n",
              "      <td>1.8513</td>\n",
              "      <td>0.8040</td>\n",
              "      <td>218628.1056</td>\n",
              "    </tr>\n",
              "    <tr>\n",
              "      <th>52280</th>\n",
              "      <td>1.8327</td>\n",
              "      <td>-1.2863</td>\n",
              "      <td>206355.1441</td>\n",
              "      <td>229638.7538</td>\n",
              "      <td>1.0141</td>\n",
              "      <td>1.2564</td>\n",
              "      <td>0.8889</td>\n",
              "      <td>0.7069</td>\n",
              "      <td>1.9516</td>\n",
              "      <td>218628.1056</td>\n",
              "    </tr>\n",
              "    <tr>\n",
              "      <th>...</th>\n",
              "      <td>...</td>\n",
              "      <td>...</td>\n",
              "      <td>...</td>\n",
              "      <td>...</td>\n",
              "      <td>...</td>\n",
              "      <td>...</td>\n",
              "      <td>...</td>\n",
              "      <td>...</td>\n",
              "      <td>...</td>\n",
              "      <td>...</td>\n",
              "    </tr>\n",
              "    <tr>\n",
              "      <th>94777</th>\n",
              "      <td>-3.7040</td>\n",
              "      <td>3.3714</td>\n",
              "      <td>139861.1976</td>\n",
              "      <td>129503.4683</td>\n",
              "      <td>2.8450</td>\n",
              "      <td>1.2564</td>\n",
              "      <td>0.8889</td>\n",
              "      <td>2.8049</td>\n",
              "      <td>2.3341</td>\n",
              "      <td>218628.1056</td>\n",
              "    </tr>\n",
              "    <tr>\n",
              "      <th>146068</th>\n",
              "      <td>0.1759</td>\n",
              "      <td>0.4047</td>\n",
              "      <td>202883.5451</td>\n",
              "      <td>245574.4505</td>\n",
              "      <td>0.0986</td>\n",
              "      <td>0.1255</td>\n",
              "      <td>0.8889</td>\n",
              "      <td>-0.2086</td>\n",
              "      <td>0.1155</td>\n",
              "      <td>190632.0361</td>\n",
              "    </tr>\n",
              "    <tr>\n",
              "      <th>138540</th>\n",
              "      <td>-0.1137</td>\n",
              "      <td>-0.0778</td>\n",
              "      <td>202883.5451</td>\n",
              "      <td>178853.0492</td>\n",
              "      <td>0.0986</td>\n",
              "      <td>0.1255</td>\n",
              "      <td>-0.6730</td>\n",
              "      <td>-0.3421</td>\n",
              "      <td>-0.3053</td>\n",
              "      <td>190632.0361</td>\n",
              "    </tr>\n",
              "    <tr>\n",
              "      <th>955</th>\n",
              "      <td>2.6271</td>\n",
              "      <td>-3.0590</td>\n",
              "      <td>206355.1441</td>\n",
              "      <td>181382.6771</td>\n",
              "      <td>1.0141</td>\n",
              "      <td>1.2564</td>\n",
              "      <td>0.8889</td>\n",
              "      <td>0.8786</td>\n",
              "      <td>1.2439</td>\n",
              "      <td>218628.1056</td>\n",
              "    </tr>\n",
              "    <tr>\n",
              "      <th>19428</th>\n",
              "      <td>-0.3685</td>\n",
              "      <td>0.4866</td>\n",
              "      <td>202883.5451</td>\n",
              "      <td>142334.6170</td>\n",
              "      <td>0.0986</td>\n",
              "      <td>0.1255</td>\n",
              "      <td>-0.6730</td>\n",
              "      <td>-0.3802</td>\n",
              "      <td>-0.3436</td>\n",
              "      <td>190632.0361</td>\n",
              "    </tr>\n",
              "  </tbody>\n",
              "</table>\n",
              "<p>77538 rows × 10 columns</p>\n",
              "</div>\n",
              "      <button class=\"colab-df-convert\" onclick=\"convertToInteractive('df-4a6abf58-ce0f-4a3c-9b6f-47bc436712d2')\"\n",
              "              title=\"Convert this dataframe to an interactive table.\"\n",
              "              style=\"display:none;\">\n",
              "        \n",
              "  <svg xmlns=\"http://www.w3.org/2000/svg\" height=\"24px\"viewBox=\"0 0 24 24\"\n",
              "       width=\"24px\">\n",
              "    <path d=\"M0 0h24v24H0V0z\" fill=\"none\"/>\n",
              "    <path d=\"M18.56 5.44l.94 2.06.94-2.06 2.06-.94-2.06-.94-.94-2.06-.94 2.06-2.06.94zm-11 1L8.5 8.5l.94-2.06 2.06-.94-2.06-.94L8.5 2.5l-.94 2.06-2.06.94zm10 10l.94 2.06.94-2.06 2.06-.94-2.06-.94-.94-2.06-.94 2.06-2.06.94z\"/><path d=\"M17.41 7.96l-1.37-1.37c-.4-.4-.92-.59-1.43-.59-.52 0-1.04.2-1.43.59L10.3 9.45l-7.72 7.72c-.78.78-.78 2.05 0 2.83L4 21.41c.39.39.9.59 1.41.59.51 0 1.02-.2 1.41-.59l7.78-7.78 2.81-2.81c.8-.78.8-2.07 0-2.86zM5.41 20L4 18.59l7.72-7.72 1.47 1.35L5.41 20z\"/>\n",
              "  </svg>\n",
              "      </button>\n",
              "      \n",
              "  <style>\n",
              "    .colab-df-container {\n",
              "      display:flex;\n",
              "      flex-wrap:wrap;\n",
              "      gap: 12px;\n",
              "    }\n",
              "\n",
              "    .colab-df-convert {\n",
              "      background-color: #E8F0FE;\n",
              "      border: none;\n",
              "      border-radius: 50%;\n",
              "      cursor: pointer;\n",
              "      display: none;\n",
              "      fill: #1967D2;\n",
              "      height: 32px;\n",
              "      padding: 0 0 0 0;\n",
              "      width: 32px;\n",
              "    }\n",
              "\n",
              "    .colab-df-convert:hover {\n",
              "      background-color: #E2EBFA;\n",
              "      box-shadow: 0px 1px 2px rgba(60, 64, 67, 0.3), 0px 1px 3px 1px rgba(60, 64, 67, 0.15);\n",
              "      fill: #174EA6;\n",
              "    }\n",
              "\n",
              "    [theme=dark] .colab-df-convert {\n",
              "      background-color: #3B4455;\n",
              "      fill: #D2E3FC;\n",
              "    }\n",
              "\n",
              "    [theme=dark] .colab-df-convert:hover {\n",
              "      background-color: #434B5C;\n",
              "      box-shadow: 0px 1px 3px 1px rgba(0, 0, 0, 0.15);\n",
              "      filter: drop-shadow(0px 1px 2px rgba(0, 0, 0, 0.3));\n",
              "      fill: #FFFFFF;\n",
              "    }\n",
              "  </style>\n",
              "\n",
              "      <script>\n",
              "        const buttonEl =\n",
              "          document.querySelector('#df-4a6abf58-ce0f-4a3c-9b6f-47bc436712d2 button.colab-df-convert');\n",
              "        buttonEl.style.display =\n",
              "          google.colab.kernel.accessAllowed ? 'block' : 'none';\n",
              "\n",
              "        async function convertToInteractive(key) {\n",
              "          const element = document.querySelector('#df-4a6abf58-ce0f-4a3c-9b6f-47bc436712d2');\n",
              "          const dataTable =\n",
              "            await google.colab.kernel.invokeFunction('convertToInteractive',\n",
              "                                                     [key], {});\n",
              "          if (!dataTable) return;\n",
              "\n",
              "          const docLinkHtml = 'Like what you see? Visit the ' +\n",
              "            '<a target=\"_blank\" href=https://colab.research.google.com/notebooks/data_table.ipynb>data table notebook</a>'\n",
              "            + ' to learn more about interactive tables.';\n",
              "          element.innerHTML = '';\n",
              "          dataTable['output_type'] = 'display_data';\n",
              "          await google.colab.output.renderOutput(dataTable, element);\n",
              "          const docLink = document.createElement('div');\n",
              "          docLink.innerHTML = docLinkHtml;\n",
              "          element.appendChild(docLink);\n",
              "        }\n",
              "      </script>\n",
              "    </div>\n",
              "  </div>\n",
              "  "
            ],
            "text/plain": [
              "        latitud  longitud      region   localidad  ambientes  dormitorios  \\\n",
              "140475   0.0616    0.3791 202883.5451 245574.4505     0.0986       0.1255   \n",
              "26762    0.2029    0.1211 202883.5451 208624.2168     1.0141       1.2564   \n",
              "113145   0.3045    0.2157 202883.5451 266303.2264    -1.7323      -1.0054   \n",
              "122895  -0.7341   -0.5185 129205.6200 135962.3472     1.0141       1.2564   \n",
              "52280    1.8327   -1.2863 206355.1441 229638.7538     1.0141       1.2564   \n",
              "...         ...       ...         ...         ...        ...          ...   \n",
              "94777   -3.7040    3.3714 139861.1976 129503.4683     2.8450       1.2564   \n",
              "146068   0.1759    0.4047 202883.5451 245574.4505     0.0986       0.1255   \n",
              "138540  -0.1137   -0.0778 202883.5451 178853.0492     0.0986       0.1255   \n",
              "955      2.6271   -3.0590 206355.1441 181382.6771     1.0141       1.2564   \n",
              "19428   -0.3685    0.4866 202883.5451 142334.6170     0.0986       0.1255   \n",
              "\n",
              "         baños  superficie  superficie_cubierta        tipo  \n",
              "140475  0.8889     -0.0083               0.4215 190632.0361  \n",
              "26762   0.8889     -0.2181               0.0963 190632.0361  \n",
              "113145 -0.6730     -0.5519              -0.6879 190632.0361  \n",
              "122895 -0.6730      1.8513               0.8040 218628.1056  \n",
              "52280   0.8889      0.7069               1.9516 218628.1056  \n",
              "...        ...         ...                  ...         ...  \n",
              "94777   0.8889      2.8049               2.3341 218628.1056  \n",
              "146068  0.8889     -0.2086               0.1155 190632.0361  \n",
              "138540 -0.6730     -0.3421              -0.3053 190632.0361  \n",
              "955     0.8889      0.8786               1.2439 218628.1056  \n",
              "19428  -0.6730     -0.3802              -0.3436 190632.0361  \n",
              "\n",
              "[77538 rows x 10 columns]"
            ]
          },
          "metadata": {},
          "execution_count": 438
        },
        {
          "output_type": "execute_result",
          "data": {
            "text/html": [
              "\n",
              "  <div id=\"df-44f4920a-f697-400e-949b-54a083eb6091\">\n",
              "    <div class=\"colab-df-container\">\n",
              "      <div>\n",
              "<style scoped>\n",
              "    .dataframe tbody tr th:only-of-type {\n",
              "        vertical-align: middle;\n",
              "    }\n",
              "\n",
              "    .dataframe tbody tr th {\n",
              "        vertical-align: top;\n",
              "    }\n",
              "\n",
              "    .dataframe thead th {\n",
              "        text-align: right;\n",
              "    }\n",
              "</style>\n",
              "<table border=\"1\" class=\"dataframe\">\n",
              "  <thead>\n",
              "    <tr style=\"text-align: right;\">\n",
              "      <th></th>\n",
              "      <th>latitud</th>\n",
              "      <th>longitud</th>\n",
              "      <th>region</th>\n",
              "      <th>localidad</th>\n",
              "      <th>ambientes</th>\n",
              "      <th>dormitorios</th>\n",
              "      <th>baños</th>\n",
              "      <th>superficie</th>\n",
              "      <th>superficie_cubierta</th>\n",
              "      <th>tipo</th>\n",
              "    </tr>\n",
              "  </thead>\n",
              "  <tbody>\n",
              "    <tr>\n",
              "      <th>140424</th>\n",
              "      <td>0.1333</td>\n",
              "      <td>0.1650</td>\n",
              "      <td>202883.5451</td>\n",
              "      <td>208624.2168</td>\n",
              "      <td>1.0141</td>\n",
              "      <td>1.2564</td>\n",
              "      <td>2.4508</td>\n",
              "      <td>0.0775</td>\n",
              "      <td>0.3832</td>\n",
              "      <td>190632.0361</td>\n",
              "    </tr>\n",
              "    <tr>\n",
              "      <th>137404</th>\n",
              "      <td>0.4040</td>\n",
              "      <td>-0.0338</td>\n",
              "      <td>202883.5451</td>\n",
              "      <td>207597.6524</td>\n",
              "      <td>-0.8168</td>\n",
              "      <td>-1.0054</td>\n",
              "      <td>-0.6730</td>\n",
              "      <td>-0.3421</td>\n",
              "      <td>-0.5349</td>\n",
              "      <td>190632.0361</td>\n",
              "    </tr>\n",
              "    <tr>\n",
              "      <th>110126</th>\n",
              "      <td>-0.1274</td>\n",
              "      <td>0.4577</td>\n",
              "      <td>202883.5451</td>\n",
              "      <td>143175.8056</td>\n",
              "      <td>-0.8168</td>\n",
              "      <td>-1.0054</td>\n",
              "      <td>-0.6730</td>\n",
              "      <td>-0.6758</td>\n",
              "      <td>-0.8218</td>\n",
              "      <td>190632.0361</td>\n",
              "    </tr>\n",
              "    <tr>\n",
              "      <th>86048</th>\n",
              "      <td>-0.0379</td>\n",
              "      <td>0.6262</td>\n",
              "      <td>202883.5451</td>\n",
              "      <td>240389.5906</td>\n",
              "      <td>-1.7323</td>\n",
              "      <td>-1.0054</td>\n",
              "      <td>-0.6730</td>\n",
              "      <td>-0.7903</td>\n",
              "      <td>-1.0513</td>\n",
              "      <td>190632.0361</td>\n",
              "    </tr>\n",
              "    <tr>\n",
              "      <th>136316</th>\n",
              "      <td>-0.3888</td>\n",
              "      <td>0.0421</td>\n",
              "      <td>202883.5451</td>\n",
              "      <td>167447.4809</td>\n",
              "      <td>-0.8168</td>\n",
              "      <td>-1.0054</td>\n",
              "      <td>-0.6730</td>\n",
              "      <td>-0.4851</td>\n",
              "      <td>-0.7261</td>\n",
              "      <td>190632.0361</td>\n",
              "    </tr>\n",
              "    <tr>\n",
              "      <th>...</th>\n",
              "      <td>...</td>\n",
              "      <td>...</td>\n",
              "      <td>...</td>\n",
              "      <td>...</td>\n",
              "      <td>...</td>\n",
              "      <td>...</td>\n",
              "      <td>...</td>\n",
              "      <td>...</td>\n",
              "      <td>...</td>\n",
              "      <td>...</td>\n",
              "    </tr>\n",
              "    <tr>\n",
              "      <th>9940</th>\n",
              "      <td>0.0974</td>\n",
              "      <td>0.1821</td>\n",
              "      <td>202883.5451</td>\n",
              "      <td>245574.4505</td>\n",
              "      <td>-0.8168</td>\n",
              "      <td>-1.0054</td>\n",
              "      <td>-0.6730</td>\n",
              "      <td>-0.1227</td>\n",
              "      <td>-0.3818</td>\n",
              "      <td>179840.8530</td>\n",
              "    </tr>\n",
              "    <tr>\n",
              "      <th>37197</th>\n",
              "      <td>-0.1244</td>\n",
              "      <td>0.2541</td>\n",
              "      <td>202883.5451</td>\n",
              "      <td>173575.9624</td>\n",
              "      <td>-0.8168</td>\n",
              "      <td>-1.0054</td>\n",
              "      <td>-0.6730</td>\n",
              "      <td>-0.5995</td>\n",
              "      <td>-0.6687</td>\n",
              "      <td>190632.0361</td>\n",
              "    </tr>\n",
              "    <tr>\n",
              "      <th>24066</th>\n",
              "      <td>2.0863</td>\n",
              "      <td>-1.3154</td>\n",
              "      <td>206355.1441</td>\n",
              "      <td>229638.7538</td>\n",
              "      <td>-0.8168</td>\n",
              "      <td>-1.0054</td>\n",
              "      <td>-0.6730</td>\n",
              "      <td>-0.4374</td>\n",
              "      <td>-0.5349</td>\n",
              "      <td>190632.0361</td>\n",
              "    </tr>\n",
              "    <tr>\n",
              "      <th>37270</th>\n",
              "      <td>0.1755</td>\n",
              "      <td>0.0002</td>\n",
              "      <td>202883.5451</td>\n",
              "      <td>196445.9744</td>\n",
              "      <td>-0.8168</td>\n",
              "      <td>-1.0054</td>\n",
              "      <td>-0.6730</td>\n",
              "      <td>-0.6854</td>\n",
              "      <td>-0.8409</td>\n",
              "      <td>190632.0361</td>\n",
              "    </tr>\n",
              "    <tr>\n",
              "      <th>3501</th>\n",
              "      <td>-0.3449</td>\n",
              "      <td>-0.1400</td>\n",
              "      <td>202883.5451</td>\n",
              "      <td>149040.0297</td>\n",
              "      <td>0.0986</td>\n",
              "      <td>0.1255</td>\n",
              "      <td>-0.6730</td>\n",
              "      <td>-0.5137</td>\n",
              "      <td>-0.5540</td>\n",
              "      <td>190632.0361</td>\n",
              "    </tr>\n",
              "  </tbody>\n",
              "</table>\n",
              "<p>33231 rows × 10 columns</p>\n",
              "</div>\n",
              "      <button class=\"colab-df-convert\" onclick=\"convertToInteractive('df-44f4920a-f697-400e-949b-54a083eb6091')\"\n",
              "              title=\"Convert this dataframe to an interactive table.\"\n",
              "              style=\"display:none;\">\n",
              "        \n",
              "  <svg xmlns=\"http://www.w3.org/2000/svg\" height=\"24px\"viewBox=\"0 0 24 24\"\n",
              "       width=\"24px\">\n",
              "    <path d=\"M0 0h24v24H0V0z\" fill=\"none\"/>\n",
              "    <path d=\"M18.56 5.44l.94 2.06.94-2.06 2.06-.94-2.06-.94-.94-2.06-.94 2.06-2.06.94zm-11 1L8.5 8.5l.94-2.06 2.06-.94-2.06-.94L8.5 2.5l-.94 2.06-2.06.94zm10 10l.94 2.06.94-2.06 2.06-.94-2.06-.94-.94-2.06-.94 2.06-2.06.94z\"/><path d=\"M17.41 7.96l-1.37-1.37c-.4-.4-.92-.59-1.43-.59-.52 0-1.04.2-1.43.59L10.3 9.45l-7.72 7.72c-.78.78-.78 2.05 0 2.83L4 21.41c.39.39.9.59 1.41.59.51 0 1.02-.2 1.41-.59l7.78-7.78 2.81-2.81c.8-.78.8-2.07 0-2.86zM5.41 20L4 18.59l7.72-7.72 1.47 1.35L5.41 20z\"/>\n",
              "  </svg>\n",
              "      </button>\n",
              "      \n",
              "  <style>\n",
              "    .colab-df-container {\n",
              "      display:flex;\n",
              "      flex-wrap:wrap;\n",
              "      gap: 12px;\n",
              "    }\n",
              "\n",
              "    .colab-df-convert {\n",
              "      background-color: #E8F0FE;\n",
              "      border: none;\n",
              "      border-radius: 50%;\n",
              "      cursor: pointer;\n",
              "      display: none;\n",
              "      fill: #1967D2;\n",
              "      height: 32px;\n",
              "      padding: 0 0 0 0;\n",
              "      width: 32px;\n",
              "    }\n",
              "\n",
              "    .colab-df-convert:hover {\n",
              "      background-color: #E2EBFA;\n",
              "      box-shadow: 0px 1px 2px rgba(60, 64, 67, 0.3), 0px 1px 3px 1px rgba(60, 64, 67, 0.15);\n",
              "      fill: #174EA6;\n",
              "    }\n",
              "\n",
              "    [theme=dark] .colab-df-convert {\n",
              "      background-color: #3B4455;\n",
              "      fill: #D2E3FC;\n",
              "    }\n",
              "\n",
              "    [theme=dark] .colab-df-convert:hover {\n",
              "      background-color: #434B5C;\n",
              "      box-shadow: 0px 1px 3px 1px rgba(0, 0, 0, 0.15);\n",
              "      filter: drop-shadow(0px 1px 2px rgba(0, 0, 0, 0.3));\n",
              "      fill: #FFFFFF;\n",
              "    }\n",
              "  </style>\n",
              "\n",
              "      <script>\n",
              "        const buttonEl =\n",
              "          document.querySelector('#df-44f4920a-f697-400e-949b-54a083eb6091 button.colab-df-convert');\n",
              "        buttonEl.style.display =\n",
              "          google.colab.kernel.accessAllowed ? 'block' : 'none';\n",
              "\n",
              "        async function convertToInteractive(key) {\n",
              "          const element = document.querySelector('#df-44f4920a-f697-400e-949b-54a083eb6091');\n",
              "          const dataTable =\n",
              "            await google.colab.kernel.invokeFunction('convertToInteractive',\n",
              "                                                     [key], {});\n",
              "          if (!dataTable) return;\n",
              "\n",
              "          const docLinkHtml = 'Like what you see? Visit the ' +\n",
              "            '<a target=\"_blank\" href=https://colab.research.google.com/notebooks/data_table.ipynb>data table notebook</a>'\n",
              "            + ' to learn more about interactive tables.';\n",
              "          element.innerHTML = '';\n",
              "          dataTable['output_type'] = 'display_data';\n",
              "          await google.colab.output.renderOutput(dataTable, element);\n",
              "          const docLink = document.createElement('div');\n",
              "          docLink.innerHTML = docLinkHtml;\n",
              "          element.appendChild(docLink);\n",
              "        }\n",
              "      </script>\n",
              "    </div>\n",
              "  </div>\n",
              "  "
            ],
            "text/plain": [
              "        latitud  longitud      region   localidad  ambientes  dormitorios  \\\n",
              "140424   0.1333    0.1650 202883.5451 208624.2168     1.0141       1.2564   \n",
              "137404   0.4040   -0.0338 202883.5451 207597.6524    -0.8168      -1.0054   \n",
              "110126  -0.1274    0.4577 202883.5451 143175.8056    -0.8168      -1.0054   \n",
              "86048   -0.0379    0.6262 202883.5451 240389.5906    -1.7323      -1.0054   \n",
              "136316  -0.3888    0.0421 202883.5451 167447.4809    -0.8168      -1.0054   \n",
              "...         ...       ...         ...         ...        ...          ...   \n",
              "9940     0.0974    0.1821 202883.5451 245574.4505    -0.8168      -1.0054   \n",
              "37197   -0.1244    0.2541 202883.5451 173575.9624    -0.8168      -1.0054   \n",
              "24066    2.0863   -1.3154 206355.1441 229638.7538    -0.8168      -1.0054   \n",
              "37270    0.1755    0.0002 202883.5451 196445.9744    -0.8168      -1.0054   \n",
              "3501    -0.3449   -0.1400 202883.5451 149040.0297     0.0986       0.1255   \n",
              "\n",
              "         baños  superficie  superficie_cubierta        tipo  \n",
              "140424  2.4508      0.0775               0.3832 190632.0361  \n",
              "137404 -0.6730     -0.3421              -0.5349 190632.0361  \n",
              "110126 -0.6730     -0.6758              -0.8218 190632.0361  \n",
              "86048  -0.6730     -0.7903              -1.0513 190632.0361  \n",
              "136316 -0.6730     -0.4851              -0.7261 190632.0361  \n",
              "...        ...         ...                  ...         ...  \n",
              "9940   -0.6730     -0.1227              -0.3818 179840.8530  \n",
              "37197  -0.6730     -0.5995              -0.6687 190632.0361  \n",
              "24066  -0.6730     -0.4374              -0.5349 190632.0361  \n",
              "37270  -0.6730     -0.6854              -0.8409 190632.0361  \n",
              "3501   -0.6730     -0.5137              -0.5540 190632.0361  \n",
              "\n",
              "[33231 rows x 10 columns]"
            ]
          },
          "metadata": {},
          "execution_count": 438
        },
        {
          "output_type": "execute_result",
          "data": {
            "text/plain": [
              "140475   265000.0000\n",
              "26762    239000.0000\n",
              "113145   185000.0000\n",
              "122895   130000.0000\n",
              "52280    138000.0000\n",
              "             ...    \n",
              "94777    170000.0000\n",
              "146068   280000.0000\n",
              "138540   155000.0000\n",
              "955      220000.0000\n",
              "19428     95000.0000\n",
              "Name: precio, Length: 77538, dtype: float64"
            ]
          },
          "metadata": {},
          "execution_count": 438
        },
        {
          "output_type": "execute_result",
          "data": {
            "text/plain": [
              "140424   343300.0000\n",
              "137404   206000.0000\n",
              "110126    95000.0000\n",
              "86048     50000.0000\n",
              "136316   109000.0000\n",
              "             ...    \n",
              "9940     180000.0000\n",
              "37197    133000.0000\n",
              "24066    190000.0000\n",
              "37270     89000.0000\n",
              "3501     125000.0000\n",
              "Name: precio, Length: 33231, dtype: float64"
            ]
          },
          "metadata": {},
          "execution_count": 438
        }
      ],
      "source": [
        "# Seguimos con los mismos X e y para realizar los modelos.\n",
        "X_train\n",
        "X_test\n",
        "y_train\n",
        "y_test"
      ],
      "id": "wanted-photograph"
    },
    {
      "cell_type": "markdown",
      "metadata": {
        "id": "ZLL5bISDG0Ym"
      },
      "source": [
        "#### Modelos"
      ],
      "id": "ZLL5bISDG0Ym"
    },
    {
      "cell_type": "markdown",
      "metadata": {
        "id": "a517f0ea"
      },
      "source": [
        "##### REGRESION LINEAL AVANZADA - CON REGULARIZACION RIDGE Y CROSS VALIDATE"
      ],
      "id": "a517f0ea"
    },
    {
      "cell_type": "code",
      "execution_count": null,
      "metadata": {
        "id": "073a3192"
      },
      "outputs": [],
      "source": [
        "from sklearn.preprocessing import PolynomialFeatures\n",
        "from sklearn.linear_model import Ridge\n",
        "from sklearn.model_selection import cross_validate"
      ],
      "id": "073a3192"
    },
    {
      "cell_type": "code",
      "execution_count": null,
      "metadata": {
        "id": "481d71aa",
        "scrolled": false,
        "colab": {
          "base_uri": "https://localhost:8080/"
        },
        "outputId": "1d8521e4-f91b-4952-d11c-277a9b66d571"
      },
      "outputs": [
        {
          "output_type": "execute_result",
          "data": {
            "text/plain": [
              "Ridge()"
            ]
          },
          "metadata": {},
          "execution_count": 440
        },
        {
          "output_type": "stream",
          "name": "stdout",
          "text": [
            "Grado:  1\n",
            "Score para train:  0.66 +/- 0.00196\n",
            "Score para test:  0.66 +/- 0.0079\n",
            "RMSE de train es:  69373.0\n",
            "RMSE de test es:  70369.0\n",
            "R2 score de train es:  0.66\n",
            "R2 score de test es:  0.66 \n",
            "\n"
          ]
        },
        {
          "output_type": "execute_result",
          "data": {
            "text/plain": [
              "Ridge()"
            ]
          },
          "metadata": {},
          "execution_count": 440
        },
        {
          "output_type": "stream",
          "name": "stdout",
          "text": [
            "Grado:  2\n",
            "Score para train:  0.75 +/- 0.0014\n",
            "Score para test:  0.75 +/- 0.00567\n",
            "RMSE de train es:  59421.0\n",
            "RMSE de test es:  61164.0\n",
            "R2 score de train es:  0.75\n",
            "R2 score de test es:  0.74 \n",
            "\n"
          ]
        },
        {
          "output_type": "execute_result",
          "data": {
            "text/plain": [
              "Ridge()"
            ]
          },
          "metadata": {},
          "execution_count": 440
        },
        {
          "output_type": "stream",
          "name": "stdout",
          "text": [
            "Grado:  3\n",
            "Score para train:  0.78 +/- 0.00089\n",
            "Score para test:  0.78 +/- 0.00402\n",
            "RMSE de train es:  54891.0\n",
            "RMSE de test es:  56581.0\n",
            "R2 score de train es:  0.78\n",
            "R2 score de test es:  0.78 \n",
            "\n"
          ]
        }
      ],
      "source": [
        "degrees = [1,2,3]\n",
        "\n",
        "for degree in degrees:\n",
        "\n",
        "    poly = PolynomialFeatures(degree=degree, include_bias=False) \n",
        "    X_train_new = poly.fit_transform(X_train)\n",
        "    X_test_new = poly.transform(X_test)  \n",
        "    \n",
        "    reg_ridge = Ridge(alpha= 1.0)\n",
        "    \n",
        "    scores = cross_validate(reg_ridge, X_train_new, y_train, cv = 5, return_train_score=True)\n",
        "    \n",
        "    reg_ridge.fit(X_train_new, y_train)\n",
        "\n",
        "    y_train_pred = reg_ridge.predict(X_train_new)\n",
        "    y_test_pred = reg_ridge.predict(X_test_new)\n",
        "\n",
        "    RMSE_train = np.sqrt(mean_squared_error(y_train, y_train_pred)).round()\n",
        "    RMSE_test = np.sqrt(mean_squared_error(y_test, y_test_pred)).round()\n",
        "    R2_score_train = r2_score(y_train, y_train_pred).round(2)\n",
        "    R2_score_test = r2_score(y_test, y_test_pred).round(2)\n",
        "\n",
        "    print('Grado: ', degree)\n",
        "    print('Score para train: ', scores['train_score'].mean().round(2),'+/-', scores['train_score'].std().round(5))\n",
        "    print('Score para test: ', scores['test_score'].mean().round(2),'+/-', scores['test_score'].std().round(5))\n",
        "    print('RMSE de train es: ', RMSE_train)\n",
        "    print('RMSE de test es: ', RMSE_test)\n",
        "    print('R2 score de train es: ', R2_score_train)\n",
        "    print('R2 score de test es: ', R2_score_test, '\\n')"
      ],
      "id": "481d71aa"
    },
    {
      "cell_type": "markdown",
      "metadata": {
        "id": "2373355e"
      },
      "source": [
        "Se puede observar que a partir del grado 4 hay un notable overfitting, ademas el incremento del costo computacional es exponencial.\n",
        "\n",
        "Además el desempeño sigue siendo peor al arbol de decisión con 10 depth que vimos anteriormente. Continuaremos con los demás modelos y evaluaremos cuales son las dos mejores opciones a optimizar."
      ],
      "id": "2373355e"
    },
    {
      "cell_type": "markdown",
      "metadata": {
        "id": "973a4f23"
      },
      "source": [
        "##### RANDOM FOREST"
      ],
      "id": "973a4f23"
    },
    {
      "cell_type": "code",
      "execution_count": null,
      "metadata": {
        "id": "85042dab"
      },
      "outputs": [],
      "source": [
        "from sklearn.ensemble import RandomForestRegressor\n",
        "random_f = RandomForestRegressor(n_estimators=100)"
      ],
      "id": "85042dab"
    },
    {
      "cell_type": "code",
      "execution_count": null,
      "metadata": {
        "id": "499d18c1",
        "colab": {
          "base_uri": "https://localhost:8080/"
        },
        "outputId": "b8f4fd40-d0d3-48a2-a8f3-9e2d6a6e82f8"
      },
      "outputs": [
        {
          "output_type": "stream",
          "name": "stdout",
          "text": [
            "Score para train:  0.98 +/- 0.00012\n",
            "Score para test:  0.89 +/- 0.0036\n"
          ]
        }
      ],
      "source": [
        "scores = cross_validate(random_f, X_train, y_train, cv = 5, return_train_score=True)\n",
        "\n",
        "print('Score para train: ', scores['train_score'].mean().round(2),'+/-', scores['train_score'].std().round(5))\n",
        "print('Score para test: ', scores['test_score'].mean().round(2),'+/-', scores['test_score'].std().round(5))"
      ],
      "id": "499d18c1"
    },
    {
      "cell_type": "code",
      "execution_count": null,
      "metadata": {
        "id": "e10287b9",
        "colab": {
          "base_uri": "https://localhost:8080/"
        },
        "outputId": "08cbd1a4-317d-43ed-c3b3-4e39b4f6348c"
      },
      "outputs": [
        {
          "output_type": "execute_result",
          "data": {
            "text/plain": [
              "RandomForestRegressor()"
            ]
          },
          "metadata": {},
          "execution_count": 443
        }
      ],
      "source": [
        "random_f.fit(X_train,y_train)"
      ],
      "id": "e10287b9"
    },
    {
      "cell_type": "code",
      "execution_count": null,
      "metadata": {
        "id": "f08c7e8a",
        "colab": {
          "base_uri": "https://localhost:8080/"
        },
        "outputId": "58b8b5ab-f390-457e-b562-db79280257b0"
      },
      "outputs": [
        {
          "output_type": "stream",
          "name": "stdout",
          "text": [
            "RMSE de train es:  15284.0\n",
            "RMSE de test es:  38216.0\n",
            "R2 score de train es:  0.98\n",
            "R2 score de test es:  0.9\n"
          ]
        }
      ],
      "source": [
        "y_train_pred = random_f.predict(X_train)\n",
        "y_test_pred = random_f.predict(X_test)\n",
        "\n",
        "RMSE_train = np.sqrt(mean_squared_error(y_train, y_train_pred)).round()\n",
        "RMSE_test = np.sqrt(mean_squared_error(y_test, y_test_pred)).round()\n",
        "R2_score_train = r2_score(y_train, y_train_pred).round(2)\n",
        "R2_score_test = r2_score(y_test, y_test_pred).round(2)\n",
        "\n",
        "print('RMSE de train es: ', RMSE_train)\n",
        "print('RMSE de test es: ', RMSE_test)\n",
        "print('R2 score de train es: ', R2_score_train)\n",
        "print('R2 score de test es: ', R2_score_test)\n"
      ],
      "id": "f08c7e8a"
    },
    {
      "cell_type": "markdown",
      "metadata": {
        "id": "bf03da94"
      },
      "source": [
        "##### ADABOOST"
      ],
      "id": "bf03da94"
    },
    {
      "cell_type": "code",
      "execution_count": null,
      "metadata": {
        "id": "106a2a8e"
      },
      "outputs": [],
      "source": [
        "from sklearn.ensemble import AdaBoostRegressor\n",
        "adaboost = AdaBoostRegressor(DecisionTreeRegressor(max_depth=6),n_estimators=100)"
      ],
      "id": "106a2a8e"
    },
    {
      "cell_type": "code",
      "execution_count": null,
      "metadata": {
        "id": "abc20a8c",
        "colab": {
          "base_uri": "https://localhost:8080/"
        },
        "outputId": "e6640567-63d9-4398-a0fa-4f1e888dcc01"
      },
      "outputs": [
        {
          "output_type": "stream",
          "name": "stdout",
          "text": [
            "Score para train:  0.68 +/- 0.01507\n",
            "Score para test:  0.67 +/- 0.01157\n"
          ]
        }
      ],
      "source": [
        "scores = cross_validate(adaboost, X_train, y_train, cv = 5, return_train_score=True)\n",
        "\n",
        "print('Score para train: ', scores['train_score'].mean().round(2),'+/-', scores['train_score'].std().round(5))\n",
        "print('Score para test: ', scores['test_score'].mean().round(2),'+/-', scores['test_score'].std().round(5))"
      ],
      "id": "abc20a8c"
    },
    {
      "cell_type": "code",
      "execution_count": null,
      "metadata": {
        "id": "3e6bfe0e",
        "colab": {
          "base_uri": "https://localhost:8080/"
        },
        "outputId": "e63224ea-e448-439c-b25a-72bcc4b9f55c"
      },
      "outputs": [
        {
          "output_type": "execute_result",
          "data": {
            "text/plain": [
              "AdaBoostRegressor(base_estimator=DecisionTreeRegressor(max_depth=6),\n",
              "                  n_estimators=100)"
            ]
          },
          "metadata": {},
          "execution_count": 447
        }
      ],
      "source": [
        "adaboost.fit(X_train,y_train)"
      ],
      "id": "3e6bfe0e"
    },
    {
      "cell_type": "code",
      "execution_count": null,
      "metadata": {
        "id": "d92ea9f3",
        "colab": {
          "base_uri": "https://localhost:8080/"
        },
        "outputId": "210b92a1-97c8-4867-9bcd-943d74611a42"
      },
      "outputs": [
        {
          "output_type": "stream",
          "name": "stdout",
          "text": [
            "RMSE de train es:  68671.0\n",
            "RMSE de test es:  70276.0\n",
            "R2 score de train es:  0.66\n",
            "R2 score de test es:  0.66\n"
          ]
        }
      ],
      "source": [
        "y_train_pred = adaboost.predict(X_train)\n",
        "y_test_pred = adaboost.predict(X_test)\n",
        "\n",
        "RMSE_train = np.sqrt(mean_squared_error(y_train, y_train_pred)).round()\n",
        "RMSE_test = np.sqrt(mean_squared_error(y_test, y_test_pred)).round()\n",
        "R2_score_train = r2_score(y_train, y_train_pred).round(2)\n",
        "R2_score_test = r2_score(y_test, y_test_pred).round(2)\n",
        "\n",
        "print('RMSE de train es: ', RMSE_train)\n",
        "print('RMSE de test es: ', RMSE_test)\n",
        "print('R2 score de train es: ', R2_score_train)\n",
        "print('R2 score de test es: ', R2_score_test)"
      ],
      "id": "d92ea9f3"
    },
    {
      "cell_type": "markdown",
      "metadata": {
        "id": "65532929"
      },
      "source": [
        "##### XGBOOST"
      ],
      "id": "65532929"
    },
    {
      "cell_type": "code",
      "execution_count": null,
      "metadata": {
        "id": "f9270189"
      },
      "outputs": [],
      "source": [
        "import xgboost as xgb\n",
        "xgboost = xgb.XGBRegressor(n_estimators = 100)"
      ],
      "id": "f9270189"
    },
    {
      "cell_type": "code",
      "execution_count": null,
      "metadata": {
        "id": "d78849b4",
        "colab": {
          "base_uri": "https://localhost:8080/"
        },
        "outputId": "63d1f6c6-d7aa-491c-b06d-4d9e12658dec"
      },
      "outputs": [
        {
          "output_type": "stream",
          "name": "stdout",
          "text": [
            "[00:02:05] WARNING: /workspace/src/objective/regression_obj.cu:152: reg:linear is now deprecated in favor of reg:squarederror.\n",
            "[00:02:09] WARNING: /workspace/src/objective/regression_obj.cu:152: reg:linear is now deprecated in favor of reg:squarederror.\n",
            "[00:02:13] WARNING: /workspace/src/objective/regression_obj.cu:152: reg:linear is now deprecated in favor of reg:squarederror.\n",
            "[00:02:16] WARNING: /workspace/src/objective/regression_obj.cu:152: reg:linear is now deprecated in favor of reg:squarederror.\n",
            "[00:02:20] WARNING: /workspace/src/objective/regression_obj.cu:152: reg:linear is now deprecated in favor of reg:squarederror.\n",
            "Score para train:  0.79 +/- 0.00074\n",
            "Score para test:  0.79 +/- 0.0029\n"
          ]
        }
      ],
      "source": [
        "scores = cross_validate(xgboost, X_train, y_train, cv = 5, return_train_score=True)\n",
        "\n",
        "print('Score para train: ', scores['train_score'].mean().round(2),'+/-', scores['train_score'].std().round(5))\n",
        "print('Score para test: ', scores['test_score'].mean().round(2),'+/-', scores['test_score'].std().round(5))"
      ],
      "id": "d78849b4"
    },
    {
      "cell_type": "code",
      "execution_count": null,
      "metadata": {
        "id": "ec49124c",
        "colab": {
          "base_uri": "https://localhost:8080/"
        },
        "outputId": "9ffca4a7-c32b-45a5-bb3d-26eecab96bd1"
      },
      "outputs": [
        {
          "output_type": "stream",
          "name": "stdout",
          "text": [
            "[00:02:24] WARNING: /workspace/src/objective/regression_obj.cu:152: reg:linear is now deprecated in favor of reg:squarederror.\n"
          ]
        },
        {
          "output_type": "execute_result",
          "data": {
            "text/plain": [
              "XGBRegressor()"
            ]
          },
          "metadata": {},
          "execution_count": 451
        }
      ],
      "source": [
        "xgboost.fit(X_train, y_train)"
      ],
      "id": "ec49124c"
    },
    {
      "cell_type": "code",
      "execution_count": null,
      "metadata": {
        "id": "e72882f6",
        "colab": {
          "base_uri": "https://localhost:8080/"
        },
        "outputId": "ad01c3a1-1857-4928-ca40-6e6f77461772"
      },
      "outputs": [
        {
          "output_type": "stream",
          "name": "stdout",
          "text": [
            "RMSE de train es:  54197.0\n",
            "RMSE de test es:  55715.0\n",
            "R2 score de train es:  0.79\n",
            "R2 score de test es:  0.78\n"
          ]
        }
      ],
      "source": [
        "y_train_pred = xgboost.predict(X_train)\n",
        "y_test_pred = xgboost.predict(X_test)\n",
        "\n",
        "RMSE_train = np.sqrt(mean_squared_error(y_train, y_train_pred)).round()\n",
        "RMSE_test = np.sqrt(mean_squared_error(y_test, y_test_pred)).round()\n",
        "R2_score_train = r2_score(y_train, y_train_pred).round(2)\n",
        "R2_score_test = r2_score(y_test, y_test_pred).round(2)\n",
        "\n",
        "print('RMSE de train es: ', RMSE_train)\n",
        "print('RMSE de test es: ', RMSE_test)\n",
        "print('R2 score de train es: ', R2_score_train)\n",
        "print('R2 score de test es: ', R2_score_test)"
      ],
      "id": "e72882f6"
    },
    {
      "cell_type": "markdown",
      "metadata": {
        "id": "a11c037a"
      },
      "source": [
        "Se observa que el Random Forest, si bien overfiteando, hace un excelente trabajo en la predicción, superando a todos los otros modelos predictivos.\n",
        "Se tomará dicho modelo y el XGboost por ser el siguiente mejor para realizar la optimización de hiperparámetros."
      ],
      "id": "a11c037a"
    },
    {
      "cell_type": "markdown",
      "metadata": {
        "id": "ff02d1ea"
      },
      "source": [
        "#### OPTIMIZACION DE HIPERPARAMETROS"
      ],
      "id": "ff02d1ea"
    },
    {
      "cell_type": "markdown",
      "metadata": {
        "id": "b8806dd1"
      },
      "source": [
        "###### RANDOM SERCH"
      ],
      "id": "b8806dd1"
    },
    {
      "cell_type": "markdown",
      "metadata": {
        "id": "6ab09590"
      },
      "source": [
        "Utilizaremos Random serch para buscar los mejores parámetros posibles a utilizar por los modelos seleccionados."
      ],
      "id": "6ab09590"
    },
    {
      "cell_type": "code",
      "execution_count": null,
      "metadata": {
        "id": "caecf28d"
      },
      "outputs": [],
      "source": [
        "from sklearn.model_selection import RandomizedSearchCV"
      ],
      "id": "caecf28d"
    },
    {
      "cell_type": "markdown",
      "metadata": {
        "id": "f74d53f5"
      },
      "source": [
        "###### Random forest"
      ],
      "id": "f74d53f5"
    },
    {
      "cell_type": "code",
      "execution_count": null,
      "metadata": {
        "id": "3ce7c598",
        "colab": {
          "base_uri": "https://localhost:8080/"
        },
        "outputId": "c45b331c-ca9b-4889-b530-560f63e6de37"
      },
      "outputs": [
        {
          "output_type": "execute_result",
          "data": {
            "text/plain": [
              "RandomizedSearchCV(cv=5, estimator=RandomForestRegressor(),\n",
              "                   param_distributions={'max_features': array([2, 3, 4]),\n",
              "                                        'n_estimators': [100, 200]},\n",
              "                   random_state=42)"
            ]
          },
          "metadata": {},
          "execution_count": 454
        }
      ],
      "source": [
        "random_f = RandomForestRegressor()\n",
        "\n",
        "param_dist = {'n_estimators': [100, 200],\n",
        "             'max_features': np.arange(2,5)}\n",
        "\n",
        "model_random = RandomizedSearchCV(random_f, param_distributions=param_dist,\n",
        "                                  n_iter = 10, random_state = 42, cv=5)\n",
        "\n",
        "model_random.fit(X_train, y_train)"
      ],
      "id": "3ce7c598"
    },
    {
      "cell_type": "code",
      "execution_count": null,
      "metadata": {
        "id": "78928612",
        "colab": {
          "base_uri": "https://localhost:8080/"
        },
        "outputId": "3452d42e-f015-4da8-f949-bd37d4299769"
      },
      "outputs": [
        {
          "output_type": "stream",
          "name": "stdout",
          "text": [
            "Mejores parametros: {'n_estimators': 200, 'max_features': 3}\n"
          ]
        }
      ],
      "source": [
        "print(\"Mejores parametros: \"+str(model_random.best_params_))"
      ],
      "id": "78928612"
    },
    {
      "cell_type": "markdown",
      "metadata": {
        "id": "3f19a1c8"
      },
      "source": [
        "###### XGBoost"
      ],
      "id": "3f19a1c8"
    },
    {
      "cell_type": "code",
      "execution_count": null,
      "metadata": {
        "id": "838fb750",
        "colab": {
          "base_uri": "https://localhost:8080/"
        },
        "outputId": "93768d8e-c8fe-43c8-b899-ce569dc65500"
      },
      "outputs": [
        {
          "output_type": "execute_result",
          "data": {
            "text/plain": [
              "RandomizedSearchCV(cv=5, estimator=XGBRegressor(objective='reg:squarederror'),\n",
              "                   n_iter=20,\n",
              "                   param_distributions={'learning_rate': [0.1, 0.2, 0.4],\n",
              "                                        'max_depth': array([ 7,  8,  9, 10, 11, 12]),\n",
              "                                        'n_estimators': [100, 200, 400]},\n",
              "                   random_state=42)"
            ]
          },
          "metadata": {},
          "execution_count": 456
        }
      ],
      "source": [
        "xgboost = xgb.XGBRegressor(objective = \"reg:squarederror\")\n",
        "\n",
        "param_dist = {'n_estimators': [100, 200, 400],\n",
        "             'max_depth': np.arange(7,13),\n",
        "             'learning_rate': [0.1, 0.2, 0.4]}\n",
        "\n",
        "model_xg = RandomizedSearchCV(xgboost, param_distributions=param_dist,\n",
        "                              n_iter = 20, random_state = 42, cv=5)\n",
        "\n",
        "model_xg.fit(X_train, y_train)"
      ],
      "id": "838fb750"
    },
    {
      "cell_type": "code",
      "execution_count": null,
      "metadata": {
        "id": "76507d59",
        "colab": {
          "base_uri": "https://localhost:8080/"
        },
        "outputId": "f7b8b19b-6837-4e6e-ff1c-cc24c6fad405"
      },
      "outputs": [
        {
          "output_type": "stream",
          "name": "stdout",
          "text": [
            "Mejores parametros: {'n_estimators': 400, 'max_depth': 12, 'learning_rate': 0.1}\n"
          ]
        }
      ],
      "source": [
        "print(\"Mejores parametros: \"+str(model_xg.best_params_))"
      ],
      "id": "76507d59"
    },
    {
      "cell_type": "markdown",
      "metadata": {
        "id": "64ccc0dd"
      },
      "source": [
        "### Creamos el modelo de Random Forest con los mejores parametros que arrojo el modelo de RandomSearch"
      ],
      "id": "64ccc0dd"
    },
    {
      "cell_type": "code",
      "execution_count": null,
      "metadata": {
        "id": "1af7edcd",
        "colab": {
          "base_uri": "https://localhost:8080/"
        },
        "outputId": "58d9ae7e-678d-4528-af46-d834e7170ca2"
      },
      "outputs": [
        {
          "output_type": "execute_result",
          "data": {
            "text/plain": [
              "RandomForestRegressor(max_features=3, n_estimators=200)"
            ]
          },
          "metadata": {},
          "execution_count": 458
        }
      ],
      "source": [
        "random_f = RandomForestRegressor(n_estimators=200, max_features=3)\n",
        "\n",
        "random_f.fit(X_train, y_train)"
      ],
      "id": "1af7edcd"
    },
    {
      "cell_type": "code",
      "execution_count": null,
      "metadata": {
        "id": "2d47b891",
        "colab": {
          "base_uri": "https://localhost:8080/"
        },
        "outputId": "790d33a2-5b95-4516-be91-27f28466c46e"
      },
      "outputs": [
        {
          "output_type": "stream",
          "name": "stdout",
          "text": [
            "RMSE de train es:  14759.0\n",
            "RMSE de test es:  37075.0\n",
            "R2 score de train es:  0.98\n",
            "R2 score de test es:  0.9\n"
          ]
        }
      ],
      "source": [
        "y_train_pred = random_f.predict(X_train)\n",
        "y_test_pred = random_f.predict(X_test)\n",
        "\n",
        "RMSE_train = np.sqrt(mean_squared_error(y_train, y_train_pred)).round()\n",
        "RMSE_test = np.sqrt(mean_squared_error(y_test, y_test_pred)).round()\n",
        "R2_score_train = r2_score(y_train, y_train_pred).round(2)\n",
        "R2_score_test = r2_score(y_test, y_test_pred).round(2)\n",
        "\n",
        "print('RMSE de train es: ', RMSE_train)\n",
        "print('RMSE de test es: ', RMSE_test)\n",
        "print('R2 score de train es: ', R2_score_train)\n",
        "print('R2 score de test es: ', R2_score_test)"
      ],
      "id": "2d47b891"
    },
    {
      "cell_type": "markdown",
      "metadata": {
        "id": "5645129e"
      },
      "source": [
        "#### IMPORTANCIA DE LOS ATRIBUTOS: EN EL MODELO RANDOM FOREST"
      ],
      "id": "5645129e"
    },
    {
      "cell_type": "code",
      "execution_count": null,
      "metadata": {
        "id": "3a979ba8",
        "colab": {
          "base_uri": "https://localhost:8080/",
          "height": 363
        },
        "outputId": "7bfce141-247e-4d5a-9033-319b97800a72"
      },
      "outputs": [
        {
          "output_type": "execute_result",
          "data": {
            "text/html": [
              "\n",
              "  <div id=\"df-b3674e53-4ad2-409f-8678-27d82cca809b\">\n",
              "    <div class=\"colab-df-container\">\n",
              "      <div>\n",
              "<style scoped>\n",
              "    .dataframe tbody tr th:only-of-type {\n",
              "        vertical-align: middle;\n",
              "    }\n",
              "\n",
              "    .dataframe tbody tr th {\n",
              "        vertical-align: top;\n",
              "    }\n",
              "\n",
              "    .dataframe thead th {\n",
              "        text-align: right;\n",
              "    }\n",
              "</style>\n",
              "<table border=\"1\" class=\"dataframe\">\n",
              "  <thead>\n",
              "    <tr style=\"text-align: right;\">\n",
              "      <th></th>\n",
              "      <th>importance</th>\n",
              "    </tr>\n",
              "  </thead>\n",
              "  <tbody>\n",
              "    <tr>\n",
              "      <th>superficie_cubierta</th>\n",
              "      <td>0.2155</td>\n",
              "    </tr>\n",
              "    <tr>\n",
              "      <th>baños</th>\n",
              "      <td>0.1641</td>\n",
              "    </tr>\n",
              "    <tr>\n",
              "      <th>localidad</th>\n",
              "      <td>0.1593</td>\n",
              "    </tr>\n",
              "    <tr>\n",
              "      <th>superficie</th>\n",
              "      <td>0.1529</td>\n",
              "    </tr>\n",
              "    <tr>\n",
              "      <th>latitud</th>\n",
              "      <td>0.0930</td>\n",
              "    </tr>\n",
              "    <tr>\n",
              "      <th>longitud</th>\n",
              "      <td>0.0842</td>\n",
              "    </tr>\n",
              "    <tr>\n",
              "      <th>ambientes</th>\n",
              "      <td>0.0434</td>\n",
              "    </tr>\n",
              "    <tr>\n",
              "      <th>dormitorios</th>\n",
              "      <td>0.0415</td>\n",
              "    </tr>\n",
              "    <tr>\n",
              "      <th>region</th>\n",
              "      <td>0.0281</td>\n",
              "    </tr>\n",
              "    <tr>\n",
              "      <th>tipo</th>\n",
              "      <td>0.0180</td>\n",
              "    </tr>\n",
              "  </tbody>\n",
              "</table>\n",
              "</div>\n",
              "      <button class=\"colab-df-convert\" onclick=\"convertToInteractive('df-b3674e53-4ad2-409f-8678-27d82cca809b')\"\n",
              "              title=\"Convert this dataframe to an interactive table.\"\n",
              "              style=\"display:none;\">\n",
              "        \n",
              "  <svg xmlns=\"http://www.w3.org/2000/svg\" height=\"24px\"viewBox=\"0 0 24 24\"\n",
              "       width=\"24px\">\n",
              "    <path d=\"M0 0h24v24H0V0z\" fill=\"none\"/>\n",
              "    <path d=\"M18.56 5.44l.94 2.06.94-2.06 2.06-.94-2.06-.94-.94-2.06-.94 2.06-2.06.94zm-11 1L8.5 8.5l.94-2.06 2.06-.94-2.06-.94L8.5 2.5l-.94 2.06-2.06.94zm10 10l.94 2.06.94-2.06 2.06-.94-2.06-.94-.94-2.06-.94 2.06-2.06.94z\"/><path d=\"M17.41 7.96l-1.37-1.37c-.4-.4-.92-.59-1.43-.59-.52 0-1.04.2-1.43.59L10.3 9.45l-7.72 7.72c-.78.78-.78 2.05 0 2.83L4 21.41c.39.39.9.59 1.41.59.51 0 1.02-.2 1.41-.59l7.78-7.78 2.81-2.81c.8-.78.8-2.07 0-2.86zM5.41 20L4 18.59l7.72-7.72 1.47 1.35L5.41 20z\"/>\n",
              "  </svg>\n",
              "      </button>\n",
              "      \n",
              "  <style>\n",
              "    .colab-df-container {\n",
              "      display:flex;\n",
              "      flex-wrap:wrap;\n",
              "      gap: 12px;\n",
              "    }\n",
              "\n",
              "    .colab-df-convert {\n",
              "      background-color: #E8F0FE;\n",
              "      border: none;\n",
              "      border-radius: 50%;\n",
              "      cursor: pointer;\n",
              "      display: none;\n",
              "      fill: #1967D2;\n",
              "      height: 32px;\n",
              "      padding: 0 0 0 0;\n",
              "      width: 32px;\n",
              "    }\n",
              "\n",
              "    .colab-df-convert:hover {\n",
              "      background-color: #E2EBFA;\n",
              "      box-shadow: 0px 1px 2px rgba(60, 64, 67, 0.3), 0px 1px 3px 1px rgba(60, 64, 67, 0.15);\n",
              "      fill: #174EA6;\n",
              "    }\n",
              "\n",
              "    [theme=dark] .colab-df-convert {\n",
              "      background-color: #3B4455;\n",
              "      fill: #D2E3FC;\n",
              "    }\n",
              "\n",
              "    [theme=dark] .colab-df-convert:hover {\n",
              "      background-color: #434B5C;\n",
              "      box-shadow: 0px 1px 3px 1px rgba(0, 0, 0, 0.15);\n",
              "      filter: drop-shadow(0px 1px 2px rgba(0, 0, 0, 0.3));\n",
              "      fill: #FFFFFF;\n",
              "    }\n",
              "  </style>\n",
              "\n",
              "      <script>\n",
              "        const buttonEl =\n",
              "          document.querySelector('#df-b3674e53-4ad2-409f-8678-27d82cca809b button.colab-df-convert');\n",
              "        buttonEl.style.display =\n",
              "          google.colab.kernel.accessAllowed ? 'block' : 'none';\n",
              "\n",
              "        async function convertToInteractive(key) {\n",
              "          const element = document.querySelector('#df-b3674e53-4ad2-409f-8678-27d82cca809b');\n",
              "          const dataTable =\n",
              "            await google.colab.kernel.invokeFunction('convertToInteractive',\n",
              "                                                     [key], {});\n",
              "          if (!dataTable) return;\n",
              "\n",
              "          const docLinkHtml = 'Like what you see? Visit the ' +\n",
              "            '<a target=\"_blank\" href=https://colab.research.google.com/notebooks/data_table.ipynb>data table notebook</a>'\n",
              "            + ' to learn more about interactive tables.';\n",
              "          element.innerHTML = '';\n",
              "          dataTable['output_type'] = 'display_data';\n",
              "          await google.colab.output.renderOutput(dataTable, element);\n",
              "          const docLink = document.createElement('div');\n",
              "          docLink.innerHTML = docLinkHtml;\n",
              "          element.appendChild(docLink);\n",
              "        }\n",
              "      </script>\n",
              "    </div>\n",
              "  </div>\n",
              "  "
            ],
            "text/plain": [
              "                     importance\n",
              "superficie_cubierta      0.2155\n",
              "baños                    0.1641\n",
              "localidad                0.1593\n",
              "superficie               0.1529\n",
              "latitud                  0.0930\n",
              "longitud                 0.0842\n",
              "ambientes                0.0434\n",
              "dormitorios              0.0415\n",
              "region                   0.0281\n",
              "tipo                     0.0180"
            ]
          },
          "metadata": {},
          "execution_count": 460
        }
      ],
      "source": [
        "feature_random = pd.DataFrame(data = random_f.feature_importances_,\n",
        "                              index= [\"latitud\", \"longitud\", \"region\",\t\"localidad\",\n",
        "                                      \"ambientes\",\t\"dormitorios\",\t\"baños\",\t\"superficie\",\n",
        "                                      \"superficie_cubierta\",\t\"tipo\"],\n",
        "                                 columns = ['importance'])\n",
        " \n",
        "feature_random.sort_values(by=['importance'], ascending = False)"
      ],
      "id": "3a979ba8"
    },
    {
      "cell_type": "markdown",
      "source": [
        "Con respecto a la importancia de los atributos del modelo de Random Forest, nos encontramos con que las variables que explican la superficie son las que mayor participacion tienen."
      ],
      "metadata": {
        "id": "BavdYD70MRqM"
      },
      "id": "BavdYD70MRqM"
    },
    {
      "cell_type": "markdown",
      "metadata": {
        "id": "a8936d49"
      },
      "source": [
        "##### Distribución de errores"
      ],
      "id": "a8936d49"
    },
    {
      "cell_type": "code",
      "execution_count": null,
      "metadata": {
        "id": "4af0e888",
        "colab": {
          "base_uri": "https://localhost:8080/",
          "height": 554
        },
        "outputId": "0861af10-b07b-4702-fb9f-87c5e92a14f6"
      },
      "outputs": [
        {
          "output_type": "execute_result",
          "data": {
            "text/plain": [
              "<Figure size 1152x576 with 0 Axes>"
            ]
          },
          "metadata": {},
          "execution_count": 461
        },
        {
          "output_type": "execute_result",
          "data": {
            "text/plain": [
              "<matplotlib.axes._subplots.AxesSubplot at 0x7f43cd485e10>"
            ]
          },
          "metadata": {},
          "execution_count": 461
        },
        {
          "output_type": "execute_result",
          "data": {
            "text/plain": [
              "<matplotlib.axes._subplots.AxesSubplot at 0x7f43cd485e10>"
            ]
          },
          "metadata": {},
          "execution_count": 461
        },
        {
          "output_type": "execute_result",
          "data": {
            "text/plain": [
              "(-100000.0, 100000.0)"
            ]
          },
          "metadata": {},
          "execution_count": 461
        },
        {
          "output_type": "execute_result",
          "data": {
            "text/plain": [
              "Text(0.5, 1.0, 'Distribucion de los errores')"
            ]
          },
          "metadata": {},
          "execution_count": 461
        },
        {
          "output_type": "execute_result",
          "data": {
            "text/plain": [
              "<matplotlib.legend.Legend at 0x7f43e3b23e10>"
            ]
          },
          "metadata": {},
          "execution_count": 461
        },
        {
          "output_type": "display_data",
          "data": {
            "image/png": "[encoded data removed]",
            "text/plain": [
              "<Figure size 1152x576 with 1 Axes>"
            ]
          },
          "metadata": {}
        }
      ],
      "source": [
        "errores_train = y_train - y_train_pred\n",
        "errores_test = y_test - y_test_pred\n",
        "\n",
        "plt.figure(figsize = (16,8))\n",
        "sns.distplot(errores_train, bins = 50, label = 'Train')\n",
        "sns.distplot(errores_test, bins = 50, label = 'Test')\n",
        "\n",
        "plt.xlim(-100000, 100000)\n",
        "\n",
        "plt.title('Distribucion de los errores')\n",
        "plt.legend()\n",
        "plt.show()"
      ],
      "id": "4af0e888"
    },
    {
      "cell_type": "markdown",
      "metadata": {
        "id": "0115f19d"
      },
      "source": [
        "Al comparar las curvas superpuestas de train y test, se puede notar el sobreajuste aunque no tan pronunciado.\n",
        "\n",
        "Por otro lado, se nota un sesgo que indica que generalmente el modelo predice un precio mayor en las propiedades, lo que genera que haya mas errores con signo negativo."
      ],
      "id": "0115f19d"
    },
    {
      "cell_type": "markdown",
      "metadata": {
        "id": "401b88cd"
      },
      "source": [
        "### Creamos el modelo de XGBoost con los mejores parametros que arrojo el modelo de RandomSearch"
      ],
      "id": "401b88cd"
    },
    {
      "cell_type": "code",
      "execution_count": null,
      "metadata": {
        "id": "cd9f4eb7",
        "colab": {
          "base_uri": "https://localhost:8080/"
        },
        "outputId": "4b67c20e-cea9-46dd-8640-aa23db0086bd"
      },
      "outputs": [
        {
          "output_type": "stream",
          "name": "stdout",
          "text": [
            "[00:55:19] WARNING: /workspace/src/objective/regression_obj.cu:152: reg:linear is now deprecated in favor of reg:squarederror.\n"
          ]
        },
        {
          "output_type": "execute_result",
          "data": {
            "text/plain": [
              "XGBRegressor(learning_rate=0.2, max_depth=12, n_estimators=400)"
            ]
          },
          "metadata": {},
          "execution_count": 462
        }
      ],
      "source": [
        "xgboost = xgb.XGBRegressor(n_estimators= 400, max_depth= 12, learning_rate= 0.2)\n",
        "\n",
        "xgboost.fit(X_train, y_train)"
      ],
      "id": "cd9f4eb7"
    },
    {
      "cell_type": "code",
      "execution_count": null,
      "metadata": {
        "id": "45d81d43",
        "colab": {
          "base_uri": "https://localhost:8080/"
        },
        "outputId": "c9c9737b-b204-4ad8-83b2-b99991a847b4"
      },
      "outputs": [
        {
          "output_type": "stream",
          "name": "stdout",
          "text": [
            "RMSE de train es:  9361.0\n",
            "RMSE de test es:  36813.0\n",
            "R2 score de train es:  0.99\n",
            "R2 score de test es:  0.91\n"
          ]
        }
      ],
      "source": [
        "y_train_pred = xgboost.predict(X_train)\n",
        "y_test_pred = xgboost.predict(X_test)\n",
        "\n",
        "RMSE_train = np.sqrt(mean_squared_error(y_train, y_train_pred)).round()\n",
        "RMSE_test = np.sqrt(mean_squared_error(y_test, y_test_pred)).round()\n",
        "R2_score_train = r2_score(y_train, y_train_pred).round(2)\n",
        "R2_score_test = r2_score(y_test, y_test_pred).round(2)\n",
        "\n",
        "print('RMSE de train es: ', RMSE_train)\n",
        "print('RMSE de test es: ', RMSE_test)\n",
        "print('R2 score de train es: ', R2_score_train)\n",
        "print('R2 score de test es: ', R2_score_test)"
      ],
      "id": "45d81d43"
    },
    {
      "cell_type": "markdown",
      "metadata": {
        "id": "89399ab7"
      },
      "source": [
        "#### IMPORTANCIA DE LOS ATRIBUTOS"
      ],
      "id": "89399ab7"
    },
    {
      "cell_type": "code",
      "execution_count": null,
      "metadata": {
        "id": "7729ddf1",
        "colab": {
          "base_uri": "https://localhost:8080/",
          "height": 363
        },
        "outputId": "7bd40e83-af6f-48e8-eb67-cfa34db094dc"
      },
      "outputs": [
        {
          "output_type": "execute_result",
          "data": {
            "text/html": [
              "\n",
              "  <div id=\"df-74fb4523-f4cf-46d8-a0ce-286e57441ac2\">\n",
              "    <div class=\"colab-df-container\">\n",
              "      <div>\n",
              "<style scoped>\n",
              "    .dataframe tbody tr th:only-of-type {\n",
              "        vertical-align: middle;\n",
              "    }\n",
              "\n",
              "    .dataframe tbody tr th {\n",
              "        vertical-align: top;\n",
              "    }\n",
              "\n",
              "    .dataframe thead th {\n",
              "        text-align: right;\n",
              "    }\n",
              "</style>\n",
              "<table border=\"1\" class=\"dataframe\">\n",
              "  <thead>\n",
              "    <tr style=\"text-align: right;\">\n",
              "      <th></th>\n",
              "      <th>importance</th>\n",
              "    </tr>\n",
              "  </thead>\n",
              "  <tbody>\n",
              "    <tr>\n",
              "      <th>baños</th>\n",
              "      <td>0.5677</td>\n",
              "    </tr>\n",
              "    <tr>\n",
              "      <th>localidad</th>\n",
              "      <td>0.1737</td>\n",
              "    </tr>\n",
              "    <tr>\n",
              "      <th>region</th>\n",
              "      <td>0.0969</td>\n",
              "    </tr>\n",
              "    <tr>\n",
              "      <th>superficie_cubierta</th>\n",
              "      <td>0.0660</td>\n",
              "    </tr>\n",
              "    <tr>\n",
              "      <th>tipo</th>\n",
              "      <td>0.0352</td>\n",
              "    </tr>\n",
              "    <tr>\n",
              "      <th>superficie</th>\n",
              "      <td>0.0207</td>\n",
              "    </tr>\n",
              "    <tr>\n",
              "      <th>longitud</th>\n",
              "      <td>0.0131</td>\n",
              "    </tr>\n",
              "    <tr>\n",
              "      <th>dormitorios</th>\n",
              "      <td>0.0130</td>\n",
              "    </tr>\n",
              "    <tr>\n",
              "      <th>latitud</th>\n",
              "      <td>0.0073</td>\n",
              "    </tr>\n",
              "    <tr>\n",
              "      <th>ambientes</th>\n",
              "      <td>0.0065</td>\n",
              "    </tr>\n",
              "  </tbody>\n",
              "</table>\n",
              "</div>\n",
              "      <button class=\"colab-df-convert\" onclick=\"convertToInteractive('df-74fb4523-f4cf-46d8-a0ce-286e57441ac2')\"\n",
              "              title=\"Convert this dataframe to an interactive table.\"\n",
              "              style=\"display:none;\">\n",
              "        \n",
              "  <svg xmlns=\"http://www.w3.org/2000/svg\" height=\"24px\"viewBox=\"0 0 24 24\"\n",
              "       width=\"24px\">\n",
              "    <path d=\"M0 0h24v24H0V0z\" fill=\"none\"/>\n",
              "    <path d=\"M18.56 5.44l.94 2.06.94-2.06 2.06-.94-2.06-.94-.94-2.06-.94 2.06-2.06.94zm-11 1L8.5 8.5l.94-2.06 2.06-.94-2.06-.94L8.5 2.5l-.94 2.06-2.06.94zm10 10l.94 2.06.94-2.06 2.06-.94-2.06-.94-.94-2.06-.94 2.06-2.06.94z\"/><path d=\"M17.41 7.96l-1.37-1.37c-.4-.4-.92-.59-1.43-.59-.52 0-1.04.2-1.43.59L10.3 9.45l-7.72 7.72c-.78.78-.78 2.05 0 2.83L4 21.41c.39.39.9.59 1.41.59.51 0 1.02-.2 1.41-.59l7.78-7.78 2.81-2.81c.8-.78.8-2.07 0-2.86zM5.41 20L4 18.59l7.72-7.72 1.47 1.35L5.41 20z\"/>\n",
              "  </svg>\n",
              "      </button>\n",
              "      \n",
              "  <style>\n",
              "    .colab-df-container {\n",
              "      display:flex;\n",
              "      flex-wrap:wrap;\n",
              "      gap: 12px;\n",
              "    }\n",
              "\n",
              "    .colab-df-convert {\n",
              "      background-color: #E8F0FE;\n",
              "      border: none;\n",
              "      border-radius: 50%;\n",
              "      cursor: pointer;\n",
              "      display: none;\n",
              "      fill: #1967D2;\n",
              "      height: 32px;\n",
              "      padding: 0 0 0 0;\n",
              "      width: 32px;\n",
              "    }\n",
              "\n",
              "    .colab-df-convert:hover {\n",
              "      background-color: #E2EBFA;\n",
              "      box-shadow: 0px 1px 2px rgba(60, 64, 67, 0.3), 0px 1px 3px 1px rgba(60, 64, 67, 0.15);\n",
              "      fill: #174EA6;\n",
              "    }\n",
              "\n",
              "    [theme=dark] .colab-df-convert {\n",
              "      background-color: #3B4455;\n",
              "      fill: #D2E3FC;\n",
              "    }\n",
              "\n",
              "    [theme=dark] .colab-df-convert:hover {\n",
              "      background-color: #434B5C;\n",
              "      box-shadow: 0px 1px 3px 1px rgba(0, 0, 0, 0.15);\n",
              "      filter: drop-shadow(0px 1px 2px rgba(0, 0, 0, 0.3));\n",
              "      fill: #FFFFFF;\n",
              "    }\n",
              "  </style>\n",
              "\n",
              "      <script>\n",
              "        const buttonEl =\n",
              "          document.querySelector('#df-74fb4523-f4cf-46d8-a0ce-286e57441ac2 button.colab-df-convert');\n",
              "        buttonEl.style.display =\n",
              "          google.colab.kernel.accessAllowed ? 'block' : 'none';\n",
              "\n",
              "        async function convertToInteractive(key) {\n",
              "          const element = document.querySelector('#df-74fb4523-f4cf-46d8-a0ce-286e57441ac2');\n",
              "          const dataTable =\n",
              "            await google.colab.kernel.invokeFunction('convertToInteractive',\n",
              "                                                     [key], {});\n",
              "          if (!dataTable) return;\n",
              "\n",
              "          const docLinkHtml = 'Like what you see? Visit the ' +\n",
              "            '<a target=\"_blank\" href=https://colab.research.google.com/notebooks/data_table.ipynb>data table notebook</a>'\n",
              "            + ' to learn more about interactive tables.';\n",
              "          element.innerHTML = '';\n",
              "          dataTable['output_type'] = 'display_data';\n",
              "          await google.colab.output.renderOutput(dataTable, element);\n",
              "          const docLink = document.createElement('div');\n",
              "          docLink.innerHTML = docLinkHtml;\n",
              "          element.appendChild(docLink);\n",
              "        }\n",
              "      </script>\n",
              "    </div>\n",
              "  </div>\n",
              "  "
            ],
            "text/plain": [
              "                     importance\n",
              "baños                    0.5677\n",
              "localidad                0.1737\n",
              "region                   0.0969\n",
              "superficie_cubierta      0.0660\n",
              "tipo                     0.0352\n",
              "superficie               0.0207\n",
              "longitud                 0.0131\n",
              "dormitorios              0.0130\n",
              "latitud                  0.0073\n",
              "ambientes                0.0065"
            ]
          },
          "metadata": {},
          "execution_count": 464
        }
      ],
      "source": [
        "feature_importance = pd.DataFrame(data = xgboost.feature_importances_,\n",
        "                              index= [\"latitud\", \"longitud\", \"region\",\t\"localidad\",\n",
        "                                      \"ambientes\",\t\"dormitorios\",\t\"baños\",\t\"superficie\",\n",
        "                                      \"superficie_cubierta\",\t\"tipo\"],\n",
        "                                 columns = ['importance'])\n",
        " \n",
        "feature_importance.sort_values(by=['importance'], ascending = False)"
      ],
      "id": "7729ddf1"
    },
    {
      "cell_type": "code",
      "execution_count": null,
      "metadata": {
        "id": "4121fd79",
        "colab": {
          "base_uri": "https://localhost:8080/",
          "height": 618
        },
        "outputId": "894d58cb-d736-4c54-90f8-b5dd3af523e5"
      },
      "outputs": [
        {
          "output_type": "execute_result",
          "data": {
            "text/plain": [
              "<Figure size 1152x576 with 0 Axes>"
            ]
          },
          "metadata": {},
          "execution_count": 465
        },
        {
          "output_type": "execute_result",
          "data": {
            "text/plain": [
              "<matplotlib.axes._subplots.AxesSubplot at 0x7f4405d8e350>"
            ]
          },
          "metadata": {},
          "execution_count": 465
        },
        {
          "output_type": "execute_result",
          "data": {
            "text/plain": [
              "Text(0.5, 1.0, 'Importancia de los atributos')"
            ]
          },
          "metadata": {},
          "execution_count": 465
        },
        {
          "output_type": "execute_result",
          "data": {
            "text/plain": [
              "(array([0, 1, 2, 3, 4, 5, 6, 7, 8, 9]),\n",
              " <a list of 10 Text major ticklabel objects>)"
            ]
          },
          "metadata": {},
          "execution_count": 465
        },
        {
          "output_type": "execute_result",
          "data": {
            "text/plain": [
              "Text(0.5, 0, 'Atributos')"
            ]
          },
          "metadata": {},
          "execution_count": 465
        },
        {
          "output_type": "execute_result",
          "data": {
            "text/plain": [
              "Text(0, 0.5, 'Importancia')"
            ]
          },
          "metadata": {},
          "execution_count": 465
        },
        {
          "output_type": "display_data",
          "data": {
            "image/png": "[encoded data removed]",
            "text/plain": [
              "<Figure size 1152x576 with 1 Axes>"
            ]
          },
          "metadata": {}
        }
      ],
      "source": [
        "plt.figure(figsize = (16,8))\n",
        "\n",
        "sns.barplot(feature_importance.index,feature_importance.importance)\n",
        "\n",
        "plt.title('Importancia de los atributos')\n",
        "plt.xticks(rotation=45)\n",
        "plt.xlabel(\"Atributos\")\n",
        "plt.ylabel(\"Importancia\")\n",
        "plt.show()"
      ],
      "id": "4121fd79"
    },
    {
      "cell_type": "markdown",
      "metadata": {
        "id": "b2d79e06"
      },
      "source": [
        "##### Distribución de errores"
      ],
      "id": "b2d79e06"
    },
    {
      "cell_type": "code",
      "execution_count": null,
      "metadata": {
        "id": "0b315f54",
        "colab": {
          "base_uri": "https://localhost:8080/",
          "height": 554
        },
        "outputId": "92ac9f2f-7cda-44a1-9852-d076e2324a14"
      },
      "outputs": [
        {
          "output_type": "execute_result",
          "data": {
            "text/plain": [
              "<Figure size 1152x576 with 0 Axes>"
            ]
          },
          "metadata": {},
          "execution_count": 466
        },
        {
          "output_type": "execute_result",
          "data": {
            "text/plain": [
              "<matplotlib.axes._subplots.AxesSubplot at 0x7f43c6ecb0d0>"
            ]
          },
          "metadata": {},
          "execution_count": 466
        },
        {
          "output_type": "execute_result",
          "data": {
            "text/plain": [
              "<matplotlib.axes._subplots.AxesSubplot at 0x7f43c6ecb0d0>"
            ]
          },
          "metadata": {},
          "execution_count": 466
        },
        {
          "output_type": "execute_result",
          "data": {
            "text/plain": [
              "(-100000.0, 100000.0)"
            ]
          },
          "metadata": {},
          "execution_count": 466
        },
        {
          "output_type": "execute_result",
          "data": {
            "text/plain": [
              "Text(0.5, 1.0, 'Distribucion de los errores')"
            ]
          },
          "metadata": {},
          "execution_count": 466
        },
        {
          "output_type": "execute_result",
          "data": {
            "text/plain": [
              "<matplotlib.legend.Legend at 0x7f43ccedc790>"
            ]
          },
          "metadata": {},
          "execution_count": 466
        },
        {
          "output_type": "display_data",
          "data": {
            "image/png": "[encoded data removed]",
            "text/plain": [
              "<Figure size 1152x576 with 1 Axes>"
            ]
          },
          "metadata": {}
        }
      ],
      "source": [
        "errores_train = y_train - y_train_pred\n",
        "errores_test = y_test - y_test_pred\n",
        "\n",
        "plt.figure(figsize = (16,8))\n",
        "sns.distplot(errores_train, bins = 50, label = 'Train')\n",
        "sns.distplot(errores_test, bins = 50, label = 'Test')\n",
        "\n",
        "plt.xlim(-100000, 100000)\n",
        "\n",
        "plt.title('Distribucion de los errores')\n",
        "plt.legend()\n",
        "plt.show()"
      ],
      "id": "0b315f54"
    },
    {
      "cell_type": "markdown",
      "metadata": {
        "id": "199f2be3"
      },
      "source": [
        "Las curvas llevan una distribucion normal alrededor del 0, lo que indica un buen funcionamiento del modelo, y a diferencia del Random Forest, bastante uniforme. Aunque, se evidencia con mayor claridad el sobreajuste.\n",
        "\n",
        "Es importante destacar el patron de forma poligonal de ambas, el cual tambien se presento en Random Forest, pero de una manera mas sutil.\n",
        "\n",
        "Luego de comparar los modelos de Random Forest y XGBoost, tengo una preferencia con el ultimo mencionado. Principalmente, por su RMSE de test menor y mayor R2 score (lamentablemente con un sobreajuste), y tambien, por una distribucion de errores uniforme que carece de sesgo."
      ],
      "id": "199f2be3"
    },
    {
      "cell_type": "markdown",
      "metadata": {
        "id": "pZ34-W3HHHsB"
      },
      "source": [
        "# Requisitos Adicionales"
      ],
      "id": "pZ34-W3HHHsB"
    },
    {
      "cell_type": "markdown",
      "source": [
        "Se buscará determinar si un estudio mediante clustering permite distinguir los tipos de propiedad y con que porcentaje de acierto lo hace.\n",
        "\n",
        "Para ello utilizamos el data set resumido del primer proyecto\n"
      ],
      "metadata": {
        "id": "WxGXt0BWBr4p"
      },
      "id": "WxGXt0BWBr4p"
    },
    {
      "cell_type": "code",
      "source": [
        "dataset_cluster_validador = pd.read_csv(\"/content/gdrive/MyDrive/ACAMICA - DS/proyecto 2/DS_Proyecto_01_Datos_Properati.csv\")\n",
        "dataset_cluster_validador = pd.DataFrame(dataset_cluster_validador[dataset_cluster_validador.property_type.isin([\"Departamento\", \"PH\", \"Casa\"]) & dataset_cluster_validador.l2.isin([\"Capital Federal\"])])\n",
        "\n",
        "dataset_cluster_validador.columns = [\"inicio\", \"finalización\", \"creado\", \"latitud\", \"longitud\", \"pais\", \"region\", \"localidad\", \"ambientes\", \"dormitorios\", \"baños\", \"superficie\", \"superficie_cubierta\", \"precio\", \"moneda\", \"titulo\", \"descripcion\", \"tipo\", \"tipo_de_operacion\"]\n",
        "dataset_cluster = dataset_cluster_validador[[\"latitud\", \"longitud\", \"ambientes\", \"dormitorios\", \"baños\", \"superficie\", \"superficie_cubierta\", \"precio\", \"tipo\"]]\n",
        "dataset_cluster = dataset_cluster[(dataset_cluster.superficie >= 15) & (dataset_cluster.superficie <= 1000)]\n",
        "dataset_cluster = dataset_cluster[(dataset_cluster.precio <= 4000000)]\n",
        "dataset_cluster = dataset_cluster.dropna()\n",
        "\n",
        "# Reseteo index\n",
        "dataset_cluster.reset_index(drop = True, inplace = True)\n",
        "\n",
        "# respuestas correctas\n",
        "dataset_cluster_respuestas_correctas = dataset_cluster[[\"tipo\"]].copy() # separo las respuestas correctas que despues voy a unir\n",
        "dataset_cluster.drop(columns = ['tipo'], inplace = True) # elimino para poder entrenar\n",
        "\n",
        "\n",
        "print(\"nombres de las columnas: \", dataset_cluster.columns)\n",
        "print(\"cantidad de filas y columnas: \", dataset_cluster.shape)"
      ],
      "metadata": {
        "id": "oahUT1akgPAf",
        "colab": {
          "base_uri": "https://localhost:8080/"
        },
        "outputId": "ab02b154-c21a-458a-b132-457546ede333"
      },
      "id": "oahUT1akgPAf",
      "execution_count": null,
      "outputs": [
        {
          "output_type": "stream",
          "name": "stdout",
          "text": [
            "nombres de las columnas:  Index(['latitud', 'longitud', 'ambientes', 'dormitorios', 'baños',\n",
            "       'superficie', 'superficie_cubierta', 'precio'],\n",
            "      dtype='object')\n",
            "cantidad de filas y columnas:  (76771, 8)\n"
          ]
        }
      ]
    },
    {
      "cell_type": "code",
      "source": [
        "dataset_cluster"
      ],
      "metadata": {
        "id": "t9q8fNa0vgl5",
        "colab": {
          "base_uri": "https://localhost:8080/",
          "height": 423
        },
        "outputId": "16f8622a-e51c-47bd-9b5b-20d1db195f06"
      },
      "id": "t9q8fNa0vgl5",
      "execution_count": null,
      "outputs": [
        {
          "output_type": "execute_result",
          "data": {
            "text/html": [
              "\n",
              "  <div id=\"df-a4df3325-1e22-40d5-b61e-9bbc81bd54b7\">\n",
              "    <div class=\"colab-df-container\">\n",
              "      <div>\n",
              "<style scoped>\n",
              "    .dataframe tbody tr th:only-of-type {\n",
              "        vertical-align: middle;\n",
              "    }\n",
              "\n",
              "    .dataframe tbody tr th {\n",
              "        vertical-align: top;\n",
              "    }\n",
              "\n",
              "    .dataframe thead th {\n",
              "        text-align: right;\n",
              "    }\n",
              "</style>\n",
              "<table border=\"1\" class=\"dataframe\">\n",
              "  <thead>\n",
              "    <tr style=\"text-align: right;\">\n",
              "      <th></th>\n",
              "      <th>latitud</th>\n",
              "      <th>longitud</th>\n",
              "      <th>ambientes</th>\n",
              "      <th>dormitorios</th>\n",
              "      <th>baños</th>\n",
              "      <th>superficie</th>\n",
              "      <th>superficie_cubierta</th>\n",
              "      <th>precio</th>\n",
              "    </tr>\n",
              "  </thead>\n",
              "  <tbody>\n",
              "    <tr>\n",
              "      <th>0</th>\n",
              "      <td>-34.6059</td>\n",
              "      <td>-58.3849</td>\n",
              "      <td>7.0000</td>\n",
              "      <td>7.0000</td>\n",
              "      <td>2.0000</td>\n",
              "      <td>140.0000</td>\n",
              "      <td>140.0000</td>\n",
              "      <td>153000.0000</td>\n",
              "    </tr>\n",
              "    <tr>\n",
              "      <th>1</th>\n",
              "      <td>-34.6241</td>\n",
              "      <td>-58.4121</td>\n",
              "      <td>2.0000</td>\n",
              "      <td>1.0000</td>\n",
              "      <td>2.0000</td>\n",
              "      <td>70.0000</td>\n",
              "      <td>58.0000</td>\n",
              "      <td>159000.0000</td>\n",
              "    </tr>\n",
              "    <tr>\n",
              "      <th>2</th>\n",
              "      <td>-34.5936</td>\n",
              "      <td>-58.4275</td>\n",
              "      <td>2.0000</td>\n",
              "      <td>1.0000</td>\n",
              "      <td>1.0000</td>\n",
              "      <td>45.0000</td>\n",
              "      <td>45.0000</td>\n",
              "      <td>125000.0000</td>\n",
              "    </tr>\n",
              "    <tr>\n",
              "      <th>3</th>\n",
              "      <td>-34.5813</td>\n",
              "      <td>-58.4368</td>\n",
              "      <td>2.0000</td>\n",
              "      <td>1.0000</td>\n",
              "      <td>1.0000</td>\n",
              "      <td>85.0000</td>\n",
              "      <td>50.0000</td>\n",
              "      <td>295000.0000</td>\n",
              "    </tr>\n",
              "    <tr>\n",
              "      <th>4</th>\n",
              "      <td>-34.5938</td>\n",
              "      <td>-58.4412</td>\n",
              "      <td>2.0000</td>\n",
              "      <td>1.0000</td>\n",
              "      <td>1.0000</td>\n",
              "      <td>56.0000</td>\n",
              "      <td>56.0000</td>\n",
              "      <td>150000.0000</td>\n",
              "    </tr>\n",
              "    <tr>\n",
              "      <th>...</th>\n",
              "      <td>...</td>\n",
              "      <td>...</td>\n",
              "      <td>...</td>\n",
              "      <td>...</td>\n",
              "      <td>...</td>\n",
              "      <td>...</td>\n",
              "      <td>...</td>\n",
              "      <td>...</td>\n",
              "    </tr>\n",
              "    <tr>\n",
              "      <th>76766</th>\n",
              "      <td>-34.5813</td>\n",
              "      <td>-58.4312</td>\n",
              "      <td>4.0000</td>\n",
              "      <td>3.0000</td>\n",
              "      <td>2.0000</td>\n",
              "      <td>106.0000</td>\n",
              "      <td>100.0000</td>\n",
              "      <td>620000.0000</td>\n",
              "    </tr>\n",
              "    <tr>\n",
              "      <th>76767</th>\n",
              "      <td>-34.5854</td>\n",
              "      <td>-58.4272</td>\n",
              "      <td>4.0000</td>\n",
              "      <td>3.0000</td>\n",
              "      <td>3.0000</td>\n",
              "      <td>175.0000</td>\n",
              "      <td>111.0000</td>\n",
              "      <td>570000.0000</td>\n",
              "    </tr>\n",
              "    <tr>\n",
              "      <th>76768</th>\n",
              "      <td>-34.5854</td>\n",
              "      <td>-58.4272</td>\n",
              "      <td>3.0000</td>\n",
              "      <td>2.0000</td>\n",
              "      <td>2.0000</td>\n",
              "      <td>144.0000</td>\n",
              "      <td>134.0000</td>\n",
              "      <td>480000.0000</td>\n",
              "    </tr>\n",
              "    <tr>\n",
              "      <th>76769</th>\n",
              "      <td>-34.5841</td>\n",
              "      <td>-58.4364</td>\n",
              "      <td>4.0000</td>\n",
              "      <td>2.0000</td>\n",
              "      <td>2.0000</td>\n",
              "      <td>317.0000</td>\n",
              "      <td>143.0000</td>\n",
              "      <td>530000.0000</td>\n",
              "    </tr>\n",
              "    <tr>\n",
              "      <th>76770</th>\n",
              "      <td>-34.5840</td>\n",
              "      <td>-58.4176</td>\n",
              "      <td>3.0000</td>\n",
              "      <td>2.0000</td>\n",
              "      <td>2.0000</td>\n",
              "      <td>145.0000</td>\n",
              "      <td>145.0000</td>\n",
              "      <td>420000.0000</td>\n",
              "    </tr>\n",
              "  </tbody>\n",
              "</table>\n",
              "<p>76771 rows × 8 columns</p>\n",
              "</div>\n",
              "      <button class=\"colab-df-convert\" onclick=\"convertToInteractive('df-a4df3325-1e22-40d5-b61e-9bbc81bd54b7')\"\n",
              "              title=\"Convert this dataframe to an interactive table.\"\n",
              "              style=\"display:none;\">\n",
              "        \n",
              "  <svg xmlns=\"http://www.w3.org/2000/svg\" height=\"24px\"viewBox=\"0 0 24 24\"\n",
              "       width=\"24px\">\n",
              "    <path d=\"M0 0h24v24H0V0z\" fill=\"none\"/>\n",
              "    <path d=\"M18.56 5.44l.94 2.06.94-2.06 2.06-.94-2.06-.94-.94-2.06-.94 2.06-2.06.94zm-11 1L8.5 8.5l.94-2.06 2.06-.94-2.06-.94L8.5 2.5l-.94 2.06-2.06.94zm10 10l.94 2.06.94-2.06 2.06-.94-2.06-.94-.94-2.06-.94 2.06-2.06.94z\"/><path d=\"M17.41 7.96l-1.37-1.37c-.4-.4-.92-.59-1.43-.59-.52 0-1.04.2-1.43.59L10.3 9.45l-7.72 7.72c-.78.78-.78 2.05 0 2.83L4 21.41c.39.39.9.59 1.41.59.51 0 1.02-.2 1.41-.59l7.78-7.78 2.81-2.81c.8-.78.8-2.07 0-2.86zM5.41 20L4 18.59l7.72-7.72 1.47 1.35L5.41 20z\"/>\n",
              "  </svg>\n",
              "      </button>\n",
              "      \n",
              "  <style>\n",
              "    .colab-df-container {\n",
              "      display:flex;\n",
              "      flex-wrap:wrap;\n",
              "      gap: 12px;\n",
              "    }\n",
              "\n",
              "    .colab-df-convert {\n",
              "      background-color: #E8F0FE;\n",
              "      border: none;\n",
              "      border-radius: 50%;\n",
              "      cursor: pointer;\n",
              "      display: none;\n",
              "      fill: #1967D2;\n",
              "      height: 32px;\n",
              "      padding: 0 0 0 0;\n",
              "      width: 32px;\n",
              "    }\n",
              "\n",
              "    .colab-df-convert:hover {\n",
              "      background-color: #E2EBFA;\n",
              "      box-shadow: 0px 1px 2px rgba(60, 64, 67, 0.3), 0px 1px 3px 1px rgba(60, 64, 67, 0.15);\n",
              "      fill: #174EA6;\n",
              "    }\n",
              "\n",
              "    [theme=dark] .colab-df-convert {\n",
              "      background-color: #3B4455;\n",
              "      fill: #D2E3FC;\n",
              "    }\n",
              "\n",
              "    [theme=dark] .colab-df-convert:hover {\n",
              "      background-color: #434B5C;\n",
              "      box-shadow: 0px 1px 3px 1px rgba(0, 0, 0, 0.15);\n",
              "      filter: drop-shadow(0px 1px 2px rgba(0, 0, 0, 0.3));\n",
              "      fill: #FFFFFF;\n",
              "    }\n",
              "  </style>\n",
              "\n",
              "      <script>\n",
              "        const buttonEl =\n",
              "          document.querySelector('#df-a4df3325-1e22-40d5-b61e-9bbc81bd54b7 button.colab-df-convert');\n",
              "        buttonEl.style.display =\n",
              "          google.colab.kernel.accessAllowed ? 'block' : 'none';\n",
              "\n",
              "        async function convertToInteractive(key) {\n",
              "          const element = document.querySelector('#df-a4df3325-1e22-40d5-b61e-9bbc81bd54b7');\n",
              "          const dataTable =\n",
              "            await google.colab.kernel.invokeFunction('convertToInteractive',\n",
              "                                                     [key], {});\n",
              "          if (!dataTable) return;\n",
              "\n",
              "          const docLinkHtml = 'Like what you see? Visit the ' +\n",
              "            '<a target=\"_blank\" href=https://colab.research.google.com/notebooks/data_table.ipynb>data table notebook</a>'\n",
              "            + ' to learn more about interactive tables.';\n",
              "          element.innerHTML = '';\n",
              "          dataTable['output_type'] = 'display_data';\n",
              "          await google.colab.output.renderOutput(dataTable, element);\n",
              "          const docLink = document.createElement('div');\n",
              "          docLink.innerHTML = docLinkHtml;\n",
              "          element.appendChild(docLink);\n",
              "        }\n",
              "      </script>\n",
              "    </div>\n",
              "  </div>\n",
              "  "
            ],
            "text/plain": [
              "       latitud  longitud  ambientes  dormitorios  baños  superficie  \\\n",
              "0     -34.6059  -58.3849     7.0000       7.0000 2.0000    140.0000   \n",
              "1     -34.6241  -58.4121     2.0000       1.0000 2.0000     70.0000   \n",
              "2     -34.5936  -58.4275     2.0000       1.0000 1.0000     45.0000   \n",
              "3     -34.5813  -58.4368     2.0000       1.0000 1.0000     85.0000   \n",
              "4     -34.5938  -58.4412     2.0000       1.0000 1.0000     56.0000   \n",
              "...        ...       ...        ...          ...    ...         ...   \n",
              "76766 -34.5813  -58.4312     4.0000       3.0000 2.0000    106.0000   \n",
              "76767 -34.5854  -58.4272     4.0000       3.0000 3.0000    175.0000   \n",
              "76768 -34.5854  -58.4272     3.0000       2.0000 2.0000    144.0000   \n",
              "76769 -34.5841  -58.4364     4.0000       2.0000 2.0000    317.0000   \n",
              "76770 -34.5840  -58.4176     3.0000       2.0000 2.0000    145.0000   \n",
              "\n",
              "       superficie_cubierta      precio  \n",
              "0                 140.0000 153000.0000  \n",
              "1                  58.0000 159000.0000  \n",
              "2                  45.0000 125000.0000  \n",
              "3                  50.0000 295000.0000  \n",
              "4                  56.0000 150000.0000  \n",
              "...                    ...         ...  \n",
              "76766             100.0000 620000.0000  \n",
              "76767             111.0000 570000.0000  \n",
              "76768             134.0000 480000.0000  \n",
              "76769             143.0000 530000.0000  \n",
              "76770             145.0000 420000.0000  \n",
              "\n",
              "[76771 rows x 8 columns]"
            ]
          },
          "metadata": {},
          "execution_count": 506
        }
      ]
    },
    {
      "cell_type": "code",
      "source": [
        "from sklearn.cluster import KMeans"
      ],
      "metadata": {
        "id": "Tv0RRxMlk10I"
      },
      "id": "Tv0RRxMlk10I",
      "execution_count": null,
      "outputs": []
    },
    {
      "cell_type": "code",
      "source": [
        "# Especificamos el numero adecuado de clusters en cada caso\n",
        "kmeans = KMeans(n_clusters=3, random_state=0)"
      ],
      "metadata": {
        "id": "WldIDxud0vwx"
      },
      "id": "WldIDxud0vwx",
      "execution_count": null,
      "outputs": []
    },
    {
      "cell_type": "markdown",
      "source": [
        "Elegimos 3 cluster para ver si diferencia PH, Casas y departamentos"
      ],
      "metadata": {
        "id": "20J1Oh7b1vFq"
      },
      "id": "20J1Oh7b1vFq"
    },
    {
      "cell_type": "code",
      "source": [
        "kmeans.fit(dataset_cluster)"
      ],
      "metadata": {
        "id": "8I6QKHaM05o5",
        "colab": {
          "base_uri": "https://localhost:8080/"
        },
        "outputId": "34a11f0e-0d61-4f78-9d58-65293a89fc15"
      },
      "id": "8I6QKHaM05o5",
      "execution_count": null,
      "outputs": [
        {
          "output_type": "execute_result",
          "data": {
            "text/plain": [
              "KMeans(n_clusters=3, random_state=0)"
            ]
          },
          "metadata": {},
          "execution_count": 509
        }
      ]
    },
    {
      "cell_type": "code",
      "source": [
        "etiquetas = kmeans.labels_\n",
        "print(etiquetas.shape)"
      ],
      "metadata": {
        "colab": {
          "base_uri": "https://localhost:8080/"
        },
        "id": "NaKeKQvknx-I",
        "outputId": "f883d745-758f-450d-92a3-30c4154a8a9f"
      },
      "id": "NaKeKQvknx-I",
      "execution_count": null,
      "outputs": [
        {
          "output_type": "stream",
          "name": "stdout",
          "text": [
            "(76771,)\n"
          ]
        }
      ]
    },
    {
      "cell_type": "code",
      "source": [
        "dataset_cluster_grafico = dataset_cluster.values"
      ],
      "metadata": {
        "id": "h6mCNPH-n0dY"
      },
      "id": "h6mCNPH-n0dY",
      "execution_count": null,
      "outputs": []
    },
    {
      "cell_type": "code",
      "source": [
        "sns.scatterplot (dataset_cluster_grafico[:,0], dataset_cluster_grafico[:,-1], hue = etiquetas, c = etiquetas)\n",
        "sns.scatterplot(centros[:, 0], centros[:, 1],color='black', marker=\"+\")\n"
      ],
      "metadata": {
        "colab": {
          "base_uri": "https://localhost:8080/",
          "height": 294
        },
        "id": "42-uxUz6n1Ev",
        "outputId": "21f253e6-6dd2-466e-8207-ff5ed283053d"
      },
      "id": "42-uxUz6n1Ev",
      "execution_count": null,
      "outputs": [
        {
          "output_type": "execute_result",
          "data": {
            "text/plain": [
              "<matplotlib.axes._subplots.AxesSubplot at 0x7f43cf0d76d0>"
            ]
          },
          "metadata": {},
          "execution_count": 512
        },
        {
          "output_type": "execute_result",
          "data": {
            "text/plain": [
              "<matplotlib.axes._subplots.AxesSubplot at 0x7f43cf0d76d0>"
            ]
          },
          "metadata": {},
          "execution_count": 512
        },
        {
          "output_type": "display_data",
          "data": {
            "image/png": "[encoded data removed]",
            "text/plain": [
              "<Figure size 432x288 with 1 Axes>"
            ]
          },
          "metadata": {}
        }
      ]
    },
    {
      "cell_type": "code",
      "source": [
        "etiquetas = pd.DataFrame(kmeans.labels_, columns = ['etiquetas_kmeans'])\n",
        "print(etiquetas.shape)     "
      ],
      "metadata": {
        "id": "aeT2tZEM1SIN",
        "colab": {
          "base_uri": "https://localhost:8080/"
        },
        "outputId": "f58eadba-082e-4cd3-d54b-fe0891974bd1"
      },
      "id": "aeT2tZEM1SIN",
      "execution_count": null,
      "outputs": [
        {
          "output_type": "stream",
          "name": "stdout",
          "text": [
            "(76771, 1)\n"
          ]
        }
      ]
    },
    {
      "cell_type": "code",
      "source": [
        "print (etiquetas)"
      ],
      "metadata": {
        "colab": {
          "base_uri": "https://localhost:8080/"
        },
        "id": "NDWiPTKIlbq0",
        "outputId": "72629c14-6266-414f-8ccf-bb2504170196"
      },
      "id": "NDWiPTKIlbq0",
      "execution_count": null,
      "outputs": [
        {
          "output_type": "stream",
          "name": "stdout",
          "text": [
            "       etiquetas_kmeans\n",
            "0                     0\n",
            "1                     0\n",
            "2                     0\n",
            "3                     0\n",
            "4                     0\n",
            "...                 ...\n",
            "76766                 2\n",
            "76767                 2\n",
            "76768                 2\n",
            "76769                 2\n",
            "76770                 0\n",
            "\n",
            "[76771 rows x 1 columns]\n"
          ]
        }
      ]
    },
    {
      "cell_type": "code",
      "source": [
        "dataset_cluster_respuestas_correctas = pd.merge(dataset_cluster_respuestas_correctas, etiquetas, how = 'left', left_index = True, right_index = True)"
      ],
      "metadata": {
        "id": "rf-eMpL1DlC7"
      },
      "id": "rf-eMpL1DlC7",
      "execution_count": null,
      "outputs": []
    },
    {
      "cell_type": "code",
      "source": [
        "df_bien_depto = dataset_cluster_respuestas_correctas[dataset_cluster_respuestas_correctas.tipo == 'Departamento'].copy()\n",
        "df_bien_depto.etiquetas_kmeans.value_counts()\n",
        "# si el resultado es 100% una etiqueta 0% 0% las otras dos, es perfecto; si da 33% 33% 33%; es porque no lo pudo diferenciar"
      ],
      "metadata": {
        "id": "TA3x5ssmD8nG",
        "colab": {
          "base_uri": "https://localhost:8080/"
        },
        "outputId": "457f626b-6731-4120-8b58-09ff173c4421"
      },
      "id": "TA3x5ssmD8nG",
      "execution_count": null,
      "outputs": [
        {
          "output_type": "execute_result",
          "data": {
            "text/plain": [
              "0    58767\n",
              "2     5715\n",
              "1      847\n",
              "Name: etiquetas_kmeans, dtype: int64"
            ]
          },
          "metadata": {},
          "execution_count": 516
        }
      ]
    },
    {
      "cell_type": "markdown",
      "source": [
        "Observamos que diferenció bien la mayor parte de las etiquetas. Pero con un desvío mayor a los modelos anteriores."
      ],
      "metadata": {
        "id": "U1EjW4jkmn7z"
      },
      "id": "U1EjW4jkmn7z"
    },
    {
      "cell_type": "code",
      "source": [
        "centros = kmeans.cluster_centers_\n",
        "print(centros)"
      ],
      "metadata": {
        "id": "u-niuw-X1SxA",
        "colab": {
          "base_uri": "https://localhost:8080/"
        },
        "outputId": "a5da5a25-1001-4782-9ac6-41b7040c1a1d"
      },
      "id": "u-niuw-X1SxA",
      "execution_count": null,
      "outputs": [
        {
          "output_type": "stream",
          "name": "stdout",
          "text": [
            "[[-3.45995016e+01 -5.84369930e+01  2.83014537e+00  1.87235640e+00\n",
            "   1.38757922e+00  8.01526180e+01  7.11042139e+01  1.87679472e+05]\n",
            " [-3.45856993e+01 -5.84019280e+01  5.22196796e+00  3.50915332e+00\n",
            "   3.85926773e+00  3.56465675e+02  3.17203661e+02  2.15863907e+06]\n",
            " [-3.45875462e+01 -5.84166892e+01  4.53139149e+00  3.11500151e+00\n",
            "   2.79957742e+00  2.11534561e+02  1.92458044e+02  7.22791129e+05]]\n"
          ]
        }
      ]
    },
    {
      "cell_type": "code",
      "source": [
        "df_depto_verdad = dataset_cluster_validador.tipo == 'Departamento'\n",
        "\n",
        "df_depto_verdad"
      ],
      "metadata": {
        "id": "wEgllCLTumE7",
        "colab": {
          "base_uri": "https://localhost:8080/"
        },
        "outputId": "4654142a-80c6-4854-bc7e-4166be4ce9d5"
      },
      "id": "wEgllCLTumE7",
      "execution_count": null,
      "outputs": [
        {
          "output_type": "execute_result",
          "data": {
            "text/plain": [
              "0          True\n",
              "1         False\n",
              "2         False\n",
              "3         False\n",
              "5         False\n",
              "          ...  \n",
              "146554    False\n",
              "146555    False\n",
              "146556    False\n",
              "146557     True\n",
              "146558     True\n",
              "Name: tipo, Length: 91485, dtype: bool"
            ]
          },
          "metadata": {},
          "execution_count": 518
        }
      ]
    },
    {
      "cell_type": "code",
      "source": [
        "df_depto_verdad.value_counts()"
      ],
      "metadata": {
        "id": "qROf6853we9e",
        "colab": {
          "base_uri": "https://localhost:8080/"
        },
        "outputId": "0a83f446-ecb3-4689-b9e9-589471c596f2"
      },
      "id": "qROf6853we9e",
      "execution_count": null,
      "outputs": [
        {
          "output_type": "execute_result",
          "data": {
            "text/plain": [
              "True     79029\n",
              "False    12456\n",
              "Name: tipo, dtype: int64"
            ]
          },
          "metadata": {},
          "execution_count": 519
        }
      ]
    },
    {
      "cell_type": "markdown",
      "source": [
        "#Conclusión de Requisitos Adicionales\n",
        "\n",
        "###Se observa a simple vista que la cantidad de departamentos en el original es de 79029 departamentos, mientras que el clustering dividió en 3 cluster, siendo el más cercano al número anterior de 69271.\n",
        "\n",
        "###Suponiendo que está adjuntando departamentos en ese primer cluster, ya tenemos una diferencia de casi 10.000.\n",
        "\n",
        "###Esto demuestra que utilizar esta forma de transformación y este modelo, no es una opción viable. Cómo se suponia previo realizarla"
      ],
      "metadata": {
        "id": "ElXX6y-gyNMQ"
      },
      "id": "ElXX6y-gyNMQ"
    },
    {
      "cell_type": "markdown",
      "source": [
        "#Conclusiones del sprint\n",
        "\n",
        "##Como conclusiones finales del sprint, queda demostrado que para este tipo de proyectos los modelos supervisados tienen mayor distinción y logran mejores resultados.\n",
        "\n",
        "##Por otro lado, tener mayor cantidad de datos y de buena calidad, logran que los modelos predigan con menos errores, lo cuál un buen análisis previo de los mismos es determinante."
      ],
      "metadata": {
        "id": "9a4d8rV-fatP"
      },
      "id": "9a4d8rV-fatP"
    }
  ],
  "metadata": {
    "colab": {
      "name": "GiulianoFassano_Proyecto2_13_9.ipynb",
      "provenance": [],
      "collapsed_sections": [],
      "include_colab_link": true
    },
    "kernelspec": {
      "display_name": "Python 3",
      "language": "python",
      "name": "python3"
    },
    "language_info": {
      "codemirror_mode": {
        "name": "ipython",
        "version": 3
      },
      "file_extension": ".py",
      "mimetype": "text/x-python",
      "name": "python",
      "nbconvert_exporter": "python",
      "pygments_lexer": "ipython3",
      "version": "3.9.5"
    },
    "accelerator": "TPU"
  },
  "nbformat": 4,
  "nbformat_minor": 5
}